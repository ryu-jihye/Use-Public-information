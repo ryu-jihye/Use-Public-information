{
  "nbformat": 4,
  "nbformat_minor": 0,
  "metadata": {
    "colab": {
      "name": "경기상권분석",
      "provenance": [],
      "collapsed_sections": [],
      "mount_file_id": "1_PDkQ0-XLoSXzfvaDu9CyRlBU-W4X5JB",
      "authorship_tag": "ABX9TyMFbQU4lIwlrdsKFSR+1S2x",
      "include_colab_link": true
    },
    "kernelspec": {
      "name": "python3",
      "display_name": "Python 3"
    }
  },
  "cells": [
    {
      "cell_type": "markdown",
      "metadata": {
        "id": "view-in-github",
        "colab_type": "text"
      },
      "source": [
        "<a href=\"https://colab.research.google.com/github/ryu-jihye/Use-Public-information/blob/main/%EA%B2%BD%EA%B8%B0%EC%83%81%EA%B6%8C%EB%B6%84%EC%84%9D-%EB%82%A8%EC%96%91%EC%A3%BC(%EC%8A%A4%ED%83%80%EB%B2%85%EC%8A%A4%26%EB%B0%B0%EC%8A%A4%ED%82%A8%EB%9D%BC%EB%B9%88%EC%8A%A4).ipynb\" target=\"_parent\"><img src=\"https://colab.research.google.com/assets/colab-badge.svg\" alt=\"Open In Colab\"/></a>"
      ]
    },
    {
      "cell_type": "code",
      "metadata": {
        "colab": {
          "base_uri": "https://localhost:8080/"
        },
        "id": "2cvbxS4wc59H",
        "outputId": "b4014154-34c5-4851-ba55-a450f29cca25"
      },
      "source": [
        "!sudo apt-get install -y fonts-nanum\n",
        "!sudo fc-cache -fv\n",
        "!rm ~/.cache/matplotlib -rf"
      ],
      "execution_count": null,
      "outputs": [
        {
          "output_type": "stream",
          "text": [
            "Reading package lists... Done\n",
            "Building dependency tree       \n",
            "Reading state information... Done\n",
            "fonts-nanum is already the newest version (20170925-1).\n",
            "0 upgraded, 0 newly installed, 0 to remove and 14 not upgraded.\n",
            "/usr/share/fonts: caching, new cache contents: 0 fonts, 1 dirs\n",
            "/usr/share/fonts/truetype: caching, new cache contents: 0 fonts, 3 dirs\n",
            "/usr/share/fonts/truetype/humor-sans: caching, new cache contents: 1 fonts, 0 dirs\n",
            "/usr/share/fonts/truetype/liberation: caching, new cache contents: 16 fonts, 0 dirs\n",
            "/usr/share/fonts/truetype/nanum: caching, new cache contents: 10 fonts, 0 dirs\n",
            "/usr/local/share/fonts: caching, new cache contents: 0 fonts, 0 dirs\n",
            "/root/.local/share/fonts: skipping, no such directory\n",
            "/root/.fonts: skipping, no such directory\n",
            "/var/cache/fontconfig: cleaning cache directory\n",
            "/root/.cache/fontconfig: not cleaning non-existent cache directory\n",
            "/root/.fontconfig: not cleaning non-existent cache directory\n",
            "fc-cache: succeeded\n"
          ],
          "name": "stdout"
        }
      ]
    },
    {
      "cell_type": "code",
      "metadata": {
        "id": "n0Pkk_8cdk5P"
      },
      "source": [
        "import matplotlib.pyplot as plt\n",
        "plt.rc('font', family='NanumBarunGothic') "
      ],
      "execution_count": null,
      "outputs": []
    },
    {
      "cell_type": "code",
      "metadata": {
        "id": "9zbzbVi1dmjT"
      },
      "source": [
        "from IPython.display import set_matplotlib_formats\n",
        "\n",
        "set_matplotlib_formats(\"retina\")"
      ],
      "execution_count": null,
      "outputs": []
    },
    {
      "cell_type": "code",
      "metadata": {
        "id": "ebKm5tU0d0j2"
      },
      "source": [
        "import pandas as pd\n",
        "import numpy as np\n",
        "import seaborn as sns\n",
        "import matplotlib.pyplot as plt"
      ],
      "execution_count": null,
      "outputs": []
    },
    {
      "cell_type": "code",
      "metadata": {
        "colab": {
          "base_uri": "https://localhost:8080/",
          "height": 369
        },
        "id": "xSf2pSPydpL3",
        "outputId": "621ddcca-4a7c-4d27-9173-5ac2d56c5fc0"
      },
      "source": [
        "plt.title(\"한글폰트 설정\")\n",
        "plt.plot([-4, -6, 1, 2, 0, 3])"
      ],
      "execution_count": null,
      "outputs": [
        {
          "output_type": "execute_result",
          "data": {
            "text/plain": [
              "[<matplotlib.lines.Line2D at 0x7f185b3218d0>]"
            ]
          },
          "metadata": {
            "tags": []
          },
          "execution_count": 4
        },
        {
          "output_type": "stream",
          "text": [
            "/usr/local/lib/python3.6/dist-packages/matplotlib/backends/backend_agg.py:214: RuntimeWarning: Glyph 8722 missing from current font.\n",
            "  font.set_text(s, 0.0, flags=flags)\n",
            "/usr/local/lib/python3.6/dist-packages/matplotlib/backends/backend_agg.py:183: RuntimeWarning: Glyph 8722 missing from current font.\n",
            "  font.set_text(s, 0, flags=flags)\n"
          ],
          "name": "stderr"
        },
        {
          "output_type": "display_data",
          "data": {
            "image/png": "[encoded data removed]",
            "text/plain": [
              "<Figure size 432x288 with 1 Axes>"
            ]
          },
          "metadata": {
            "tags": [],
            "image/png": {
              "width": 364,
              "height": 265
            },
            "needs_background": "light"
          }
        }
      ]
    },
    {
      "cell_type": "code",
      "metadata": {
        "id": "pAsDyBN8j0gz",
        "colab": {
          "base_uri": "https://localhost:8080/",
          "height": 1000
        },
        "outputId": "a5c9b773-d635-422c-fdb0-e7a129ccbf41"
      },
      "source": [
        "df = pd.read_csv(\"sample_data/소상공인시장진흥공단_상가(상권)정보_경기_202009.csv\", sep='|')\r\n",
        "df.head()"
      ],
      "execution_count": 23,
      "outputs": [
        {
          "output_type": "stream",
          "text": [
            "/usr/local/lib/python3.6/dist-packages/IPython/core/interactiveshell.py:2718: DtypeWarning: Columns (35) have mixed types.Specify dtype option on import or set low_memory=False.\n",
            "  interactivity=interactivity, compiler=compiler, result=result)\n"
          ],
          "name": "stderr"
        },
        {
          "output_type": "execute_result",
          "data": {
            "text/html": [
              "<div>\n",
              "<style scoped>\n",
              "    .dataframe tbody tr th:only-of-type {\n",
              "        vertical-align: middle;\n",
              "    }\n",
              "\n",
              "    .dataframe tbody tr th {\n",
              "        vertical-align: top;\n",
              "    }\n",
              "\n",
              "    .dataframe thead th {\n",
              "        text-align: right;\n",
              "    }\n",
              "</style>\n",
              "<table border=\"1\" class=\"dataframe\">\n",
              "  <thead>\n",
              "    <tr style=\"text-align: right;\">\n",
              "      <th></th>\n",
              "      <th>상가업소번호</th>\n",
              "      <th>상호명</th>\n",
              "      <th>지점명</th>\n",
              "      <th>상권업종대분류코드</th>\n",
              "      <th>상권업종대분류명</th>\n",
              "      <th>상권업종중분류코드</th>\n",
              "      <th>상권업종중분류명</th>\n",
              "      <th>상권업종소분류코드</th>\n",
              "      <th>상권업종소분류명</th>\n",
              "      <th>표준산업분류코드</th>\n",
              "      <th>표준산업분류명</th>\n",
              "      <th>시도코드</th>\n",
              "      <th>시도명</th>\n",
              "      <th>시군구코드</th>\n",
              "      <th>시군구명</th>\n",
              "      <th>행정동코드</th>\n",
              "      <th>행정동명</th>\n",
              "      <th>법정동코드</th>\n",
              "      <th>법정동명</th>\n",
              "      <th>지번코드</th>\n",
              "      <th>대지구분코드</th>\n",
              "      <th>대지구분명</th>\n",
              "      <th>지번본번지</th>\n",
              "      <th>지번부번지</th>\n",
              "      <th>지번주소</th>\n",
              "      <th>도로명코드</th>\n",
              "      <th>도로명</th>\n",
              "      <th>건물본번지</th>\n",
              "      <th>건물부번지</th>\n",
              "      <th>건물관리번호</th>\n",
              "      <th>건물명</th>\n",
              "      <th>도로명주소</th>\n",
              "      <th>구우편번호</th>\n",
              "      <th>신우편번호</th>\n",
              "      <th>동정보</th>\n",
              "      <th>층정보</th>\n",
              "      <th>호정보</th>\n",
              "      <th>경도</th>\n",
              "      <th>위도</th>\n",
              "    </tr>\n",
              "  </thead>\n",
              "  <tbody>\n",
              "    <tr>\n",
              "      <th>0</th>\n",
              "      <td>19943193</td>\n",
              "      <td>프리즐</td>\n",
              "      <td>NaN</td>\n",
              "      <td>Q</td>\n",
              "      <td>음식</td>\n",
              "      <td>Q04</td>\n",
              "      <td>분식</td>\n",
              "      <td>Q04A01</td>\n",
              "      <td>라면김밥분식</td>\n",
              "      <td>I56194</td>\n",
              "      <td>분식 및 김밥 전문점</td>\n",
              "      <td>41</td>\n",
              "      <td>경기도</td>\n",
              "      <td>41360</td>\n",
              "      <td>남양주시</td>\n",
              "      <td>4136025300</td>\n",
              "      <td>진접읍</td>\n",
              "      <td>4.136025e+09</td>\n",
              "      <td>진접읍</td>\n",
              "      <td>4136025321206720001</td>\n",
              "      <td>1</td>\n",
              "      <td>대지</td>\n",
              "      <td>672</td>\n",
              "      <td>1.0</td>\n",
              "      <td>경기도 남양주시 진접읍 장현리 672-1</td>\n",
              "      <td>413603197028</td>\n",
              "      <td>경기도 남양주시 진접읍 봉현로</td>\n",
              "      <td>14</td>\n",
              "      <td>NaN</td>\n",
              "      <td>4136025321106720001024396</td>\n",
              "      <td>NaN</td>\n",
              "      <td>경기도 남양주시 진접읍 봉현로 14</td>\n",
              "      <td>472865.0</td>\n",
              "      <td>12013.0</td>\n",
              "      <td>NaN</td>\n",
              "      <td>3</td>\n",
              "      <td>NaN</td>\n",
              "      <td>127.181143</td>\n",
              "      <td>37.715402</td>\n",
              "    </tr>\n",
              "    <tr>\n",
              "      <th>1</th>\n",
              "      <td>19943449</td>\n",
              "      <td>최씨네별난맛집</td>\n",
              "      <td>NaN</td>\n",
              "      <td>Q</td>\n",
              "      <td>음식</td>\n",
              "      <td>Q01</td>\n",
              "      <td>한식</td>\n",
              "      <td>Q01A01</td>\n",
              "      <td>한식/백반/한정식</td>\n",
              "      <td>I56111</td>\n",
              "      <td>한식 음식점업</td>\n",
              "      <td>41</td>\n",
              "      <td>경기도</td>\n",
              "      <td>41250</td>\n",
              "      <td>동두천시</td>\n",
              "      <td>4125056500</td>\n",
              "      <td>불현동</td>\n",
              "      <td>4.125010e+09</td>\n",
              "      <td>광암동</td>\n",
              "      <td>4125010400204940034</td>\n",
              "      <td>1</td>\n",
              "      <td>대지</td>\n",
              "      <td>494</td>\n",
              "      <td>34.0</td>\n",
              "      <td>경기도 동두천시 광암동 494-34</td>\n",
              "      <td>412504367026</td>\n",
              "      <td>경기도 동두천시 광암로33번길</td>\n",
              "      <td>15</td>\n",
              "      <td>NaN</td>\n",
              "      <td>4125010400104940034000001</td>\n",
              "      <td>NaN</td>\n",
              "      <td>경기도 동두천시 광암로33번길 15</td>\n",
              "      <td>483040.0</td>\n",
              "      <td>11321.0</td>\n",
              "      <td>NaN</td>\n",
              "      <td>1</td>\n",
              "      <td>NaN</td>\n",
              "      <td>127.085525</td>\n",
              "      <td>37.896127</td>\n",
              "    </tr>\n",
              "    <tr>\n",
              "      <th>2</th>\n",
              "      <td>19946985</td>\n",
              "      <td>페리카나</td>\n",
              "      <td>NaN</td>\n",
              "      <td>Q</td>\n",
              "      <td>음식</td>\n",
              "      <td>Q05</td>\n",
              "      <td>닭/오리요리</td>\n",
              "      <td>Q05A08</td>\n",
              "      <td>후라이드/양념치킨</td>\n",
              "      <td>I56193</td>\n",
              "      <td>치킨 전문점</td>\n",
              "      <td>41</td>\n",
              "      <td>경기도</td>\n",
              "      <td>41133</td>\n",
              "      <td>성남시 중원구</td>\n",
              "      <td>4113366000</td>\n",
              "      <td>하대원동</td>\n",
              "      <td>4.113311e+09</td>\n",
              "      <td>하대원동</td>\n",
              "      <td>4113310900201540044</td>\n",
              "      <td>1</td>\n",
              "      <td>대지</td>\n",
              "      <td>154</td>\n",
              "      <td>44.0</td>\n",
              "      <td>경기도 성남시 중원구 하대원동 154-44</td>\n",
              "      <td>411334337166</td>\n",
              "      <td>경기도 성남시 중원구 마지로155번길</td>\n",
              "      <td>25</td>\n",
              "      <td>7.0</td>\n",
              "      <td>4113310900101540044066461</td>\n",
              "      <td>NaN</td>\n",
              "      <td>경기도 성남시 중원구 마지로155번길 25-7</td>\n",
              "      <td>462839.0</td>\n",
              "      <td>13406.0</td>\n",
              "      <td>NaN</td>\n",
              "      <td>1</td>\n",
              "      <td>NaN</td>\n",
              "      <td>127.149042</td>\n",
              "      <td>37.428063</td>\n",
              "    </tr>\n",
              "    <tr>\n",
              "      <th>3</th>\n",
              "      <td>19947331</td>\n",
              "      <td>한우장다리식당</td>\n",
              "      <td>NaN</td>\n",
              "      <td>Q</td>\n",
              "      <td>음식</td>\n",
              "      <td>Q01</td>\n",
              "      <td>한식</td>\n",
              "      <td>Q01A01</td>\n",
              "      <td>한식/백반/한정식</td>\n",
              "      <td>I56111</td>\n",
              "      <td>한식 음식점업</td>\n",
              "      <td>41</td>\n",
              "      <td>경기도</td>\n",
              "      <td>41135</td>\n",
              "      <td>성남시 분당구</td>\n",
              "      <td>4113554500</td>\n",
              "      <td>정자동</td>\n",
              "      <td>4.113510e+09</td>\n",
              "      <td>정자동</td>\n",
              "      <td>4113510300200430009</td>\n",
              "      <td>1</td>\n",
              "      <td>대지</td>\n",
              "      <td>43</td>\n",
              "      <td>9.0</td>\n",
              "      <td>경기도 성남시 분당구 정자동 43-9</td>\n",
              "      <td>411354340031</td>\n",
              "      <td>경기도 성남시 분당구 내정로119번길</td>\n",
              "      <td>20</td>\n",
              "      <td>NaN</td>\n",
              "      <td>4113510300100430009011063</td>\n",
              "      <td>NaN</td>\n",
              "      <td>경기도 성남시 분당구 내정로119번길 20</td>\n",
              "      <td>463848.0</td>\n",
              "      <td>13609.0</td>\n",
              "      <td>NaN</td>\n",
              "      <td>1</td>\n",
              "      <td>NaN</td>\n",
              "      <td>127.113929</td>\n",
              "      <td>37.372101</td>\n",
              "    </tr>\n",
              "    <tr>\n",
              "      <th>4</th>\n",
              "      <td>19947348</td>\n",
              "      <td>우체국커피자동판매기</td>\n",
              "      <td>NaN</td>\n",
              "      <td>D</td>\n",
              "      <td>소매</td>\n",
              "      <td>D25</td>\n",
              "      <td>기타판매업</td>\n",
              "      <td>D25A18</td>\n",
              "      <td>자동판매기운영</td>\n",
              "      <td>G47991</td>\n",
              "      <td>자동판매기 운영업</td>\n",
              "      <td>41</td>\n",
              "      <td>경기도</td>\n",
              "      <td>41131</td>\n",
              "      <td>성남시 수정구</td>\n",
              "      <td>4113153000</td>\n",
              "      <td>신흥3동</td>\n",
              "      <td>4.113110e+09</td>\n",
              "      <td>신흥동</td>\n",
              "      <td>4113110100224820000</td>\n",
              "      <td>1</td>\n",
              "      <td>대지</td>\n",
              "      <td>2482</td>\n",
              "      <td>NaN</td>\n",
              "      <td>경기도 성남시 수정구 신흥동 2482</td>\n",
              "      <td>411312179002</td>\n",
              "      <td>경기도 성남시 수정구 산성대로</td>\n",
              "      <td>297</td>\n",
              "      <td>NaN</td>\n",
              "      <td>4113110100124820000024208</td>\n",
              "      <td>프린스컨벤션센터</td>\n",
              "      <td>경기도 성남시 수정구 산성대로 297</td>\n",
              "      <td>461163.0</td>\n",
              "      <td>13354.0</td>\n",
              "      <td>NaN</td>\n",
              "      <td>1</td>\n",
              "      <td>NaN</td>\n",
              "      <td>127.149640</td>\n",
              "      <td>37.442115</td>\n",
              "    </tr>\n",
              "  </tbody>\n",
              "</table>\n",
              "</div>"
            ],
            "text/plain": [
              "     상가업소번호         상호명  지점명 상권업종대분류코드  ... 층정보  호정보          경도         위도\n",
              "0  19943193         프리즐  NaN         Q  ...   3  NaN  127.181143  37.715402\n",
              "1  19943449     최씨네별난맛집  NaN         Q  ...   1  NaN  127.085525  37.896127\n",
              "2  19946985        페리카나  NaN         Q  ...   1  NaN  127.149042  37.428063\n",
              "3  19947331     한우장다리식당  NaN         Q  ...   1  NaN  127.113929  37.372101\n",
              "4  19947348  우체국커피자동판매기  NaN         D  ...   1  NaN  127.149640  37.442115\n",
              "\n",
              "[5 rows x 39 columns]"
            ]
          },
          "metadata": {
            "tags": []
          },
          "execution_count": 23
        }
      ]
    },
    {
      "cell_type": "markdown",
      "metadata": {
        "id": "8bJS8hpJmySt"
      },
      "source": [
        ""
      ]
    },
    {
      "cell_type": "code",
      "metadata": {
        "colab": {
          "base_uri": "https://localhost:8080/"
        },
        "id": "n42OW9EpCIpT",
        "outputId": "b5b74582-5727-45d2-b555-ad4d2c8c3f66"
      },
      "source": [
        "df.shape"
      ],
      "execution_count": 24,
      "outputs": [
        {
          "output_type": "execute_result",
          "data": {
            "text/plain": [
              "(600184, 39)"
            ]
          },
          "metadata": {
            "tags": []
          },
          "execution_count": 24
        }
      ]
    },
    {
      "cell_type": "code",
      "metadata": {
        "colab": {
          "base_uri": "https://localhost:8080/"
        },
        "id": "VyfdSbB4CKTe",
        "outputId": "4d02df15-11ff-4971-ede5-603f67b7a6e2"
      },
      "source": [
        "df.info()"
      ],
      "execution_count": 25,
      "outputs": [
        {
          "output_type": "stream",
          "text": [
            "<class 'pandas.core.frame.DataFrame'>\n",
            "RangeIndex: 600184 entries, 0 to 600183\n",
            "Data columns (total 39 columns):\n",
            " #   Column     Non-Null Count   Dtype  \n",
            "---  ------     --------------   -----  \n",
            " 0   상가업소번호     600184 non-null  int64  \n",
            " 1   상호명        600183 non-null  object \n",
            " 2   지점명        83933 non-null   object \n",
            " 3   상권업종대분류코드  600184 non-null  object \n",
            " 4   상권업종대분류명   600184 non-null  object \n",
            " 5   상권업종중분류코드  600184 non-null  object \n",
            " 6   상권업종중분류명   600184 non-null  object \n",
            " 7   상권업종소분류코드  600184 non-null  object \n",
            " 8   상권업종소분류명   600184 non-null  object \n",
            " 9   표준산업분류코드   560259 non-null  object \n",
            " 10  표준산업분류명    560259 non-null  object \n",
            " 11  시도코드       600184 non-null  int64  \n",
            " 12  시도명        600184 non-null  object \n",
            " 13  시군구코드      600184 non-null  int64  \n",
            " 14  시군구명       600184 non-null  object \n",
            " 15  행정동코드      600184 non-null  int64  \n",
            " 16  행정동명       594360 non-null  object \n",
            " 17  법정동코드      600136 non-null  float64\n",
            " 18  법정동명       600136 non-null  object \n",
            " 19  지번코드       600184 non-null  int64  \n",
            " 20  대지구분코드     600184 non-null  int64  \n",
            " 21  대지구분명      600184 non-null  object \n",
            " 22  지번본번지      600184 non-null  int64  \n",
            " 23  지번부번지      437149 non-null  float64\n",
            " 24  지번주소       600184 non-null  object \n",
            " 25  도로명코드      600184 non-null  int64  \n",
            " 26  도로명        600184 non-null  object \n",
            " 27  건물본번지      600184 non-null  int64  \n",
            " 28  건물부번지      113181 non-null  float64\n",
            " 29  건물관리번호     600184 non-null  object \n",
            " 30  건물명        277122 non-null  object \n",
            " 31  도로명주소      600184 non-null  object \n",
            " 32  구우편번호      599099 non-null  float64\n",
            " 33  신우편번호      600173 non-null  float64\n",
            " 34  동정보        61090 non-null   object \n",
            " 35  층정보        298871 non-null  object \n",
            " 36  호정보        148585 non-null  object \n",
            " 37  경도         600184 non-null  float64\n",
            " 38  위도         600184 non-null  float64\n",
            "dtypes: float64(7), int64(9), object(23)\n",
            "memory usage: 178.6+ MB\n"
          ],
          "name": "stdout"
        }
      ]
    },
    {
      "cell_type": "code",
      "metadata": {
        "id": "MxwzOjVmDAbg",
        "colab": {
          "base_uri": "https://localhost:8080/",
          "height": 554
        },
        "outputId": "223b2efc-4eb9-495d-d47c-ff7ac9d5c7ef"
      },
      "source": [
        "df.isnull().mean().plot.barh(figsize=(7, 9))"
      ],
      "execution_count": 26,
      "outputs": [
        {
          "output_type": "execute_result",
          "data": {
            "text/plain": [
              "<matplotlib.axes._subplots.AxesSubplot at 0x7f183725cba8>"
            ]
          },
          "metadata": {
            "tags": []
          },
          "execution_count": 26
        },
        {
          "output_type": "display_data",
          "data": {
            "image/png": "[encoded data removed]",
            "text/plain": [
              "<Figure size 504x648 with 1 Axes>"
            ]
          },
          "metadata": {
            "tags": [],
            "image/png": {
              "width": 492,
              "height": 521
            },
            "needs_background": "light"
          }
        }
      ]
    },
    {
      "cell_type": "code",
      "metadata": {
        "colab": {
          "base_uri": "https://localhost:8080/"
        },
        "id": "tRDP83rHDLTR",
        "outputId": "958374da-d171-430c-9418-3b2d864190cf"
      },
      "source": [
        "columns = ['상호명', '상권업종대분류명', '상권업종중분류명', '상권업종소분류명', \r\n",
        "           '시도명', '시군구명', '행정동명', '법정동명', '도로명주소', \r\n",
        "           '경도', '위도']\r\n",
        "print(df.shape)\r\n",
        "df = df[columns].copy()\r\n",
        "df.shape"
      ],
      "execution_count": 27,
      "outputs": [
        {
          "output_type": "stream",
          "text": [
            "(600184, 39)\n"
          ],
          "name": "stdout"
        },
        {
          "output_type": "execute_result",
          "data": {
            "text/plain": [
              "(600184, 11)"
            ]
          },
          "metadata": {
            "tags": []
          },
          "execution_count": 27
        }
      ]
    },
    {
      "cell_type": "code",
      "metadata": {
        "colab": {
          "base_uri": "https://localhost:8080/"
        },
        "id": "QNcgB3fJDbG_",
        "outputId": "fcea2b91-802a-4f42-910c-966bf8c4abc3"
      },
      "source": [
        "df.info()"
      ],
      "execution_count": 28,
      "outputs": [
        {
          "output_type": "stream",
          "text": [
            "<class 'pandas.core.frame.DataFrame'>\n",
            "RangeIndex: 600184 entries, 0 to 600183\n",
            "Data columns (total 11 columns):\n",
            " #   Column    Non-Null Count   Dtype  \n",
            "---  ------    --------------   -----  \n",
            " 0   상호명       600183 non-null  object \n",
            " 1   상권업종대분류명  600184 non-null  object \n",
            " 2   상권업종중분류명  600184 non-null  object \n",
            " 3   상권업종소분류명  600184 non-null  object \n",
            " 4   시도명       600184 non-null  object \n",
            " 5   시군구명      600184 non-null  object \n",
            " 6   행정동명      594360 non-null  object \n",
            " 7   법정동명      600136 non-null  object \n",
            " 8   도로명주소     600184 non-null  object \n",
            " 9   경도        600184 non-null  float64\n",
            " 10  위도        600184 non-null  float64\n",
            "dtypes: float64(2), object(9)\n",
            "memory usage: 50.4+ MB\n"
          ],
          "name": "stdout"
        }
      ]
    },
    {
      "cell_type": "code",
      "metadata": {
        "colab": {
          "base_uri": "https://localhost:8080/",
          "height": 419
        },
        "id": "d5Ame4vsDc-y",
        "outputId": "35f81bf2-4428-4e2d-dddf-fab79294d3dd"
      },
      "source": [
        "df_ny = df[df[\"시군구명\"] == \"남양주시\"].copy()\r\n",
        "print(df_ny.shape)\r\n",
        "df_ny.head()"
      ],
      "execution_count": 30,
      "outputs": [
        {
          "output_type": "stream",
          "text": [
            "(25325, 11)\n"
          ],
          "name": "stdout"
        },
        {
          "output_type": "execute_result",
          "data": {
            "text/html": [
              "<div>\n",
              "<style scoped>\n",
              "    .dataframe tbody tr th:only-of-type {\n",
              "        vertical-align: middle;\n",
              "    }\n",
              "\n",
              "    .dataframe tbody tr th {\n",
              "        vertical-align: top;\n",
              "    }\n",
              "\n",
              "    .dataframe thead th {\n",
              "        text-align: right;\n",
              "    }\n",
              "</style>\n",
              "<table border=\"1\" class=\"dataframe\">\n",
              "  <thead>\n",
              "    <tr style=\"text-align: right;\">\n",
              "      <th></th>\n",
              "      <th>상호명</th>\n",
              "      <th>상권업종대분류명</th>\n",
              "      <th>상권업종중분류명</th>\n",
              "      <th>상권업종소분류명</th>\n",
              "      <th>시도명</th>\n",
              "      <th>시군구명</th>\n",
              "      <th>행정동명</th>\n",
              "      <th>법정동명</th>\n",
              "      <th>도로명주소</th>\n",
              "      <th>경도</th>\n",
              "      <th>위도</th>\n",
              "    </tr>\n",
              "  </thead>\n",
              "  <tbody>\n",
              "    <tr>\n",
              "      <th>0</th>\n",
              "      <td>프리즐</td>\n",
              "      <td>음식</td>\n",
              "      <td>분식</td>\n",
              "      <td>라면김밥분식</td>\n",
              "      <td>경기도</td>\n",
              "      <td>남양주시</td>\n",
              "      <td>진접읍</td>\n",
              "      <td>진접읍</td>\n",
              "      <td>경기도 남양주시 진접읍 봉현로 14</td>\n",
              "      <td>127.181143</td>\n",
              "      <td>37.715402</td>\n",
              "    </tr>\n",
              "    <tr>\n",
              "      <th>8</th>\n",
              "      <td>낙원떡집</td>\n",
              "      <td>음식</td>\n",
              "      <td>제과제빵떡케익</td>\n",
              "      <td>떡전문</td>\n",
              "      <td>경기도</td>\n",
              "      <td>남양주시</td>\n",
              "      <td>화도읍</td>\n",
              "      <td>화도읍</td>\n",
              "      <td>경기도 남양주시 화도읍 마석중앙로 63-1</td>\n",
              "      <td>127.307050</td>\n",
              "      <td>37.652604</td>\n",
              "    </tr>\n",
              "    <tr>\n",
              "      <th>61</th>\n",
              "      <td>알로</td>\n",
              "      <td>음식</td>\n",
              "      <td>커피점/카페</td>\n",
              "      <td>커피전문점/카페/다방</td>\n",
              "      <td>경기도</td>\n",
              "      <td>남양주시</td>\n",
              "      <td>평내동</td>\n",
              "      <td>평내동</td>\n",
              "      <td>경기도 남양주시 의안로 176</td>\n",
              "      <td>127.242597</td>\n",
              "      <td>37.643982</td>\n",
              "    </tr>\n",
              "    <tr>\n",
              "      <th>64</th>\n",
              "      <td>남원골가마솥추어탕</td>\n",
              "      <td>음식</td>\n",
              "      <td>한식</td>\n",
              "      <td>추어탕전문</td>\n",
              "      <td>경기도</td>\n",
              "      <td>남양주시</td>\n",
              "      <td>진접읍</td>\n",
              "      <td>진접읍</td>\n",
              "      <td>경기도 남양주시 진접읍 경복대로 420</td>\n",
              "      <td>127.211736</td>\n",
              "      <td>37.733379</td>\n",
              "    </tr>\n",
              "    <tr>\n",
              "      <th>103</th>\n",
              "      <td>무지개떡집</td>\n",
              "      <td>음식</td>\n",
              "      <td>제과제빵떡케익</td>\n",
              "      <td>떡전문</td>\n",
              "      <td>경기도</td>\n",
              "      <td>남양주시</td>\n",
              "      <td>별내동</td>\n",
              "      <td>별내동</td>\n",
              "      <td>경기도 남양주시 불암산로 61</td>\n",
              "      <td>127.106927</td>\n",
              "      <td>37.649502</td>\n",
              "    </tr>\n",
              "  </tbody>\n",
              "</table>\n",
              "</div>"
            ],
            "text/plain": [
              "           상호명 상권업종대분류명  ...          경도         위도\n",
              "0          프리즐       음식  ...  127.181143  37.715402\n",
              "8         낙원떡집       음식  ...  127.307050  37.652604\n",
              "61          알로       음식  ...  127.242597  37.643982\n",
              "64   남원골가마솥추어탕       음식  ...  127.211736  37.733379\n",
              "103      무지개떡집       음식  ...  127.106927  37.649502\n",
              "\n",
              "[5 rows x 11 columns]"
            ]
          },
          "metadata": {
            "tags": []
          },
          "execution_count": 30
        }
      ]
    },
    {
      "cell_type": "code",
      "metadata": {
        "colab": {
          "base_uri": "https://localhost:8080/"
        },
        "id": "0nToOOFND3Gu",
        "outputId": "de4d0e49-bfd5-45a7-dbf2-5620535f1cc2"
      },
      "source": [
        "df_ny[\"행정동명\"].unique()"
      ],
      "execution_count": 31,
      "outputs": [
        {
          "output_type": "execute_result",
          "data": {
            "text/plain": [
              "array(['진접읍', '화도읍', '평내동', '별내동', '진건읍', '와부읍', '지금동', '조안면', '양정동',\n",
              "       '도농동', '금곡동', '호평동', '오남읍', '퇴계원면', '수동면', '별내면', nan, '다산2동',\n",
              "       '다산1동', '퇴계원읍'], dtype=object)"
            ]
          },
          "metadata": {
            "tags": []
          },
          "execution_count": 31
        }
      ]
    },
    {
      "cell_type": "code",
      "metadata": {
        "colab": {
          "base_uri": "https://localhost:8080/"
        },
        "id": "I0Odd6JEEN-g",
        "outputId": "31a24fc3-f185-44db-cba4-2fce7cb5c925"
      },
      "source": [
        "df_ny[\"행정동명\"].nunique()"
      ],
      "execution_count": 32,
      "outputs": [
        {
          "output_type": "execute_result",
          "data": {
            "text/plain": [
              "19"
            ]
          },
          "metadata": {
            "tags": []
          },
          "execution_count": 32
        }
      ]
    },
    {
      "cell_type": "code",
      "metadata": {
        "id": "othdNDTfESYP"
      },
      "source": [
        "df_ny.to_csv(\"namyang_story.csv\", index=False)"
      ],
      "execution_count": 33,
      "outputs": []
    },
    {
      "cell_type": "code",
      "metadata": {
        "colab": {
          "base_uri": "https://localhost:8080/",
          "height": 402
        },
        "id": "u5dvgw17EfSH",
        "outputId": "2586be69-c874-432e-dc90-3d8de389cd22"
      },
      "source": [
        "pd.read_csv(\"namyang_story.csv\").head()"
      ],
      "execution_count": 36,
      "outputs": [
        {
          "output_type": "execute_result",
          "data": {
            "text/html": [
              "<div>\n",
              "<style scoped>\n",
              "    .dataframe tbody tr th:only-of-type {\n",
              "        vertical-align: middle;\n",
              "    }\n",
              "\n",
              "    .dataframe tbody tr th {\n",
              "        vertical-align: top;\n",
              "    }\n",
              "\n",
              "    .dataframe thead th {\n",
              "        text-align: right;\n",
              "    }\n",
              "</style>\n",
              "<table border=\"1\" class=\"dataframe\">\n",
              "  <thead>\n",
              "    <tr style=\"text-align: right;\">\n",
              "      <th></th>\n",
              "      <th>상호명</th>\n",
              "      <th>상권업종대분류명</th>\n",
              "      <th>상권업종중분류명</th>\n",
              "      <th>상권업종소분류명</th>\n",
              "      <th>시도명</th>\n",
              "      <th>시군구명</th>\n",
              "      <th>행정동명</th>\n",
              "      <th>법정동명</th>\n",
              "      <th>도로명주소</th>\n",
              "      <th>경도</th>\n",
              "      <th>위도</th>\n",
              "    </tr>\n",
              "  </thead>\n",
              "  <tbody>\n",
              "    <tr>\n",
              "      <th>0</th>\n",
              "      <td>프리즐</td>\n",
              "      <td>음식</td>\n",
              "      <td>분식</td>\n",
              "      <td>라면김밥분식</td>\n",
              "      <td>경기도</td>\n",
              "      <td>남양주시</td>\n",
              "      <td>진접읍</td>\n",
              "      <td>진접읍</td>\n",
              "      <td>경기도 남양주시 진접읍 봉현로 14</td>\n",
              "      <td>127.181143</td>\n",
              "      <td>37.715402</td>\n",
              "    </tr>\n",
              "    <tr>\n",
              "      <th>1</th>\n",
              "      <td>낙원떡집</td>\n",
              "      <td>음식</td>\n",
              "      <td>제과제빵떡케익</td>\n",
              "      <td>떡전문</td>\n",
              "      <td>경기도</td>\n",
              "      <td>남양주시</td>\n",
              "      <td>화도읍</td>\n",
              "      <td>화도읍</td>\n",
              "      <td>경기도 남양주시 화도읍 마석중앙로 63-1</td>\n",
              "      <td>127.307050</td>\n",
              "      <td>37.652604</td>\n",
              "    </tr>\n",
              "    <tr>\n",
              "      <th>2</th>\n",
              "      <td>알로</td>\n",
              "      <td>음식</td>\n",
              "      <td>커피점/카페</td>\n",
              "      <td>커피전문점/카페/다방</td>\n",
              "      <td>경기도</td>\n",
              "      <td>남양주시</td>\n",
              "      <td>평내동</td>\n",
              "      <td>평내동</td>\n",
              "      <td>경기도 남양주시 의안로 176</td>\n",
              "      <td>127.242597</td>\n",
              "      <td>37.643982</td>\n",
              "    </tr>\n",
              "    <tr>\n",
              "      <th>3</th>\n",
              "      <td>남원골가마솥추어탕</td>\n",
              "      <td>음식</td>\n",
              "      <td>한식</td>\n",
              "      <td>추어탕전문</td>\n",
              "      <td>경기도</td>\n",
              "      <td>남양주시</td>\n",
              "      <td>진접읍</td>\n",
              "      <td>진접읍</td>\n",
              "      <td>경기도 남양주시 진접읍 경복대로 420</td>\n",
              "      <td>127.211736</td>\n",
              "      <td>37.733379</td>\n",
              "    </tr>\n",
              "    <tr>\n",
              "      <th>4</th>\n",
              "      <td>무지개떡집</td>\n",
              "      <td>음식</td>\n",
              "      <td>제과제빵떡케익</td>\n",
              "      <td>떡전문</td>\n",
              "      <td>경기도</td>\n",
              "      <td>남양주시</td>\n",
              "      <td>별내동</td>\n",
              "      <td>별내동</td>\n",
              "      <td>경기도 남양주시 불암산로 61</td>\n",
              "      <td>127.106927</td>\n",
              "      <td>37.649502</td>\n",
              "    </tr>\n",
              "  </tbody>\n",
              "</table>\n",
              "</div>"
            ],
            "text/plain": [
              "         상호명 상권업종대분류명 상권업종중분류명  ...                    도로명주소          경도         위도\n",
              "0        프리즐       음식       분식  ...      경기도 남양주시 진접읍 봉현로 14  127.181143  37.715402\n",
              "1       낙원떡집       음식  제과제빵떡케익  ...  경기도 남양주시 화도읍 마석중앙로 63-1  127.307050  37.652604\n",
              "2         알로       음식   커피점/카페  ...         경기도 남양주시 의안로 176  127.242597  37.643982\n",
              "3  남원골가마솥추어탕       음식       한식  ...    경기도 남양주시 진접읍 경복대로 420  127.211736  37.733379\n",
              "4      무지개떡집       음식  제과제빵떡케익  ...         경기도 남양주시 불암산로 61  127.106927  37.649502\n",
              "\n",
              "[5 rows x 11 columns]"
            ]
          },
          "metadata": {
            "tags": []
          },
          "execution_count": 36
        }
      ]
    },
    {
      "cell_type": "code",
      "metadata": {
        "id": "RBmGrelwElnw"
      },
      "source": [
        "df_ny[\"상호명_소문자\"] = df_ny[\"상호명\"].str.lower()"
      ],
      "execution_count": 38,
      "outputs": []
    },
    {
      "cell_type": "code",
      "metadata": {
        "colab": {
          "base_uri": "https://localhost:8080/"
        },
        "id": "VWtaG2O3E7Qw",
        "outputId": "ea68b9c0-8a68-4e75-97c6-9651347bfd2a"
      },
      "source": [
        "df_ny[\"상호명_소문자\"].str.extract(\"(베|배)스킨라빈스|baskinrobbins\")[0].value_counts()"
      ],
      "execution_count": 39,
      "outputs": [
        {
          "output_type": "execute_result",
          "data": {
            "text/plain": [
              "배    31\n",
              "베     8\n",
              "Name: 0, dtype: int64"
            ]
          },
          "metadata": {
            "tags": []
          },
          "execution_count": 39
        }
      ]
    },
    {
      "cell_type": "code",
      "metadata": {
        "colab": {
          "base_uri": "https://localhost:8080/"
        },
        "id": "kIcwwo68FCHh",
        "outputId": "086472f8-51ea-406f-d97f-64cd69bd195b"
      },
      "source": [
        "df_ny.loc[df_ny[\"상호명_소문자\"].str.contains(\"배스킨라빈스|베스킨라빈스|baskinrobbins\"), \r\n",
        "             \"상호명_소문자\"].shape"
      ],
      "execution_count": 40,
      "outputs": [
        {
          "output_type": "execute_result",
          "data": {
            "text/plain": [
              "(39,)"
            ]
          },
          "metadata": {
            "tags": []
          },
          "execution_count": 40
        }
      ]
    },
    {
      "cell_type": "code",
      "metadata": {
        "colab": {
          "base_uri": "https://localhost:8080/"
        },
        "id": "DRZZ3KWkFId4",
        "outputId": "3ada3e8b-6e27-4a6c-c0ca-c7aad0fb9551"
      },
      "source": [
        "df_ny.loc[df_ny[\"상호명_소문자\"].str.contains(\"스타|star\"), \"상호명_소문자\"].shape"
      ],
      "execution_count": 41,
      "outputs": [
        {
          "output_type": "execute_result",
          "data": {
            "text/plain": [
              "(149,)"
            ]
          },
          "metadata": {
            "tags": []
          },
          "execution_count": 41
        }
      ]
    },
    {
      "cell_type": "code",
      "metadata": {
        "colab": {
          "base_uri": "https://localhost:8080/"
        },
        "id": "eqpAkQQPFhbJ",
        "outputId": "a445c8df-28bf-49b6-cf2c-11afc1eb52c2"
      },
      "source": [
        "df_10 = df_ny[df_ny[\"상호명_소문자\"].str.contains(\r\n",
        "    '배스킨라빈스|베스킨라빈스|baskinrobbins|스타|star')].copy()\r\n",
        "df_10.shape"
      ],
      "execution_count": 43,
      "outputs": [
        {
          "output_type": "execute_result",
          "data": {
            "text/plain": [
              "(188, 12)"
            ]
          },
          "metadata": {
            "tags": []
          },
          "execution_count": 43
        }
      ]
    },
    {
      "cell_type": "code",
      "metadata": {
        "colab": {
          "base_uri": "https://localhost:8080/",
          "height": 197
        },
        "id": "VO2oHED0F0AB",
        "outputId": "2cb69fbe-34bb-4725-ad2f-f3c25b802178"
      },
      "source": [
        "df_10.loc[df_10[\"상호명_소문자\"].str.contains(\"배스킨라빈스|베스킨라빈스|baskinrobbins\"), \r\n",
        "          \"브랜드명\"] = \"배스킨라빈스\"\r\n",
        "df_10[[\"상호명\", \"브랜드명\"]].head()"
      ],
      "execution_count": 46,
      "outputs": [
        {
          "output_type": "execute_result",
          "data": {
            "text/html": [
              "<div>\n",
              "<style scoped>\n",
              "    .dataframe tbody tr th:only-of-type {\n",
              "        vertical-align: middle;\n",
              "    }\n",
              "\n",
              "    .dataframe tbody tr th {\n",
              "        vertical-align: top;\n",
              "    }\n",
              "\n",
              "    .dataframe thead th {\n",
              "        text-align: right;\n",
              "    }\n",
              "</style>\n",
              "<table border=\"1\" class=\"dataframe\">\n",
              "  <thead>\n",
              "    <tr style=\"text-align: right;\">\n",
              "      <th></th>\n",
              "      <th>상호명</th>\n",
              "      <th>브랜드명</th>\n",
              "    </tr>\n",
              "  </thead>\n",
              "  <tbody>\n",
              "    <tr>\n",
              "      <th>651</th>\n",
              "      <td>윤헤어스타일</td>\n",
              "      <td>스타벅스</td>\n",
              "    </tr>\n",
              "    <tr>\n",
              "      <th>16299</th>\n",
              "      <td>베스킨라빈스</td>\n",
              "      <td>배스킨라빈스</td>\n",
              "    </tr>\n",
              "    <tr>\n",
              "      <th>32400</th>\n",
              "      <td>지니스타일</td>\n",
              "      <td>스타벅스</td>\n",
              "    </tr>\n",
              "    <tr>\n",
              "      <th>35002</th>\n",
              "      <td>페스타마레</td>\n",
              "      <td>스타벅스</td>\n",
              "    </tr>\n",
              "    <tr>\n",
              "      <th>35995</th>\n",
              "      <td>더스타일</td>\n",
              "      <td>스타벅스</td>\n",
              "    </tr>\n",
              "  </tbody>\n",
              "</table>\n",
              "</div>"
            ],
            "text/plain": [
              "          상호명    브랜드명\n",
              "651    윤헤어스타일    스타벅스\n",
              "16299  베스킨라빈스  배스킨라빈스\n",
              "32400   지니스타일    스타벅스\n",
              "35002   페스타마레    스타벅스\n",
              "35995    더스타일    스타벅스"
            ]
          },
          "metadata": {
            "tags": []
          },
          "execution_count": 46
        }
      ]
    },
    {
      "cell_type": "code",
      "metadata": {
        "colab": {
          "base_uri": "https://localhost:8080/"
        },
        "id": "tEY0sElgF6tV",
        "outputId": "f423e35f-7b0d-4167-9c71-d0958f8cac2e"
      },
      "source": [
        "df_10[\"브랜드명\"] = df_10[\"브랜드명\"].fillna(\"스타벅스\")\r\n",
        "df_10[\"브랜드명\"]"
      ],
      "execution_count": 45,
      "outputs": [
        {
          "output_type": "execute_result",
          "data": {
            "text/plain": [
              "651         스타벅스\n",
              "16299     배스킨라빈스\n",
              "32400       스타벅스\n",
              "35002       스타벅스\n",
              "35995       스타벅스\n",
              "           ...  \n",
              "586944      스타벅스\n",
              "587218      스타벅스\n",
              "590047    배스킨라빈스\n",
              "598673      스타벅스\n",
              "599274      스타벅스\n",
              "Name: 브랜드명, Length: 188, dtype: object"
            ]
          },
          "metadata": {
            "tags": []
          },
          "execution_count": 45
        }
      ]
    },
    {
      "cell_type": "code",
      "metadata": {
        "colab": {
          "base_uri": "https://localhost:8080/"
        },
        "id": "aggr-7vwGFx3",
        "outputId": "383f6132-1d82-4bdc-95ab-7a4ecf520f02"
      },
      "source": [
        "df_10[\"상권업종대분류명\"].value_counts()"
      ],
      "execution_count": 47,
      "outputs": [
        {
          "output_type": "execute_result",
          "data": {
            "text/plain": [
              "음식          90\n",
              "소매          51\n",
              "생활서비스       27\n",
              "관광/여가/오락     8\n",
              "부동산          6\n",
              "학문/교육        3\n",
              "숙박           3\n",
              "Name: 상권업종대분류명, dtype: int64"
            ]
          },
          "metadata": {
            "tags": []
          },
          "execution_count": 47
        }
      ]
    },
    {
      "cell_type": "code",
      "metadata": {
        "colab": {
          "base_uri": "https://localhost:8080/",
          "height": 1000
        },
        "id": "5Zm135VhGPSY",
        "outputId": "fabb8c25-042d-4885-f61d-4f018e4996be"
      },
      "source": [
        "df_10[df_10[\"상권업종대분류명\"].isin([\"소매\", \"생활서비스\"])]"
      ],
      "execution_count": 48,
      "outputs": [
        {
          "output_type": "execute_result",
          "data": {
            "text/html": [
              "<div>\n",
              "<style scoped>\n",
              "    .dataframe tbody tr th:only-of-type {\n",
              "        vertical-align: middle;\n",
              "    }\n",
              "\n",
              "    .dataframe tbody tr th {\n",
              "        vertical-align: top;\n",
              "    }\n",
              "\n",
              "    .dataframe thead th {\n",
              "        text-align: right;\n",
              "    }\n",
              "</style>\n",
              "<table border=\"1\" class=\"dataframe\">\n",
              "  <thead>\n",
              "    <tr style=\"text-align: right;\">\n",
              "      <th></th>\n",
              "      <th>상호명</th>\n",
              "      <th>상권업종대분류명</th>\n",
              "      <th>상권업종중분류명</th>\n",
              "      <th>상권업종소분류명</th>\n",
              "      <th>시도명</th>\n",
              "      <th>시군구명</th>\n",
              "      <th>행정동명</th>\n",
              "      <th>법정동명</th>\n",
              "      <th>도로명주소</th>\n",
              "      <th>경도</th>\n",
              "      <th>위도</th>\n",
              "      <th>상호명_소문자</th>\n",
              "      <th>브랜드명</th>\n",
              "    </tr>\n",
              "  </thead>\n",
              "  <tbody>\n",
              "    <tr>\n",
              "      <th>651</th>\n",
              "      <td>윤헤어스타일</td>\n",
              "      <td>생활서비스</td>\n",
              "      <td>이/미용/건강</td>\n",
              "      <td>여성미용실</td>\n",
              "      <td>경기도</td>\n",
              "      <td>남양주시</td>\n",
              "      <td>화도읍</td>\n",
              "      <td>화도읍</td>\n",
              "      <td>경기도 남양주시 화도읍 수레로 1178</td>\n",
              "      <td>127.304560</td>\n",
              "      <td>37.642507</td>\n",
              "      <td>윤헤어스타일</td>\n",
              "      <td>스타벅스</td>\n",
              "    </tr>\n",
              "    <tr>\n",
              "      <th>32400</th>\n",
              "      <td>지니스타일</td>\n",
              "      <td>생활서비스</td>\n",
              "      <td>이/미용/건강</td>\n",
              "      <td>여성미용실</td>\n",
              "      <td>경기도</td>\n",
              "      <td>남양주시</td>\n",
              "      <td>진건읍</td>\n",
              "      <td>진건읍</td>\n",
              "      <td>경기도 남양주시 진건읍 사릉로 424</td>\n",
              "      <td>127.177649</td>\n",
              "      <td>37.656936</td>\n",
              "      <td>지니스타일</td>\n",
              "      <td>스타벅스</td>\n",
              "    </tr>\n",
              "    <tr>\n",
              "      <th>35995</th>\n",
              "      <td>더스타일</td>\n",
              "      <td>생활서비스</td>\n",
              "      <td>이/미용/건강</td>\n",
              "      <td>여성미용실</td>\n",
              "      <td>경기도</td>\n",
              "      <td>남양주시</td>\n",
              "      <td>진접읍</td>\n",
              "      <td>진접읍</td>\n",
              "      <td>경기도 남양주시 진접읍 해밀예당1로 49</td>\n",
              "      <td>127.184697</td>\n",
              "      <td>37.713012</td>\n",
              "      <td>더스타일</td>\n",
              "      <td>스타벅스</td>\n",
              "    </tr>\n",
              "    <tr>\n",
              "      <th>39014</th>\n",
              "      <td>라겐스타일</td>\n",
              "      <td>생활서비스</td>\n",
              "      <td>이/미용/건강</td>\n",
              "      <td>여성미용실</td>\n",
              "      <td>경기도</td>\n",
              "      <td>남양주시</td>\n",
              "      <td>별내동</td>\n",
              "      <td>별내동</td>\n",
              "      <td>경기도 남양주시 별내중앙로 34</td>\n",
              "      <td>127.125370</td>\n",
              "      <td>37.646162</td>\n",
              "      <td>라겐스타일</td>\n",
              "      <td>스타벅스</td>\n",
              "    </tr>\n",
              "    <tr>\n",
              "      <th>41775</th>\n",
              "      <td>스타일</td>\n",
              "      <td>소매</td>\n",
              "      <td>의복의류</td>\n",
              "      <td>아동복판매</td>\n",
              "      <td>경기도</td>\n",
              "      <td>남양주시</td>\n",
              "      <td>진접읍</td>\n",
              "      <td>진접읍</td>\n",
              "      <td>경기도 남양주시 진접읍 해밀예당3로 118</td>\n",
              "      <td>127.196891</td>\n",
              "      <td>37.720222</td>\n",
              "      <td>스타일</td>\n",
              "      <td>스타벅스</td>\n",
              "    </tr>\n",
              "    <tr>\n",
              "      <th>...</th>\n",
              "      <td>...</td>\n",
              "      <td>...</td>\n",
              "      <td>...</td>\n",
              "      <td>...</td>\n",
              "      <td>...</td>\n",
              "      <td>...</td>\n",
              "      <td>...</td>\n",
              "      <td>...</td>\n",
              "      <td>...</td>\n",
              "      <td>...</td>\n",
              "      <td>...</td>\n",
              "      <td>...</td>\n",
              "      <td>...</td>\n",
              "    </tr>\n",
              "    <tr>\n",
              "      <th>548233</th>\n",
              "      <td>스타일리쉬</td>\n",
              "      <td>소매</td>\n",
              "      <td>가방/신발/액세서리</td>\n",
              "      <td>신발소매</td>\n",
              "      <td>경기도</td>\n",
              "      <td>남양주시</td>\n",
              "      <td>진접읍</td>\n",
              "      <td>진접읍</td>\n",
              "      <td>경기도 남양주시 진접읍 장현로 84</td>\n",
              "      <td>127.181932</td>\n",
              "      <td>37.717912</td>\n",
              "      <td>스타일리쉬</td>\n",
              "      <td>스타벅스</td>\n",
              "    </tr>\n",
              "    <tr>\n",
              "      <th>557696</th>\n",
              "      <td>STYLE스타일</td>\n",
              "      <td>소매</td>\n",
              "      <td>의복의류</td>\n",
              "      <td>맞춤양장/양장점</td>\n",
              "      <td>경기도</td>\n",
              "      <td>남양주시</td>\n",
              "      <td>진접읍</td>\n",
              "      <td>진접읍</td>\n",
              "      <td>경기도 남양주시 진접읍 해밀예당2로 117</td>\n",
              "      <td>127.201316</td>\n",
              "      <td>37.718045</td>\n",
              "      <td>style스타일</td>\n",
              "      <td>스타벅스</td>\n",
              "    </tr>\n",
              "    <tr>\n",
              "      <th>571863</th>\n",
              "      <td>에코스타인테리어</td>\n",
              "      <td>소매</td>\n",
              "      <td>가정/주방/인테리어</td>\n",
              "      <td>인테리어/욕실용품/커튼</td>\n",
              "      <td>경기도</td>\n",
              "      <td>남양주시</td>\n",
              "      <td>다산2동</td>\n",
              "      <td>다산동</td>\n",
              "      <td>경기도 남양주시 다산지금로163번길 9-53</td>\n",
              "      <td>127.174414</td>\n",
              "      <td>37.599049</td>\n",
              "      <td>에코스타인테리어</td>\n",
              "      <td>스타벅스</td>\n",
              "    </tr>\n",
              "    <tr>\n",
              "      <th>576970</th>\n",
              "      <td>아트스타엔터테인먼트</td>\n",
              "      <td>생활서비스</td>\n",
              "      <td>행사/이벤트</td>\n",
              "      <td>연예인대리업</td>\n",
              "      <td>경기도</td>\n",
              "      <td>남양주시</td>\n",
              "      <td>화도읍</td>\n",
              "      <td>화도읍</td>\n",
              "      <td>경기도 남양주시 화도읍 경춘로2347번길 61</td>\n",
              "      <td>127.344536</td>\n",
              "      <td>37.661982</td>\n",
              "      <td>아트스타엔터테인먼트</td>\n",
              "      <td>스타벅스</td>\n",
              "    </tr>\n",
              "    <tr>\n",
              "      <th>580953</th>\n",
              "      <td>스타마트</td>\n",
              "      <td>소매</td>\n",
              "      <td>종합소매점</td>\n",
              "      <td>수퍼마켓</td>\n",
              "      <td>경기도</td>\n",
              "      <td>남양주시</td>\n",
              "      <td>퇴계원읍</td>\n",
              "      <td>퇴계원읍</td>\n",
              "      <td>경기도 남양주시 퇴계원읍 퇴계원로6번길 21</td>\n",
              "      <td>127.143132</td>\n",
              "      <td>37.648689</td>\n",
              "      <td>스타마트</td>\n",
              "      <td>스타벅스</td>\n",
              "    </tr>\n",
              "  </tbody>\n",
              "</table>\n",
              "<p>78 rows × 13 columns</p>\n",
              "</div>"
            ],
            "text/plain": [
              "               상호명 상권업종대분류명    상권업종중분류명  ...         위도     상호명_소문자  브랜드명\n",
              "651         윤헤어스타일    생활서비스     이/미용/건강  ...  37.642507      윤헤어스타일  스타벅스\n",
              "32400        지니스타일    생활서비스     이/미용/건강  ...  37.656936       지니스타일  스타벅스\n",
              "35995         더스타일    생활서비스     이/미용/건강  ...  37.713012        더스타일  스타벅스\n",
              "39014        라겐스타일    생활서비스     이/미용/건강  ...  37.646162       라겐스타일  스타벅스\n",
              "41775          스타일       소매        의복의류  ...  37.720222         스타일  스타벅스\n",
              "...            ...      ...         ...  ...        ...         ...   ...\n",
              "548233       스타일리쉬       소매  가방/신발/액세서리  ...  37.717912       스타일리쉬  스타벅스\n",
              "557696    STYLE스타일       소매        의복의류  ...  37.718045    style스타일  스타벅스\n",
              "571863    에코스타인테리어       소매  가정/주방/인테리어  ...  37.599049    에코스타인테리어  스타벅스\n",
              "576970  아트스타엔터테인먼트    생활서비스      행사/이벤트  ...  37.661982  아트스타엔터테인먼트  스타벅스\n",
              "580953        스타마트       소매       종합소매점  ...  37.648689        스타마트  스타벅스\n",
              "\n",
              "[78 rows x 13 columns]"
            ]
          },
          "metadata": {
            "tags": []
          },
          "execution_count": 48
        }
      ]
    },
    {
      "cell_type": "code",
      "metadata": {
        "colab": {
          "base_uri": "https://localhost:8080/"
        },
        "id": "2XxBRACiGSpP",
        "outputId": "3ba500cf-eeba-4449-dc63-248b5b56ad46"
      },
      "source": [
        "df_10 = df_10[~df_10[\"상권업종대분류명\"].isin([\"소매\", \"생활서비스\"])].copy()\r\n",
        "df_10.shape"
      ],
      "execution_count": 49,
      "outputs": [
        {
          "output_type": "execute_result",
          "data": {
            "text/plain": [
              "(110, 13)"
            ]
          },
          "metadata": {
            "tags": []
          },
          "execution_count": 49
        }
      ]
    },
    {
      "cell_type": "code",
      "metadata": {
        "colab": {
          "base_uri": "https://localhost:8080/"
        },
        "id": "ickogauoGYY-",
        "outputId": "34dc56c2-f56e-4684-f5a3-8e592eb04a46"
      },
      "source": [
        "brand_count = df_10[\"브랜드명\"].value_counts()\r\n",
        "brand_count"
      ],
      "execution_count": 50,
      "outputs": [
        {
          "output_type": "execute_result",
          "data": {
            "text/plain": [
              "스타벅스      71\n",
              "배스킨라빈스    39\n",
              "Name: 브랜드명, dtype: int64"
            ]
          },
          "metadata": {
            "tags": []
          },
          "execution_count": 50
        }
      ]
    },
    {
      "cell_type": "code",
      "metadata": {
        "colab": {
          "base_uri": "https://localhost:8080/",
          "height": 282
        },
        "id": "4EbRYi1kGch3",
        "outputId": "010cf023-3765-4c8e-cca9-c1504916b17a"
      },
      "source": [
        "df_10[\"브랜드명\"].value_counts(normalize=True).plot.barh()"
      ],
      "execution_count": 51,
      "outputs": [
        {
          "output_type": "execute_result",
          "data": {
            "text/plain": [
              "<matplotlib.axes._subplots.AxesSubplot at 0x7f18270370b8>"
            ]
          },
          "metadata": {
            "tags": []
          },
          "execution_count": 51
        },
        {
          "output_type": "display_data",
          "data": {
            "image/png": "[encoded data removed]",
            "text/plain": [
              "<Figure size 432x288 with 1 Axes>"
            ]
          },
          "metadata": {
            "tags": [],
            "image/png": {
              "width": 409,
              "height": 249
            },
            "needs_background": "light"
          }
        }
      ]
    },
    {
      "cell_type": "code",
      "metadata": {
        "colab": {
          "base_uri": "https://localhost:8080/"
        },
        "id": "F2b_12zQGfST",
        "outputId": "438b9579-b298-4167-97ec-bb23324d1b7a"
      },
      "source": [
        "brand_count.index"
      ],
      "execution_count": 52,
      "outputs": [
        {
          "output_type": "execute_result",
          "data": {
            "text/plain": [
              "Index(['스타벅스', '배스킨라빈스'], dtype='object')"
            ]
          },
          "metadata": {
            "tags": []
          },
          "execution_count": 52
        }
      ]
    },
    {
      "cell_type": "code",
      "metadata": {
        "colab": {
          "base_uri": "https://localhost:8080/",
          "height": 280
        },
        "id": "_8jsLd_MGg_M",
        "outputId": "1ba966fb-0c19-4c55-d864-e8a95f5ff77b"
      },
      "source": [
        "g = sns.countplot(data=df_10, x=\"브랜드명\")\r\n",
        "\r\n",
        "for i, val in enumerate(brand_count.index):\r\n",
        "    g.text(x=i, y=brand_count[i], s=brand_count[i])"
      ],
      "execution_count": 53,
      "outputs": [
        {
          "output_type": "display_data",
          "data": {
            "image/png": "[encoded data removed]",
            "text/plain": [
              "<Figure size 432x288 with 1 Axes>"
            ]
          },
          "metadata": {
            "tags": [],
            "image/png": {
              "width": 382,
              "height": 264
            },
            "needs_background": "light"
          }
        }
      ]
    },
    {
      "cell_type": "code",
      "metadata": {
        "colab": {
          "base_uri": "https://localhost:8080/",
          "height": 280
        },
        "id": "CxwA0OboGleY",
        "outputId": "59ce266e-e8b1-4ec5-c4d3-c71038ee6119"
      },
      "source": [
        "plt.figure(figsize=(15, 4))\r\n",
        "g = sns.countplot(data=df_10, x=\"행정동명\", hue=\"브랜드명\")"
      ],
      "execution_count": 55,
      "outputs": [
        {
          "output_type": "display_data",
          "data": {
            "image/png": "[encoded data removed]",
            "text/plain": [
              "<Figure size 1080x288 with 1 Axes>"
            ]
          },
          "metadata": {
            "tags": [],
            "image/png": {
              "width": 885,
              "height": 264
            },
            "needs_background": "light"
          }
        }
      ]
    },
    {
      "cell_type": "code",
      "metadata": {
        "colab": {
          "base_uri": "https://localhost:8080/",
          "height": 227
        },
        "id": "Khbf6NZZGrlY",
        "outputId": "edda8d02-2da0-4705-dcec-6421786ee7f2"
      },
      "source": [
        "table_ny_brand = df_10.pivot_table(index=\"행정동명\", columns=\"브랜드명\", values=\"상호명\", aggfunc=\"count\")\r\n",
        "table_ny_brand.head()"
      ],
      "execution_count": 56,
      "outputs": [
        {
          "output_type": "execute_result",
          "data": {
            "text/html": [
              "<div>\n",
              "<style scoped>\n",
              "    .dataframe tbody tr th:only-of-type {\n",
              "        vertical-align: middle;\n",
              "    }\n",
              "\n",
              "    .dataframe tbody tr th {\n",
              "        vertical-align: top;\n",
              "    }\n",
              "\n",
              "    .dataframe thead th {\n",
              "        text-align: right;\n",
              "    }\n",
              "</style>\n",
              "<table border=\"1\" class=\"dataframe\">\n",
              "  <thead>\n",
              "    <tr style=\"text-align: right;\">\n",
              "      <th>브랜드명</th>\n",
              "      <th>배스킨라빈스</th>\n",
              "      <th>스타벅스</th>\n",
              "    </tr>\n",
              "    <tr>\n",
              "      <th>행정동명</th>\n",
              "      <th></th>\n",
              "      <th></th>\n",
              "    </tr>\n",
              "  </thead>\n",
              "  <tbody>\n",
              "    <tr>\n",
              "      <th>금곡동</th>\n",
              "      <td>NaN</td>\n",
              "      <td>2.0</td>\n",
              "    </tr>\n",
              "    <tr>\n",
              "      <th>다산1동</th>\n",
              "      <td>1.0</td>\n",
              "      <td>3.0</td>\n",
              "    </tr>\n",
              "    <tr>\n",
              "      <th>다산2동</th>\n",
              "      <td>NaN</td>\n",
              "      <td>1.0</td>\n",
              "    </tr>\n",
              "    <tr>\n",
              "      <th>도농동</th>\n",
              "      <td>2.0</td>\n",
              "      <td>2.0</td>\n",
              "    </tr>\n",
              "    <tr>\n",
              "      <th>별내동</th>\n",
              "      <td>10.0</td>\n",
              "      <td>12.0</td>\n",
              "    </tr>\n",
              "  </tbody>\n",
              "</table>\n",
              "</div>"
            ],
            "text/plain": [
              "브랜드명  배스킨라빈스  스타벅스\n",
              "행정동명              \n",
              "금곡동      NaN   2.0\n",
              "다산1동     1.0   3.0\n",
              "다산2동     NaN   1.0\n",
              "도농동      2.0   2.0\n",
              "별내동     10.0  12.0"
            ]
          },
          "metadata": {
            "tags": []
          },
          "execution_count": 56
        }
      ]
    },
    {
      "cell_type": "code",
      "metadata": {
        "colab": {
          "base_uri": "https://localhost:8080/"
        },
        "id": "NNOR3b5VG07_",
        "outputId": "9eeda7cc-54e8-4efd-f76d-f02a033d205a"
      },
      "source": [
        "for i, val in table_ny_brand.iterrows():\r\n",
        "    star = val[\"스타벅스\"]\r\n",
        "    baskin = val[\"배스킨라빈스\"]\r\n",
        "    print(star, baskin)"
      ],
      "execution_count": 58,
      "outputs": [
        {
          "output_type": "stream",
          "text": [
            "2.0 nan\n",
            "3.0 1.0\n",
            "1.0 nan\n",
            "2.0 2.0\n",
            "12.0 10.0\n",
            "3.0 nan\n",
            "1.0 nan\n",
            "4.0 1.0\n",
            "7.0 3.0\n",
            "1.0 nan\n",
            "1.0 2.0\n",
            "3.0 2.0\n",
            "7.0 8.0\n",
            "2.0 1.0\n",
            "7.0 1.0\n",
            "6.0 4.0\n",
            "9.0 4.0\n"
          ],
          "name": "stdout"
        }
      ]
    },
    {
      "cell_type": "code",
      "metadata": {
        "colab": {
          "base_uri": "https://localhost:8080/",
          "height": 536
        },
        "id": "5eFoyMuPG81_",
        "outputId": "ffbebcb3-e62e-4343-9ef2-28c6eaece846"
      },
      "source": [
        "plt.figure(figsize=(15, 4))\r\n",
        "# 위에서 만든 피봇테이블과 \"시군구명\"의 순서과 같게 표시되게 하기 위해 order 값을 지정합니다.\r\n",
        "g = sns.countplot(data=df_10, x=\"행정동명\", hue=\"브랜드명\", order=table_ny_brand.index)\r\n",
        "\r\n",
        "# 여기에서 i 값은 시군구명이라 숫자로 표현해줄 필요가 있습니다.\r\n",
        "# 그래서 순서대로 0번부터 찍어줄 수 있도록 index_no 를 만들어 주고 for문을 순회할 때마다 하나씩 증가시킵니다.\r\n",
        "index_no = 0\r\n",
        "for i, val in table_ny_brand.iterrows():\r\n",
        "    star = val[\"스타벅스\"]\r\n",
        "    baskin = val[\"배스킨라빈스\"]\r\n",
        "    g.text(x=index_no, y=star, s=star)\r\n",
        "    g.text(x=index_no, y=baskin, s=baskin)\r\n",
        "    index_no = index_no + 1"
      ],
      "execution_count": 60,
      "outputs": [
        {
          "output_type": "stream",
          "text": [
            "posx and posy should be finite values\n",
            "posx and posy should be finite values\n",
            "posx and posy should be finite values\n",
            "posx and posy should be finite values\n",
            "posx and posy should be finite values\n",
            "posx and posy should be finite values\n",
            "posx and posy should be finite values\n",
            "posx and posy should be finite values\n",
            "posx and posy should be finite values\n",
            "posx and posy should be finite values\n",
            "posx and posy should be finite values\n",
            "posx and posy should be finite values\n",
            "posx and posy should be finite values\n",
            "posx and posy should be finite values\n",
            "posx and posy should be finite values\n"
          ],
          "name": "stderr"
        },
        {
          "output_type": "display_data",
          "data": {
            "image/png": "[encoded data removed]",
            "text/plain": [
              "<Figure size 1080x288 with 1 Axes>"
            ]
          },
          "metadata": {
            "tags": [],
            "image/png": {
              "width": 885,
              "height": 264
            },
            "needs_background": "light"
          }
        }
      ]
    },
    {
      "cell_type": "code",
      "metadata": {
        "id": "Q7e6IlxDHPZn"
      },
      "source": [
        ""
      ],
      "execution_count": null,
      "outputs": []
    }
  ]
}