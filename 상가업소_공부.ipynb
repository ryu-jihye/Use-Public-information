{
  "nbformat": 4,
  "nbformat_minor": 0,
  "metadata": {
    "colab": {
      "name": "상가업소 공부",
      "provenance": [],
      "collapsed_sections": [],
      "authorship_tag": "ABX9TyNffXPKI+p6S3Zmk89Z33jq",
      "include_colab_link": true
    },
    "kernelspec": {
      "name": "python3",
      "display_name": "Python 3"
    }
  },
  "cells": [
    {
      "cell_type": "markdown",
      "metadata": {
        "id": "view-in-github",
        "colab_type": "text"
      },
      "source": [
        "<a href=\"https://colab.research.google.com/github/ryu-jihye/Use-Public-information/blob/main/%EC%83%81%EA%B0%80%EC%97%85%EC%86%8C_%EA%B3%B5%EB%B6%80.ipynb\" target=\"_parent\"><img src=\"https://colab.research.google.com/assets/colab-badge.svg\" alt=\"Open In Colab\"/></a>"
      ]
    },
    {
      "cell_type": "code",
      "metadata": {
        "id": "Pe68fLuKezIV"
      },
      "source": [
        "import pandas as pd\n",
        "import seaborn as sns\n",
        "import matplotlib.pyplot as plt"
      ],
      "execution_count": 1,
      "outputs": []
    },
    {
      "cell_type": "code",
      "metadata": {
        "id": "9--z09zBfrNF",
        "colab": {
          "base_uri": "https://localhost:8080/"
        },
        "outputId": "dfb42209-c800-4909-8d99-5e6d8709037c"
      },
      "source": [
        "!sudo apt-get install -y fonts-nanum\n",
        "!sudo fc-cache -fv\n",
        "!rm ~/.cache/matplotlib -rf"
      ],
      "execution_count": 23,
      "outputs": [
        {
          "output_type": "stream",
          "text": [
            "Reading package lists... Done\n",
            "Building dependency tree       \n",
            "Reading state information... Done\n",
            "The following NEW packages will be installed:\n",
            "  fonts-nanum\n",
            "0 upgraded, 1 newly installed, 0 to remove and 14 not upgraded.\n",
            "Need to get 9,604 kB of archives.\n",
            "After this operation, 29.5 MB of additional disk space will be used.\n",
            "Get:1 http://archive.ubuntu.com/ubuntu bionic/universe amd64 fonts-nanum all 20170925-1 [9,604 kB]\n",
            "Fetched 9,604 kB in 1s (7,537 kB/s)\n",
            "debconf: unable to initialize frontend: Dialog\n",
            "debconf: (No usable dialog-like program is installed, so the dialog based frontend cannot be used. at /usr/share/perl5/Debconf/FrontEnd/Dialog.pm line 76, <> line 1.)\n",
            "debconf: falling back to frontend: Readline\n",
            "debconf: unable to initialize frontend: Readline\n",
            "debconf: (This frontend requires a controlling tty.)\n",
            "debconf: falling back to frontend: Teletype\n",
            "dpkg-preconfigure: unable to re-open stdin: \n",
            "Selecting previously unselected package fonts-nanum.\n",
            "(Reading database ... 144793 files and directories currently installed.)\n",
            "Preparing to unpack .../fonts-nanum_20170925-1_all.deb ...\n",
            "Unpacking fonts-nanum (20170925-1) ...\n",
            "Setting up fonts-nanum (20170925-1) ...\n",
            "Processing triggers for fontconfig (2.12.6-0ubuntu2) ...\n",
            "/usr/share/fonts: caching, new cache contents: 0 fonts, 1 dirs\n",
            "/usr/share/fonts/truetype: caching, new cache contents: 0 fonts, 3 dirs\n",
            "/usr/share/fonts/truetype/humor-sans: caching, new cache contents: 1 fonts, 0 dirs\n",
            "/usr/share/fonts/truetype/liberation: caching, new cache contents: 16 fonts, 0 dirs\n",
            "/usr/share/fonts/truetype/nanum: caching, new cache contents: 10 fonts, 0 dirs\n",
            "/usr/local/share/fonts: caching, new cache contents: 0 fonts, 0 dirs\n",
            "/root/.local/share/fonts: skipping, no such directory\n",
            "/root/.fonts: skipping, no such directory\n",
            "/var/cache/fontconfig: cleaning cache directory\n",
            "/root/.cache/fontconfig: not cleaning non-existent cache directory\n",
            "/root/.fontconfig: not cleaning non-existent cache directory\n",
            "fc-cache: succeeded\n"
          ],
          "name": "stdout"
        }
      ]
    },
    {
      "cell_type": "code",
      "metadata": {
        "id": "kcmASIPegb_R"
      },
      "source": [
        "import matplotlib.pyplot as plt\n",
        "plt.rc('font', family='NanumBarunGothic') "
      ],
      "execution_count": 2,
      "outputs": []
    },
    {
      "cell_type": "code",
      "metadata": {
        "colab": {
          "base_uri": "https://localhost:8080/",
          "height": 372
        },
        "id": "UITxoHa7gvzx",
        "outputId": "6aca7bed-2d9d-4df0-dcc2-aa723c2926eb"
      },
      "source": [
        "pd.Series([-1, 4, 3, 5, -2]).plot(title=\"예시\")"
      ],
      "execution_count": 3,
      "outputs": [
        {
          "output_type": "execute_result",
          "data": {
            "text/plain": [
              "<matplotlib.axes._subplots.AxesSubplot at 0x7f85496cf320>"
            ]
          },
          "metadata": {
            "tags": []
          },
          "execution_count": 3
        },
        {
          "output_type": "stream",
          "text": [
            "/usr/local/lib/python3.6/dist-packages/matplotlib/backends/backend_agg.py:214: RuntimeWarning: Glyph 8722 missing from current font.\n",
            "  font.set_text(s, 0.0, flags=flags)\n",
            "/usr/local/lib/python3.6/dist-packages/matplotlib/backends/backend_agg.py:183: RuntimeWarning: Glyph 8722 missing from current font.\n",
            "  font.set_text(s, 0, flags=flags)\n"
          ],
          "name": "stderr"
        },
        {
          "output_type": "display_data",
          "data": {
            "image/png": "[encoded data removed]",
            "text/plain": [
              "<Figure size 432x288 with 1 Axes>"
            ]
          },
          "metadata": {
            "tags": [],
            "needs_background": "light"
          }
        }
      ]
    },
    {
      "cell_type": "code",
      "metadata": {
        "colab": {
          "resources": {
            "http://localhost:8080/nbextensions/google.colab/files.js": {
              "data": "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",
              "ok": true,
              "headers": [
                [
                  "content-type",
                  "application/javascript"
                ]
              ],
              "status": 200,
              "status_text": ""
            }
          },
          "base_uri": "https://localhost:8080/",
          "height": 75
        },
        "id": "seg1H9bxYKkR",
        "outputId": "c3f0576f-8230-40aa-dc54-24c716842ad1"
      },
      "source": [
        "from google.colab import files\n",
        "uploaded = files.upload()"
      ],
      "execution_count": 9,
      "outputs": [
        {
          "output_type": "display_data",
          "data": {
            "text/html": [
              "\n",
              "     <input type=\"file\" id=\"files-33edfb38-53d5-463d-8061-204be26835a0\" name=\"files[]\" multiple disabled\n",
              "        style=\"border:none\" />\n",
              "     <output id=\"result-33edfb38-53d5-463d-8061-204be26835a0\">\n",
              "      Upload widget is only available when the cell has been executed in the\n",
              "      current browser session. Please rerun this cell to enable.\n",
              "      </output>\n",
              "      <script src=\"/nbextensions/google.colab/files.js\"></script> "
            ],
            "text/plain": [
              "<IPython.core.display.HTML object>"
            ]
          },
          "metadata": {
            "tags": []
          }
        },
        {
          "output_type": "stream",
          "text": [
            "Saving 경기상가번호test.csv to 경기상가번호test (1).csv\n"
          ],
          "name": "stdout"
        }
      ]
    },
    {
      "cell_type": "code",
      "metadata": {
        "id": "Xrd6tk-8hL1M",
        "colab": {
          "base_uri": "https://localhost:8080/"
        },
        "outputId": "5549222f-9636-4650-f91b-3fd35eef5ffd"
      },
      "source": [
        "!ls"
      ],
      "execution_count": 3,
      "outputs": [
        {
          "output_type": "stream",
          "text": [
            "sample_data  경기상가번호test.csv\n"
          ],
          "name": "stdout"
        }
      ]
    },
    {
      "cell_type": "code",
      "metadata": {
        "colab": {
          "base_uri": "https://localhost:8080/"
        },
        "id": "SSZDWq9WVcRX",
        "outputId": "8545bd29-1a83-430c-edca-bd8f9f014450"
      },
      "source": [
        "df = pd.read_csv(\"경기상가번호test.csv\", encoding=\"cp949\")\n",
        "df.shape"
      ],
      "execution_count": 4,
      "outputs": [
        {
          "output_type": "execute_result",
          "data": {
            "text/plain": [
              "(328, 39)"
            ]
          },
          "metadata": {
            "tags": []
          },
          "execution_count": 4
        }
      ]
    },
    {
      "cell_type": "code",
      "metadata": {
        "id": "qj3JhQApWLEI"
      },
      "source": [
        "pd.options.display.max_columns = 39"
      ],
      "execution_count": 5,
      "outputs": []
    },
    {
      "cell_type": "code",
      "metadata": {
        "colab": {
          "base_uri": "https://localhost:8080/",
          "height": 1000
        },
        "id": "8LehkjBdYi7e",
        "outputId": "ddd759c2-f0d7-429c-cbb8-52867290f72d"
      },
      "source": [
        "df.head()"
      ],
      "execution_count": 6,
      "outputs": [
        {
          "output_type": "execute_result",
          "data": {
            "text/html": [
              "<div>\n",
              "<style scoped>\n",
              "    .dataframe tbody tr th:only-of-type {\n",
              "        vertical-align: middle;\n",
              "    }\n",
              "\n",
              "    .dataframe tbody tr th {\n",
              "        vertical-align: top;\n",
              "    }\n",
              "\n",
              "    .dataframe thead th {\n",
              "        text-align: right;\n",
              "    }\n",
              "</style>\n",
              "<table border=\"1\" class=\"dataframe\">\n",
              "  <thead>\n",
              "    <tr style=\"text-align: right;\">\n",
              "      <th></th>\n",
              "      <th>상가업소번호</th>\n",
              "      <th>상호명</th>\n",
              "      <th>지점명</th>\n",
              "      <th>상권업종대분류코드</th>\n",
              "      <th>상권업종대분류명</th>\n",
              "      <th>상권업종중분류코드</th>\n",
              "      <th>상권업종중분류명</th>\n",
              "      <th>상권업종소분류코드</th>\n",
              "      <th>상권업종소분류명</th>\n",
              "      <th>표준산업분류코드</th>\n",
              "      <th>표준산업분류명</th>\n",
              "      <th>시도코드</th>\n",
              "      <th>시도명</th>\n",
              "      <th>시군구코드</th>\n",
              "      <th>시군구명</th>\n",
              "      <th>행정동코드</th>\n",
              "      <th>행정동명</th>\n",
              "      <th>법정동코드</th>\n",
              "      <th>법정동명</th>\n",
              "      <th>지번코드</th>\n",
              "      <th>대지구분코드</th>\n",
              "      <th>대지구분명</th>\n",
              "      <th>지번본번지</th>\n",
              "      <th>지번부번지</th>\n",
              "      <th>지번주소</th>\n",
              "      <th>도로명코드</th>\n",
              "      <th>도로명</th>\n",
              "      <th>건물본번지</th>\n",
              "      <th>건물부번지</th>\n",
              "      <th>건물관리번호</th>\n",
              "      <th>건물명</th>\n",
              "      <th>도로명주소</th>\n",
              "      <th>구우편번호</th>\n",
              "      <th>신우편번호</th>\n",
              "      <th>동정보</th>\n",
              "      <th>층정보</th>\n",
              "      <th>호정보</th>\n",
              "      <th>경도</th>\n",
              "      <th>위도</th>\n",
              "    </tr>\n",
              "  </thead>\n",
              "  <tbody>\n",
              "    <tr>\n",
              "      <th>0</th>\n",
              "      <td>19943193</td>\n",
              "      <td>프리즐</td>\n",
              "      <td>NaN</td>\n",
              "      <td>Q</td>\n",
              "      <td>음식</td>\n",
              "      <td>Q04</td>\n",
              "      <td>분식</td>\n",
              "      <td>Q04A01</td>\n",
              "      <td>라면김밥분식</td>\n",
              "      <td>I56194</td>\n",
              "      <td>분식 및 김밥 전문점</td>\n",
              "      <td>41</td>\n",
              "      <td>경기도</td>\n",
              "      <td>41360</td>\n",
              "      <td>남양주시</td>\n",
              "      <td>4136025300</td>\n",
              "      <td>진접읍</td>\n",
              "      <td>4136025321</td>\n",
              "      <td>진접읍</td>\n",
              "      <td>4.136030e+18</td>\n",
              "      <td>1</td>\n",
              "      <td>대지</td>\n",
              "      <td>672</td>\n",
              "      <td>1.0</td>\n",
              "      <td>경기도 남양주시 진접읍 장현리 672-1</td>\n",
              "      <td>4.136030e+11</td>\n",
              "      <td>경기도 남양주시 진접읍 봉현로</td>\n",
              "      <td>14</td>\n",
              "      <td>NaN</td>\n",
              "      <td>4.136030e+24</td>\n",
              "      <td>NaN</td>\n",
              "      <td>경기도 남양주시 진접읍 봉현로 14</td>\n",
              "      <td>472865</td>\n",
              "      <td>12013</td>\n",
              "      <td>NaN</td>\n",
              "      <td>3.0</td>\n",
              "      <td>NaN</td>\n",
              "      <td>127.181143</td>\n",
              "      <td>37.715402</td>\n",
              "    </tr>\n",
              "    <tr>\n",
              "      <th>1</th>\n",
              "      <td>19943449</td>\n",
              "      <td>최씨네별난맛집</td>\n",
              "      <td>NaN</td>\n",
              "      <td>Q</td>\n",
              "      <td>음식</td>\n",
              "      <td>Q01</td>\n",
              "      <td>한식</td>\n",
              "      <td>Q01A01</td>\n",
              "      <td>한식/백반/한정식</td>\n",
              "      <td>I56111</td>\n",
              "      <td>한식 음식점업</td>\n",
              "      <td>41</td>\n",
              "      <td>경기도</td>\n",
              "      <td>41250</td>\n",
              "      <td>동두천시</td>\n",
              "      <td>4125056500</td>\n",
              "      <td>불현동</td>\n",
              "      <td>4125010400</td>\n",
              "      <td>광암동</td>\n",
              "      <td>4.125010e+18</td>\n",
              "      <td>1</td>\n",
              "      <td>대지</td>\n",
              "      <td>494</td>\n",
              "      <td>34.0</td>\n",
              "      <td>경기도 동두천시 광암동 494-34</td>\n",
              "      <td>4.125040e+11</td>\n",
              "      <td>경기도 동두천시 광암로33번길</td>\n",
              "      <td>15</td>\n",
              "      <td>NaN</td>\n",
              "      <td>4.125010e+24</td>\n",
              "      <td>NaN</td>\n",
              "      <td>경기도 동두천시 광암로33번길 15</td>\n",
              "      <td>483040</td>\n",
              "      <td>11321</td>\n",
              "      <td>NaN</td>\n",
              "      <td>1.0</td>\n",
              "      <td>NaN</td>\n",
              "      <td>127.085525</td>\n",
              "      <td>37.896127</td>\n",
              "    </tr>\n",
              "    <tr>\n",
              "      <th>2</th>\n",
              "      <td>19946985</td>\n",
              "      <td>페리카나</td>\n",
              "      <td>NaN</td>\n",
              "      <td>Q</td>\n",
              "      <td>음식</td>\n",
              "      <td>Q05</td>\n",
              "      <td>닭/오리요리</td>\n",
              "      <td>Q05A08</td>\n",
              "      <td>후라이드/양념치킨</td>\n",
              "      <td>I56193</td>\n",
              "      <td>치킨 전문점</td>\n",
              "      <td>41</td>\n",
              "      <td>경기도</td>\n",
              "      <td>41133</td>\n",
              "      <td>성남시 중원구</td>\n",
              "      <td>4113366000</td>\n",
              "      <td>하대원동</td>\n",
              "      <td>4113310900</td>\n",
              "      <td>하대원동</td>\n",
              "      <td>4.113310e+18</td>\n",
              "      <td>1</td>\n",
              "      <td>대지</td>\n",
              "      <td>154</td>\n",
              "      <td>44.0</td>\n",
              "      <td>경기도 성남시 중원구 하대원동 154-44</td>\n",
              "      <td>4.113340e+11</td>\n",
              "      <td>경기도 성남시 중원구 마지로155번길</td>\n",
              "      <td>25</td>\n",
              "      <td>7.0</td>\n",
              "      <td>4.113310e+24</td>\n",
              "      <td>NaN</td>\n",
              "      <td>경기도 성남시 중원구 마지로155번길 25-7</td>\n",
              "      <td>462839</td>\n",
              "      <td>13406</td>\n",
              "      <td>NaN</td>\n",
              "      <td>1.0</td>\n",
              "      <td>NaN</td>\n",
              "      <td>127.149042</td>\n",
              "      <td>37.428063</td>\n",
              "    </tr>\n",
              "    <tr>\n",
              "      <th>3</th>\n",
              "      <td>19947331</td>\n",
              "      <td>한우장다리식당</td>\n",
              "      <td>NaN</td>\n",
              "      <td>Q</td>\n",
              "      <td>음식</td>\n",
              "      <td>Q01</td>\n",
              "      <td>한식</td>\n",
              "      <td>Q01A01</td>\n",
              "      <td>한식/백반/한정식</td>\n",
              "      <td>I56111</td>\n",
              "      <td>한식 음식점업</td>\n",
              "      <td>41</td>\n",
              "      <td>경기도</td>\n",
              "      <td>41135</td>\n",
              "      <td>성남시 분당구</td>\n",
              "      <td>4113554500</td>\n",
              "      <td>정자동</td>\n",
              "      <td>4113510300</td>\n",
              "      <td>정자동</td>\n",
              "      <td>4.113510e+18</td>\n",
              "      <td>1</td>\n",
              "      <td>대지</td>\n",
              "      <td>43</td>\n",
              "      <td>9.0</td>\n",
              "      <td>경기도 성남시 분당구 정자동 43-9</td>\n",
              "      <td>4.113540e+11</td>\n",
              "      <td>경기도 성남시 분당구 내정로119번길</td>\n",
              "      <td>20</td>\n",
              "      <td>NaN</td>\n",
              "      <td>4.113510e+24</td>\n",
              "      <td>NaN</td>\n",
              "      <td>경기도 성남시 분당구 내정로119번길 20</td>\n",
              "      <td>463848</td>\n",
              "      <td>13609</td>\n",
              "      <td>NaN</td>\n",
              "      <td>1.0</td>\n",
              "      <td>NaN</td>\n",
              "      <td>127.113929</td>\n",
              "      <td>37.372101</td>\n",
              "    </tr>\n",
              "    <tr>\n",
              "      <th>4</th>\n",
              "      <td>19947348</td>\n",
              "      <td>우체국커피자동판매기</td>\n",
              "      <td>NaN</td>\n",
              "      <td>D</td>\n",
              "      <td>소매</td>\n",
              "      <td>D25</td>\n",
              "      <td>기타판매업</td>\n",
              "      <td>D25A18</td>\n",
              "      <td>자동판매기운영</td>\n",
              "      <td>G47991</td>\n",
              "      <td>자동판매기 운영업</td>\n",
              "      <td>41</td>\n",
              "      <td>경기도</td>\n",
              "      <td>41131</td>\n",
              "      <td>성남시 수정구</td>\n",
              "      <td>4113153000</td>\n",
              "      <td>신흥3동</td>\n",
              "      <td>4113110100</td>\n",
              "      <td>신흥동</td>\n",
              "      <td>4.113110e+18</td>\n",
              "      <td>1</td>\n",
              "      <td>대지</td>\n",
              "      <td>2482</td>\n",
              "      <td>NaN</td>\n",
              "      <td>경기도 성남시 수정구 신흥동 2482</td>\n",
              "      <td>4.113120e+11</td>\n",
              "      <td>경기도 성남시 수정구 산성대로</td>\n",
              "      <td>297</td>\n",
              "      <td>NaN</td>\n",
              "      <td>4.113110e+24</td>\n",
              "      <td>프린스컨벤션센터</td>\n",
              "      <td>경기도 성남시 수정구 산성대로 297</td>\n",
              "      <td>461163</td>\n",
              "      <td>13354</td>\n",
              "      <td>NaN</td>\n",
              "      <td>1.0</td>\n",
              "      <td>NaN</td>\n",
              "      <td>127.149640</td>\n",
              "      <td>37.442115</td>\n",
              "    </tr>\n",
              "  </tbody>\n",
              "</table>\n",
              "</div>"
            ],
            "text/plain": [
              "     상가업소번호         상호명  지점명 상권업종대분류코드 상권업종대분류명 상권업종중분류코드 상권업종중분류명 상권업종소분류코드  \\\n",
              "0  19943193         프리즐  NaN         Q       음식       Q04       분식    Q04A01   \n",
              "1  19943449     최씨네별난맛집  NaN         Q       음식       Q01       한식    Q01A01   \n",
              "2  19946985        페리카나  NaN         Q       음식       Q05   닭/오리요리    Q05A08   \n",
              "3  19947331     한우장다리식당  NaN         Q       음식       Q01       한식    Q01A01   \n",
              "4  19947348  우체국커피자동판매기  NaN         D       소매       D25    기타판매업    D25A18   \n",
              "\n",
              "    상권업종소분류명 표준산업분류코드      표준산업분류명  시도코드  시도명  시군구코드     시군구명       행정동코드  \\\n",
              "0     라면김밥분식   I56194  분식 및 김밥 전문점    41  경기도  41360     남양주시  4136025300   \n",
              "1  한식/백반/한정식   I56111      한식 음식점업    41  경기도  41250     동두천시  4125056500   \n",
              "2  후라이드/양념치킨   I56193       치킨 전문점    41  경기도  41133  성남시 중원구  4113366000   \n",
              "3  한식/백반/한정식   I56111      한식 음식점업    41  경기도  41135  성남시 분당구  4113554500   \n",
              "4    자동판매기운영   G47991    자동판매기 운영업    41  경기도  41131  성남시 수정구  4113153000   \n",
              "\n",
              "   행정동명       법정동코드  법정동명          지번코드  대지구분코드 대지구분명  지번본번지  지번부번지  \\\n",
              "0   진접읍  4136025321   진접읍  4.136030e+18       1    대지    672    1.0   \n",
              "1   불현동  4125010400   광암동  4.125010e+18       1    대지    494   34.0   \n",
              "2  하대원동  4113310900  하대원동  4.113310e+18       1    대지    154   44.0   \n",
              "3   정자동  4113510300   정자동  4.113510e+18       1    대지     43    9.0   \n",
              "4  신흥3동  4113110100   신흥동  4.113110e+18       1    대지   2482    NaN   \n",
              "\n",
              "                      지번주소         도로명코드                   도로명  건물본번지  건물부번지  \\\n",
              "0   경기도 남양주시 진접읍 장현리 672-1  4.136030e+11      경기도 남양주시 진접읍 봉현로     14    NaN   \n",
              "1      경기도 동두천시 광암동 494-34  4.125040e+11      경기도 동두천시 광암로33번길     15    NaN   \n",
              "2  경기도 성남시 중원구 하대원동 154-44  4.113340e+11  경기도 성남시 중원구 마지로155번길     25    7.0   \n",
              "3     경기도 성남시 분당구 정자동 43-9  4.113540e+11  경기도 성남시 분당구 내정로119번길     20    NaN   \n",
              "4     경기도 성남시 수정구 신흥동 2482  4.113120e+11      경기도 성남시 수정구 산성대로    297    NaN   \n",
              "\n",
              "         건물관리번호       건물명                      도로명주소   구우편번호  신우편번호  동정보  층정보  \\\n",
              "0  4.136030e+24       NaN        경기도 남양주시 진접읍 봉현로 14  472865  12013  NaN  3.0   \n",
              "1  4.125010e+24       NaN        경기도 동두천시 광암로33번길 15  483040  11321  NaN  1.0   \n",
              "2  4.113310e+24       NaN  경기도 성남시 중원구 마지로155번길 25-7  462839  13406  NaN  1.0   \n",
              "3  4.113510e+24       NaN    경기도 성남시 분당구 내정로119번길 20  463848  13609  NaN  1.0   \n",
              "4  4.113110e+24  프린스컨벤션센터       경기도 성남시 수정구 산성대로 297  461163  13354  NaN  1.0   \n",
              "\n",
              "   호정보          경도         위도  \n",
              "0  NaN  127.181143  37.715402  \n",
              "1  NaN  127.085525  37.896127  \n",
              "2  NaN  127.149042  37.428063  \n",
              "3  NaN  127.113929  37.372101  \n",
              "4  NaN  127.149640  37.442115  "
            ]
          },
          "metadata": {
            "tags": []
          },
          "execution_count": 6
        }
      ]
    },
    {
      "cell_type": "code",
      "metadata": {
        "colab": {
          "base_uri": "https://localhost:8080/"
        },
        "id": "qjbCCFSqYqg_",
        "outputId": "ae403740-6c26-4e75-9920-0835188a9446"
      },
      "source": [
        "df.index"
      ],
      "execution_count": 7,
      "outputs": [
        {
          "output_type": "execute_result",
          "data": {
            "text/plain": [
              "RangeIndex(start=0, stop=328, step=1)"
            ]
          },
          "metadata": {
            "tags": []
          },
          "execution_count": 7
        }
      ]
    },
    {
      "cell_type": "code",
      "metadata": {
        "colab": {
          "base_uri": "https://localhost:8080/"
        },
        "id": "rzB3nZcnZBnQ",
        "outputId": "195d4cbc-b7a0-4cef-a9c2-d296c329f107"
      },
      "source": [
        "df.columns"
      ],
      "execution_count": 8,
      "outputs": [
        {
          "output_type": "execute_result",
          "data": {
            "text/plain": [
              "Index(['상가업소번호', '상호명', '지점명', '상권업종대분류코드', '상권업종대분류명', '상권업종중분류코드',\n",
              "       '상권업종중분류명', '상권업종소분류코드', '상권업종소분류명', '표준산업분류코드', '표준산업분류명', '시도코드',\n",
              "       '시도명', '시군구코드', '시군구명', '행정동코드', '행정동명', '법정동코드', '법정동명', '지번코드',\n",
              "       '대지구분코드', '대지구분명', '지번본번지', '지번부번지', '지번주소', '도로명코드', '도로명', '건물본번지',\n",
              "       '건물부번지', '건물관리번호', '건물명', '도로명주소', '구우편번호', '신우편번호', '동정보', '층정보',\n",
              "       '호정보', '경도', '위도'],\n",
              "      dtype='object')"
            ]
          },
          "metadata": {
            "tags": []
          },
          "execution_count": 8
        }
      ]
    },
    {
      "cell_type": "code",
      "metadata": {
        "colab": {
          "base_uri": "https://localhost:8080/"
        },
        "id": "7xYYjMTgZDtA",
        "outputId": "2581cc9f-5997-453e-89d1-a4fb00582045"
      },
      "source": [
        "df.info()"
      ],
      "execution_count": 9,
      "outputs": [
        {
          "output_type": "stream",
          "text": [
            "<class 'pandas.core.frame.DataFrame'>\n",
            "RangeIndex: 328 entries, 0 to 327\n",
            "Data columns (total 39 columns):\n",
            " #   Column     Non-Null Count  Dtype  \n",
            "---  ------     --------------  -----  \n",
            " 0   상가업소번호     328 non-null    int64  \n",
            " 1   상호명        328 non-null    object \n",
            " 2   지점명        29 non-null     object \n",
            " 3   상권업종대분류코드  328 non-null    object \n",
            " 4   상권업종대분류명   328 non-null    object \n",
            " 5   상권업종중분류코드  328 non-null    object \n",
            " 6   상권업종중분류명   328 non-null    object \n",
            " 7   상권업종소분류코드  328 non-null    object \n",
            " 8   상권업종소분류명   328 non-null    object \n",
            " 9   표준산업분류코드   303 non-null    object \n",
            " 10  표준산업분류명    303 non-null    object \n",
            " 11  시도코드       328 non-null    int64  \n",
            " 12  시도명        328 non-null    object \n",
            " 13  시군구코드      328 non-null    int64  \n",
            " 14  시군구명       328 non-null    object \n",
            " 15  행정동코드      328 non-null    int64  \n",
            " 16  행정동명       322 non-null    object \n",
            " 17  법정동코드      328 non-null    int64  \n",
            " 18  법정동명       328 non-null    object \n",
            " 19  지번코드       328 non-null    float64\n",
            " 20  대지구분코드     328 non-null    int64  \n",
            " 21  대지구분명      328 non-null    object \n",
            " 22  지번본번지      328 non-null    int64  \n",
            " 23  지번부번지      234 non-null    float64\n",
            " 24  지번주소       328 non-null    object \n",
            " 25  도로명코드      328 non-null    float64\n",
            " 26  도로명        328 non-null    object \n",
            " 27  건물본번지      328 non-null    int64  \n",
            " 28  건물부번지      55 non-null     float64\n",
            " 29  건물관리번호     328 non-null    float64\n",
            " 30  건물명        160 non-null    object \n",
            " 31  도로명주소      328 non-null    object \n",
            " 32  구우편번호      328 non-null    int64  \n",
            " 33  신우편번호      328 non-null    int64  \n",
            " 34  동정보        2 non-null      object \n",
            " 35  층정보        267 non-null    float64\n",
            " 36  호정보        24 non-null     object \n",
            " 37  경도         328 non-null    float64\n",
            " 38  위도         328 non-null    float64\n",
            "dtypes: float64(8), int64(10), object(21)\n",
            "memory usage: 100.1+ KB\n"
          ],
          "name": "stdout"
        }
      ]
    },
    {
      "cell_type": "code",
      "metadata": {
        "id": "Zablr4xMZM_1"
      },
      "source": [
        "n = df.isnull().sum()"
      ],
      "execution_count": 10,
      "outputs": []
    },
    {
      "cell_type": "code",
      "metadata": {
        "colab": {
          "base_uri": "https://localhost:8080/",
          "height": 353
        },
        "id": "uEILCmIKZySy",
        "outputId": "a394e372-5016-4cde-f6b9-4b8fd3cf2fa2"
      },
      "source": [
        "n.plot.bar()"
      ],
      "execution_count": 12,
      "outputs": [
        {
          "output_type": "execute_result",
          "data": {
            "text/plain": [
              "<matplotlib.axes._subplots.AxesSubplot at 0x7f8548cb6f60>"
            ]
          },
          "metadata": {
            "tags": []
          },
          "execution_count": 12
        },
        {
          "output_type": "display_data",
          "data": {
            "image/png": "[encoded data removed]",
            "text/plain": [
              "<Figure size 432x288 with 1 Axes>"
            ]
          },
          "metadata": {
            "tags": [],
            "needs_background": "light"
          }
        }
      ]
    },
    {
      "cell_type": "code",
      "metadata": {
        "colab": {
          "base_uri": "https://localhost:8080/",
          "height": 501
        },
        "id": "E4VwwPA8Z8z_",
        "outputId": "c031cee1-5936-40d6-db4b-6bb566e5f124"
      },
      "source": [
        "n.sort_values().plot.barh(figsize=(7, 8))"
      ],
      "execution_count": 15,
      "outputs": [
        {
          "output_type": "execute_result",
          "data": {
            "text/plain": [
              "<matplotlib.axes._subplots.AxesSubplot at 0x7f8548773da0>"
            ]
          },
          "metadata": {
            "tags": []
          },
          "execution_count": 15
        },
        {
          "output_type": "display_data",
          "data": {
            "image/png": "[encoded data removed]",
            "text/plain": [
              "<Figure size 504x576 with 1 Axes>"
            ]
          },
          "metadata": {
            "tags": [],
            "needs_background": "light"
          }
        }
      ]
    },
    {
      "cell_type": "code",
      "metadata": {
        "id": "zDwi7QwaaeUc"
      },
      "source": [
        "import missingno as msno"
      ],
      "execution_count": 16,
      "outputs": []
    },
    {
      "cell_type": "code",
      "metadata": {
        "colab": {
          "base_uri": "https://localhost:8080/",
          "height": 403
        },
        "id": "6r0jUZcDbamK",
        "outputId": "12c728b6-355e-49c0-c065-42e7e9b16fd5"
      },
      "source": [
        "msno.matrix(df)"
      ],
      "execution_count": 17,
      "outputs": [
        {
          "output_type": "execute_result",
          "data": {
            "text/plain": [
              "<matplotlib.axes._subplots.AxesSubplot at 0x7f85485a8dd8>"
            ]
          },
          "metadata": {
            "tags": []
          },
          "execution_count": 17
        },
        {
          "output_type": "display_data",
          "data": {
            "image/png": "[encoded data removed]",
            "text/plain": [
              "<Figure size 1800x720 with 2 Axes>"
            ]
          },
          "metadata": {
            "tags": [],
            "needs_background": "light"
          }
        }
      ]
    },
    {
      "cell_type": "code",
      "metadata": {
        "colab": {
          "base_uri": "https://localhost:8080/",
          "height": 660
        },
        "id": "2sYU9uFGbpjN",
        "outputId": "0e32c7d7-e314-4ea1-d863-6a3a58405cc0"
      },
      "source": [
        "msno.heatmap(df)"
      ],
      "execution_count": 18,
      "outputs": [
        {
          "output_type": "stream",
          "text": [
            "/usr/local/lib/python3.6/dist-packages/matplotlib/backends/backend_agg.py:214: RuntimeWarning: Glyph 8722 missing from current font.\n",
            "  font.set_text(s, 0.0, flags=flags)\n",
            "/usr/local/lib/python3.6/dist-packages/matplotlib/backends/backend_agg.py:183: RuntimeWarning: Glyph 8722 missing from current font.\n",
            "  font.set_text(s, 0, flags=flags)\n"
          ],
          "name": "stderr"
        },
        {
          "output_type": "execute_result",
          "data": {
            "text/plain": [
              "<matplotlib.axes._subplots.AxesSubplot at 0x7f8545c58390>"
            ]
          },
          "metadata": {
            "tags": []
          },
          "execution_count": 18
        },
        {
          "output_type": "display_data",
          "data": {
            "image/png": "[encoded data removed]",
            "text/plain": [
              "<Figure size 1440x864 with 2 Axes>"
            ]
          },
          "metadata": {
            "tags": [],
            "needs_background": "light"
          }
        }
      ]
    },
    {
      "cell_type": "code",
      "metadata": {
        "colab": {
          "base_uri": "https://localhost:8080/",
          "height": 397
        },
        "id": "BFAjOXV7bxrI",
        "outputId": "942836d6-ef19-4548-e0d0-bcfa8c5f235a"
      },
      "source": [
        "msno.dendrogram(df)"
      ],
      "execution_count": 19,
      "outputs": [
        {
          "output_type": "execute_result",
          "data": {
            "text/plain": [
              "<matplotlib.axes._subplots.AxesSubplot at 0x7f85443676d8>"
            ]
          },
          "metadata": {
            "tags": []
          },
          "execution_count": 19
        },
        {
          "output_type": "display_data",
          "data": {
            "image/png": "[encoded data removed]",
            "text/plain": [
              "<Figure size 1800x720 with 1 Axes>"
            ]
          },
          "metadata": {
            "tags": [],
            "needs_background": "light"
          }
        }
      ]
    },
    {
      "cell_type": "code",
      "metadata": {
        "colab": {
          "base_uri": "https://localhost:8080/"
        },
        "id": "Tg7B7GP1cAZn",
        "outputId": "4fee8501-899a-4a57-f9e8-af9e8a89ab37"
      },
      "source": [
        "not_use = n.sort_values(ascending=False).head(9)\n",
        "not_use_col = not_use.index\n",
        "not_use_col"
      ],
      "execution_count": 28,
      "outputs": [
        {
          "output_type": "execute_result",
          "data": {
            "text/plain": [
              "Index(['동정보', '호정보', '지점명', '건물부번지', '건물명', '지번부번지', '층정보', '표준산업분류명',\n",
              "       '표준산업분류코드'],\n",
              "      dtype='object')"
            ]
          },
          "metadata": {
            "tags": []
          },
          "execution_count": 28
        }
      ]
    },
    {
      "cell_type": "code",
      "metadata": {
        "colab": {
          "base_uri": "https://localhost:8080/"
        },
        "id": "OHmmwTOycIml",
        "outputId": "cab9df69-60fc-4d49-f8f9-ac0e6eee6f54"
      },
      "source": [
        "print(df.shape)\n",
        "df = df.drop(not_use_col, axis=1)\n",
        "print(df.shape)"
      ],
      "execution_count": 34,
      "outputs": [
        {
          "output_type": "stream",
          "text": [
            "(328, 39)\n",
            "(328, 30)\n"
          ],
          "name": "stdout"
        }
      ]
    },
    {
      "cell_type": "code",
      "metadata": {
        "colab": {
          "base_uri": "https://localhost:8080/"
        },
        "id": "PzYMzMLfcq1B",
        "outputId": "8989d516-8b4a-4be8-9026-945b032d1b09"
      },
      "source": [
        "df.info()"
      ],
      "execution_count": 35,
      "outputs": [
        {
          "output_type": "stream",
          "text": [
            "<class 'pandas.core.frame.DataFrame'>\n",
            "RangeIndex: 328 entries, 0 to 327\n",
            "Data columns (total 30 columns):\n",
            " #   Column     Non-Null Count  Dtype  \n",
            "---  ------     --------------  -----  \n",
            " 0   상가업소번호     328 non-null    int64  \n",
            " 1   상호명        328 non-null    object \n",
            " 2   상권업종대분류코드  328 non-null    object \n",
            " 3   상권업종대분류명   328 non-null    object \n",
            " 4   상권업종중분류코드  328 non-null    object \n",
            " 5   상권업종중분류명   328 non-null    object \n",
            " 6   상권업종소분류코드  328 non-null    object \n",
            " 7   상권업종소분류명   328 non-null    object \n",
            " 8   시도코드       328 non-null    int64  \n",
            " 9   시도명        328 non-null    object \n",
            " 10  시군구코드      328 non-null    int64  \n",
            " 11  시군구명       328 non-null    object \n",
            " 12  행정동코드      328 non-null    int64  \n",
            " 13  행정동명       322 non-null    object \n",
            " 14  법정동코드      328 non-null    int64  \n",
            " 15  법정동명       328 non-null    object \n",
            " 16  지번코드       328 non-null    float64\n",
            " 17  대지구분코드     328 non-null    int64  \n",
            " 18  대지구분명      328 non-null    object \n",
            " 19  지번본번지      328 non-null    int64  \n",
            " 20  지번주소       328 non-null    object \n",
            " 21  도로명코드      328 non-null    float64\n",
            " 22  도로명        328 non-null    object \n",
            " 23  건물본번지      328 non-null    int64  \n",
            " 24  건물관리번호     328 non-null    float64\n",
            " 25  도로명주소      328 non-null    object \n",
            " 26  구우편번호      328 non-null    int64  \n",
            " 27  신우편번호      328 non-null    int64  \n",
            " 28  경도         328 non-null    float64\n",
            " 29  위도         328 non-null    float64\n",
            "dtypes: float64(5), int64(10), object(15)\n",
            "memory usage: 77.0+ KB\n"
          ],
          "name": "stdout"
        }
      ]
    },
    {
      "cell_type": "code",
      "metadata": {
        "colab": {
          "base_uri": "https://localhost:8080/"
        },
        "id": "UWFjyBeNdH3g",
        "outputId": "1881d40a-d1c0-492e-c701-8e3f62b50666"
      },
      "source": [
        "cols = df.columns\n",
        "cols"
      ],
      "execution_count": 37,
      "outputs": [
        {
          "output_type": "execute_result",
          "data": {
            "text/plain": [
              "Index(['상가업소번호', '상호명', '상권업종대분류코드', '상권업종대분류명', '상권업종중분류코드', '상권업종중분류명',\n",
              "       '상권업종소분류코드', '상권업종소분류명', '시도코드', '시도명', '시군구코드', '시군구명', '행정동코드',\n",
              "       '행정동명', '법정동코드', '법정동명', '지번코드', '대지구분코드', '대지구분명', '지번본번지', '지번주소',\n",
              "       '도로명코드', '도로명', '건물본번지', '건물관리번호', '도로명주소', '구우편번호', '신우편번호', '경도',\n",
              "       '위도'],\n",
              "      dtype='object')"
            ]
          },
          "metadata": {
            "tags": []
          },
          "execution_count": 37
        }
      ]
    },
    {
      "cell_type": "code",
      "metadata": {
        "colab": {
          "base_uri": "https://localhost:8080/"
        },
        "id": "W16BAALvdQu8",
        "outputId": "cc72f622-7573-43bd-e727-015d5359954d"
      },
      "source": [
        "cols_code = cols[cols.str.contains(\"코드|번호\")]\n",
        "cols_code\n",
        "#| : or연산자\n",
        "#& : and연산자"
      ],
      "execution_count": 41,
      "outputs": [
        {
          "output_type": "execute_result",
          "data": {
            "text/plain": [
              "Index(['상가업소번호', '상권업종대분류코드', '상권업종중분류코드', '상권업종소분류코드', '시도코드', '시군구코드',\n",
              "       '행정동코드', '법정동코드', '지번코드', '대지구분코드', '도로명코드', '건물관리번호', '구우편번호',\n",
              "       '신우편번호'],\n",
              "      dtype='object')"
            ]
          },
          "metadata": {
            "tags": []
          },
          "execution_count": 41
        }
      ]
    },
    {
      "cell_type": "code",
      "metadata": {
        "colab": {
          "base_uri": "https://localhost:8080/"
        },
        "id": "s6CCHNLRdYjU",
        "outputId": "c7544e9e-7359-4099-842f-009cd045306d"
      },
      "source": [
        "print(df.shape)\n",
        "df = df.drop(cols_code, axis=1)\n",
        "print(df.shape)"
      ],
      "execution_count": 43,
      "outputs": [
        {
          "output_type": "stream",
          "text": [
            "(328, 30)\n",
            "(328, 16)\n"
          ],
          "name": "stdout"
        }
      ]
    },
    {
      "cell_type": "code",
      "metadata": {
        "colab": {
          "base_uri": "https://localhost:8080/"
        },
        "id": "Lu2GfvI2ds5S",
        "outputId": "cac4e450-84bf-403d-cfad-e31fe98bf05f"
      },
      "source": [
        "df.info()"
      ],
      "execution_count": 44,
      "outputs": [
        {
          "output_type": "stream",
          "text": [
            "<class 'pandas.core.frame.DataFrame'>\n",
            "RangeIndex: 328 entries, 0 to 327\n",
            "Data columns (total 16 columns):\n",
            " #   Column    Non-Null Count  Dtype  \n",
            "---  ------    --------------  -----  \n",
            " 0   상호명       328 non-null    object \n",
            " 1   상권업종대분류명  328 non-null    object \n",
            " 2   상권업종중분류명  328 non-null    object \n",
            " 3   상권업종소분류명  328 non-null    object \n",
            " 4   시도명       328 non-null    object \n",
            " 5   시군구명      328 non-null    object \n",
            " 6   행정동명      322 non-null    object \n",
            " 7   법정동명      328 non-null    object \n",
            " 8   대지구분명     328 non-null    object \n",
            " 9   지번본번지     328 non-null    int64  \n",
            " 10  지번주소      328 non-null    object \n",
            " 11  도로명       328 non-null    object \n",
            " 12  건물본번지     328 non-null    int64  \n",
            " 13  도로명주소     328 non-null    object \n",
            " 14  경도        328 non-null    float64\n",
            " 15  위도        328 non-null    float64\n",
            "dtypes: float64(2), int64(2), object(12)\n",
            "memory usage: 41.1+ KB\n"
          ],
          "name": "stdout"
        }
      ]
    },
    {
      "cell_type": "code",
      "metadata": {
        "colab": {
          "base_uri": "https://localhost:8080/",
          "height": 201
        },
        "id": "nkidF9-kehu-",
        "outputId": "2ebaa6e0-ecf5-46a5-b507-9a3d06c63dd5"
      },
      "source": [
        "df[[\"상호명\"]].head()"
      ],
      "execution_count": 52,
      "outputs": [
        {
          "output_type": "execute_result",
          "data": {
            "text/html": [
              "<div>\n",
              "<style scoped>\n",
              "    .dataframe tbody tr th:only-of-type {\n",
              "        vertical-align: middle;\n",
              "    }\n",
              "\n",
              "    .dataframe tbody tr th {\n",
              "        vertical-align: top;\n",
              "    }\n",
              "\n",
              "    .dataframe thead th {\n",
              "        text-align: right;\n",
              "    }\n",
              "</style>\n",
              "<table border=\"1\" class=\"dataframe\">\n",
              "  <thead>\n",
              "    <tr style=\"text-align: right;\">\n",
              "      <th></th>\n",
              "      <th>상호명</th>\n",
              "    </tr>\n",
              "  </thead>\n",
              "  <tbody>\n",
              "    <tr>\n",
              "      <th>0</th>\n",
              "      <td>프리즐</td>\n",
              "    </tr>\n",
              "    <tr>\n",
              "      <th>1</th>\n",
              "      <td>최씨네별난맛집</td>\n",
              "    </tr>\n",
              "    <tr>\n",
              "      <th>2</th>\n",
              "      <td>페리카나</td>\n",
              "    </tr>\n",
              "    <tr>\n",
              "      <th>3</th>\n",
              "      <td>한우장다리식당</td>\n",
              "    </tr>\n",
              "    <tr>\n",
              "      <th>4</th>\n",
              "      <td>우체국커피자동판매기</td>\n",
              "    </tr>\n",
              "  </tbody>\n",
              "</table>\n",
              "</div>"
            ],
            "text/plain": [
              "          상호명\n",
              "0         프리즐\n",
              "1     최씨네별난맛집\n",
              "2        페리카나\n",
              "3     한우장다리식당\n",
              "4  우체국커피자동판매기"
            ]
          },
          "metadata": {
            "tags": []
          },
          "execution_count": 52
        }
      ]
    },
    {
      "cell_type": "code",
      "metadata": {
        "colab": {
          "base_uri": "https://localhost:8080/",
          "height": 201
        },
        "id": "1qUeeQ3Kd3iz",
        "outputId": "d26a2947-bc96-43ed-8f07-01eb070bb781"
      },
      "source": [
        "df[[\"상호명\", \"도로명주소\"]].head()"
      ],
      "execution_count": 53,
      "outputs": [
        {
          "output_type": "execute_result",
          "data": {
            "text/html": [
              "<div>\n",
              "<style scoped>\n",
              "    .dataframe tbody tr th:only-of-type {\n",
              "        vertical-align: middle;\n",
              "    }\n",
              "\n",
              "    .dataframe tbody tr th {\n",
              "        vertical-align: top;\n",
              "    }\n",
              "\n",
              "    .dataframe thead th {\n",
              "        text-align: right;\n",
              "    }\n",
              "</style>\n",
              "<table border=\"1\" class=\"dataframe\">\n",
              "  <thead>\n",
              "    <tr style=\"text-align: right;\">\n",
              "      <th></th>\n",
              "      <th>상호명</th>\n",
              "      <th>도로명주소</th>\n",
              "    </tr>\n",
              "  </thead>\n",
              "  <tbody>\n",
              "    <tr>\n",
              "      <th>0</th>\n",
              "      <td>프리즐</td>\n",
              "      <td>경기도 남양주시 진접읍 봉현로 14</td>\n",
              "    </tr>\n",
              "    <tr>\n",
              "      <th>1</th>\n",
              "      <td>최씨네별난맛집</td>\n",
              "      <td>경기도 동두천시 광암로33번길 15</td>\n",
              "    </tr>\n",
              "    <tr>\n",
              "      <th>2</th>\n",
              "      <td>페리카나</td>\n",
              "      <td>경기도 성남시 중원구 마지로155번길 25-7</td>\n",
              "    </tr>\n",
              "    <tr>\n",
              "      <th>3</th>\n",
              "      <td>한우장다리식당</td>\n",
              "      <td>경기도 성남시 분당구 내정로119번길 20</td>\n",
              "    </tr>\n",
              "    <tr>\n",
              "      <th>4</th>\n",
              "      <td>우체국커피자동판매기</td>\n",
              "      <td>경기도 성남시 수정구 산성대로 297</td>\n",
              "    </tr>\n",
              "  </tbody>\n",
              "</table>\n",
              "</div>"
            ],
            "text/plain": [
              "          상호명                      도로명주소\n",
              "0         프리즐        경기도 남양주시 진접읍 봉현로 14\n",
              "1     최씨네별난맛집        경기도 동두천시 광암로33번길 15\n",
              "2        페리카나  경기도 성남시 중원구 마지로155번길 25-7\n",
              "3     한우장다리식당    경기도 성남시 분당구 내정로119번길 20\n",
              "4  우체국커피자동판매기       경기도 성남시 수정구 산성대로 297"
            ]
          },
          "metadata": {
            "tags": []
          },
          "execution_count": 53
        }
      ]
    },
    {
      "cell_type": "code",
      "metadata": {
        "colab": {
          "base_uri": "https://localhost:8080/",
          "height": 268
        },
        "id": "XCdVXGXOeMNH",
        "outputId": "47b35f27-1bd7-4385-9fcf-6dfcab248a55"
      },
      "source": [
        "df.loc[[0]]"
      ],
      "execution_count": 57,
      "outputs": [
        {
          "output_type": "execute_result",
          "data": {
            "text/html": [
              "<div>\n",
              "<style scoped>\n",
              "    .dataframe tbody tr th:only-of-type {\n",
              "        vertical-align: middle;\n",
              "    }\n",
              "\n",
              "    .dataframe tbody tr th {\n",
              "        vertical-align: top;\n",
              "    }\n",
              "\n",
              "    .dataframe thead th {\n",
              "        text-align: right;\n",
              "    }\n",
              "</style>\n",
              "<table border=\"1\" class=\"dataframe\">\n",
              "  <thead>\n",
              "    <tr style=\"text-align: right;\">\n",
              "      <th></th>\n",
              "      <th>상호명</th>\n",
              "      <th>상권업종대분류명</th>\n",
              "      <th>상권업종중분류명</th>\n",
              "      <th>상권업종소분류명</th>\n",
              "      <th>시도명</th>\n",
              "      <th>시군구명</th>\n",
              "      <th>행정동명</th>\n",
              "      <th>법정동명</th>\n",
              "      <th>대지구분명</th>\n",
              "      <th>지번본번지</th>\n",
              "      <th>지번주소</th>\n",
              "      <th>도로명</th>\n",
              "      <th>건물본번지</th>\n",
              "      <th>도로명주소</th>\n",
              "      <th>경도</th>\n",
              "      <th>위도</th>\n",
              "    </tr>\n",
              "  </thead>\n",
              "  <tbody>\n",
              "    <tr>\n",
              "      <th>0</th>\n",
              "      <td>프리즐</td>\n",
              "      <td>음식</td>\n",
              "      <td>분식</td>\n",
              "      <td>라면김밥분식</td>\n",
              "      <td>경기도</td>\n",
              "      <td>남양주시</td>\n",
              "      <td>진접읍</td>\n",
              "      <td>진접읍</td>\n",
              "      <td>대지</td>\n",
              "      <td>672</td>\n",
              "      <td>경기도 남양주시 진접읍 장현리 672-1</td>\n",
              "      <td>경기도 남양주시 진접읍 봉현로</td>\n",
              "      <td>14</td>\n",
              "      <td>경기도 남양주시 진접읍 봉현로 14</td>\n",
              "      <td>127.181143</td>\n",
              "      <td>37.715402</td>\n",
              "    </tr>\n",
              "  </tbody>\n",
              "</table>\n",
              "</div>"
            ],
            "text/plain": [
              "   상호명 상권업종대분류명 상권업종중분류명 상권업종소분류명  시도명  시군구명 행정동명 법정동명 대지구분명  지번본번지  \\\n",
              "0  프리즐       음식       분식   라면김밥분식  경기도  남양주시  진접읍  진접읍    대지    672   \n",
              "\n",
              "                     지번주소               도로명  건물본번지                도로명주소  \\\n",
              "0  경기도 남양주시 진접읍 장현리 672-1  경기도 남양주시 진접읍 봉현로     14  경기도 남양주시 진접읍 봉현로 14   \n",
              "\n",
              "           경도         위도  \n",
              "0  127.181143  37.715402  "
            ]
          },
          "metadata": {
            "tags": []
          },
          "execution_count": 57
        }
      ]
    },
    {
      "cell_type": "code",
      "metadata": {
        "colab": {
          "base_uri": "https://localhost:8080/",
          "height": 517
        },
        "id": "oVwsCilEe1Jl",
        "outputId": "0cfe4563-4e6d-47cc-8c63-3525d16d0db5"
      },
      "source": [
        "df.loc[[0, 1, 2]]"
      ],
      "execution_count": 56,
      "outputs": [
        {
          "output_type": "execute_result",
          "data": {
            "text/html": [
              "<div>\n",
              "<style scoped>\n",
              "    .dataframe tbody tr th:only-of-type {\n",
              "        vertical-align: middle;\n",
              "    }\n",
              "\n",
              "    .dataframe tbody tr th {\n",
              "        vertical-align: top;\n",
              "    }\n",
              "\n",
              "    .dataframe thead th {\n",
              "        text-align: right;\n",
              "    }\n",
              "</style>\n",
              "<table border=\"1\" class=\"dataframe\">\n",
              "  <thead>\n",
              "    <tr style=\"text-align: right;\">\n",
              "      <th></th>\n",
              "      <th>상호명</th>\n",
              "      <th>상권업종대분류명</th>\n",
              "      <th>상권업종중분류명</th>\n",
              "      <th>상권업종소분류명</th>\n",
              "      <th>시도명</th>\n",
              "      <th>시군구명</th>\n",
              "      <th>행정동명</th>\n",
              "      <th>법정동명</th>\n",
              "      <th>대지구분명</th>\n",
              "      <th>지번본번지</th>\n",
              "      <th>지번주소</th>\n",
              "      <th>도로명</th>\n",
              "      <th>건물본번지</th>\n",
              "      <th>도로명주소</th>\n",
              "      <th>경도</th>\n",
              "      <th>위도</th>\n",
              "    </tr>\n",
              "  </thead>\n",
              "  <tbody>\n",
              "    <tr>\n",
              "      <th>0</th>\n",
              "      <td>프리즐</td>\n",
              "      <td>음식</td>\n",
              "      <td>분식</td>\n",
              "      <td>라면김밥분식</td>\n",
              "      <td>경기도</td>\n",
              "      <td>남양주시</td>\n",
              "      <td>진접읍</td>\n",
              "      <td>진접읍</td>\n",
              "      <td>대지</td>\n",
              "      <td>672</td>\n",
              "      <td>경기도 남양주시 진접읍 장현리 672-1</td>\n",
              "      <td>경기도 남양주시 진접읍 봉현로</td>\n",
              "      <td>14</td>\n",
              "      <td>경기도 남양주시 진접읍 봉현로 14</td>\n",
              "      <td>127.181143</td>\n",
              "      <td>37.715402</td>\n",
              "    </tr>\n",
              "    <tr>\n",
              "      <th>1</th>\n",
              "      <td>최씨네별난맛집</td>\n",
              "      <td>음식</td>\n",
              "      <td>한식</td>\n",
              "      <td>한식/백반/한정식</td>\n",
              "      <td>경기도</td>\n",
              "      <td>동두천시</td>\n",
              "      <td>불현동</td>\n",
              "      <td>광암동</td>\n",
              "      <td>대지</td>\n",
              "      <td>494</td>\n",
              "      <td>경기도 동두천시 광암동 494-34</td>\n",
              "      <td>경기도 동두천시 광암로33번길</td>\n",
              "      <td>15</td>\n",
              "      <td>경기도 동두천시 광암로33번길 15</td>\n",
              "      <td>127.085525</td>\n",
              "      <td>37.896127</td>\n",
              "    </tr>\n",
              "    <tr>\n",
              "      <th>2</th>\n",
              "      <td>페리카나</td>\n",
              "      <td>음식</td>\n",
              "      <td>닭/오리요리</td>\n",
              "      <td>후라이드/양념치킨</td>\n",
              "      <td>경기도</td>\n",
              "      <td>성남시 중원구</td>\n",
              "      <td>하대원동</td>\n",
              "      <td>하대원동</td>\n",
              "      <td>대지</td>\n",
              "      <td>154</td>\n",
              "      <td>경기도 성남시 중원구 하대원동 154-44</td>\n",
              "      <td>경기도 성남시 중원구 마지로155번길</td>\n",
              "      <td>25</td>\n",
              "      <td>경기도 성남시 중원구 마지로155번길 25-7</td>\n",
              "      <td>127.149042</td>\n",
              "      <td>37.428063</td>\n",
              "    </tr>\n",
              "  </tbody>\n",
              "</table>\n",
              "</div>"
            ],
            "text/plain": [
              "       상호명 상권업종대분류명 상권업종중분류명   상권업종소분류명  시도명     시군구명  행정동명  법정동명 대지구분명  \\\n",
              "0      프리즐       음식       분식     라면김밥분식  경기도     남양주시   진접읍   진접읍    대지   \n",
              "1  최씨네별난맛집       음식       한식  한식/백반/한정식  경기도     동두천시   불현동   광암동    대지   \n",
              "2     페리카나       음식   닭/오리요리  후라이드/양념치킨  경기도  성남시 중원구  하대원동  하대원동    대지   \n",
              "\n",
              "   지번본번지                     지번주소                   도로명  건물본번지  \\\n",
              "0    672   경기도 남양주시 진접읍 장현리 672-1      경기도 남양주시 진접읍 봉현로     14   \n",
              "1    494      경기도 동두천시 광암동 494-34      경기도 동두천시 광암로33번길     15   \n",
              "2    154  경기도 성남시 중원구 하대원동 154-44  경기도 성남시 중원구 마지로155번길     25   \n",
              "\n",
              "                       도로명주소          경도         위도  \n",
              "0        경기도 남양주시 진접읍 봉현로 14  127.181143  37.715402  \n",
              "1        경기도 동두천시 광암로33번길 15  127.085525  37.896127  \n",
              "2  경기도 성남시 중원구 마지로155번길 25-7  127.149042  37.428063  "
            ]
          },
          "metadata": {
            "tags": []
          },
          "execution_count": 56
        }
      ]
    },
    {
      "cell_type": "code",
      "metadata": {
        "colab": {
          "base_uri": "https://localhost:8080/"
        },
        "id": "DYE0usShe6c9",
        "outputId": "afe212c4-f5d9-4e75-e23b-dba201e36960"
      },
      "source": [
        "# df.loc[0][\"상호명\"] 결과 동일하나 아래 코드를 추천\n",
        "df.loc[[0, 1, 2], \"상호명\"]"
      ],
      "execution_count": 60,
      "outputs": [
        {
          "output_type": "execute_result",
          "data": {
            "text/plain": [
              "0        프리즐\n",
              "1    최씨네별난맛집\n",
              "2       페리카나\n",
              "Name: 상호명, dtype: object"
            ]
          },
          "metadata": {
            "tags": []
          },
          "execution_count": 60
        }
      ]
    },
    {
      "cell_type": "code",
      "metadata": {
        "colab": {
          "base_uri": "https://localhost:8080/",
          "height": 140
        },
        "id": "u8h5eu_yfEZ3",
        "outputId": "c7b5c9ad-c2c0-4ab7-e661-6b1bac82b3b0"
      },
      "source": [
        "df.loc[[0, 1, 2], [\"상호명\", \"도로명주소\"]]"
      ],
      "execution_count": 62,
      "outputs": [
        {
          "output_type": "execute_result",
          "data": {
            "text/html": [
              "<div>\n",
              "<style scoped>\n",
              "    .dataframe tbody tr th:only-of-type {\n",
              "        vertical-align: middle;\n",
              "    }\n",
              "\n",
              "    .dataframe tbody tr th {\n",
              "        vertical-align: top;\n",
              "    }\n",
              "\n",
              "    .dataframe thead th {\n",
              "        text-align: right;\n",
              "    }\n",
              "</style>\n",
              "<table border=\"1\" class=\"dataframe\">\n",
              "  <thead>\n",
              "    <tr style=\"text-align: right;\">\n",
              "      <th></th>\n",
              "      <th>상호명</th>\n",
              "      <th>도로명주소</th>\n",
              "    </tr>\n",
              "  </thead>\n",
              "  <tbody>\n",
              "    <tr>\n",
              "      <th>0</th>\n",
              "      <td>프리즐</td>\n",
              "      <td>경기도 남양주시 진접읍 봉현로 14</td>\n",
              "    </tr>\n",
              "    <tr>\n",
              "      <th>1</th>\n",
              "      <td>최씨네별난맛집</td>\n",
              "      <td>경기도 동두천시 광암로33번길 15</td>\n",
              "    </tr>\n",
              "    <tr>\n",
              "      <th>2</th>\n",
              "      <td>페리카나</td>\n",
              "      <td>경기도 성남시 중원구 마지로155번길 25-7</td>\n",
              "    </tr>\n",
              "  </tbody>\n",
              "</table>\n",
              "</div>"
            ],
            "text/plain": [
              "       상호명                      도로명주소\n",
              "0      프리즐        경기도 남양주시 진접읍 봉현로 14\n",
              "1  최씨네별난맛집        경기도 동두천시 광암로33번길 15\n",
              "2     페리카나  경기도 성남시 중원구 마지로155번길 25-7"
            ]
          },
          "metadata": {
            "tags": []
          },
          "execution_count": 62
        }
      ]
    },
    {
      "cell_type": "code",
      "metadata": {
        "colab": {
          "base_uri": "https://localhost:8080/"
        },
        "id": "PIFwfWfJfbEq",
        "outputId": "e9c8111b-6da6-409c-eb02-4e4fadb31506"
      },
      "source": [
        "df.iloc[:].shape"
      ],
      "execution_count": 67,
      "outputs": [
        {
          "output_type": "execute_result",
          "data": {
            "text/plain": [
              "(328, 16)"
            ]
          },
          "metadata": {
            "tags": []
          },
          "execution_count": 67
        }
      ]
    },
    {
      "cell_type": "code",
      "metadata": {
        "colab": {
          "base_uri": "https://localhost:8080/",
          "height": 201
        },
        "id": "cLzyDMYbffS-",
        "outputId": "7e60d651-b046-48a6-b93f-4afb511d5d4d"
      },
      "source": [
        "df.iloc[:5, :5]"
      ],
      "execution_count": 68,
      "outputs": [
        {
          "output_type": "execute_result",
          "data": {
            "text/html": [
              "<div>\n",
              "<style scoped>\n",
              "    .dataframe tbody tr th:only-of-type {\n",
              "        vertical-align: middle;\n",
              "    }\n",
              "\n",
              "    .dataframe tbody tr th {\n",
              "        vertical-align: top;\n",
              "    }\n",
              "\n",
              "    .dataframe thead th {\n",
              "        text-align: right;\n",
              "    }\n",
              "</style>\n",
              "<table border=\"1\" class=\"dataframe\">\n",
              "  <thead>\n",
              "    <tr style=\"text-align: right;\">\n",
              "      <th></th>\n",
              "      <th>상호명</th>\n",
              "      <th>상권업종대분류명</th>\n",
              "      <th>상권업종중분류명</th>\n",
              "      <th>상권업종소분류명</th>\n",
              "      <th>시도명</th>\n",
              "    </tr>\n",
              "  </thead>\n",
              "  <tbody>\n",
              "    <tr>\n",
              "      <th>0</th>\n",
              "      <td>프리즐</td>\n",
              "      <td>음식</td>\n",
              "      <td>분식</td>\n",
              "      <td>라면김밥분식</td>\n",
              "      <td>경기도</td>\n",
              "    </tr>\n",
              "    <tr>\n",
              "      <th>1</th>\n",
              "      <td>최씨네별난맛집</td>\n",
              "      <td>음식</td>\n",
              "      <td>한식</td>\n",
              "      <td>한식/백반/한정식</td>\n",
              "      <td>경기도</td>\n",
              "    </tr>\n",
              "    <tr>\n",
              "      <th>2</th>\n",
              "      <td>페리카나</td>\n",
              "      <td>음식</td>\n",
              "      <td>닭/오리요리</td>\n",
              "      <td>후라이드/양념치킨</td>\n",
              "      <td>경기도</td>\n",
              "    </tr>\n",
              "    <tr>\n",
              "      <th>3</th>\n",
              "      <td>한우장다리식당</td>\n",
              "      <td>음식</td>\n",
              "      <td>한식</td>\n",
              "      <td>한식/백반/한정식</td>\n",
              "      <td>경기도</td>\n",
              "    </tr>\n",
              "    <tr>\n",
              "      <th>4</th>\n",
              "      <td>우체국커피자동판매기</td>\n",
              "      <td>소매</td>\n",
              "      <td>기타판매업</td>\n",
              "      <td>자동판매기운영</td>\n",
              "      <td>경기도</td>\n",
              "    </tr>\n",
              "  </tbody>\n",
              "</table>\n",
              "</div>"
            ],
            "text/plain": [
              "          상호명 상권업종대분류명 상권업종중분류명   상권업종소분류명  시도명\n",
              "0         프리즐       음식       분식     라면김밥분식  경기도\n",
              "1     최씨네별난맛집       음식       한식  한식/백반/한정식  경기도\n",
              "2        페리카나       음식   닭/오리요리  후라이드/양념치킨  경기도\n",
              "3     한우장다리식당       음식       한식  한식/백반/한정식  경기도\n",
              "4  우체국커피자동판매기       소매    기타판매업    자동판매기운영  경기도"
            ]
          },
          "metadata": {
            "tags": []
          },
          "execution_count": 68
        }
      ]
    },
    {
      "cell_type": "code",
      "metadata": {
        "colab": {
          "base_uri": "https://localhost:8080/"
        },
        "id": "XZy7DPpXfuVW",
        "outputId": "39054f1c-32fc-48b0-ae2d-536e4105d7f1"
      },
      "source": [
        "cols[-5:]"
      ],
      "execution_count": 71,
      "outputs": [
        {
          "output_type": "execute_result",
          "data": {
            "text/plain": [
              "Index(['도로명주소', '구우편번호', '신우편번호', '경도', '위도'], dtype='object')"
            ]
          },
          "metadata": {
            "tags": []
          },
          "execution_count": 71
        }
      ]
    },
    {
      "cell_type": "code",
      "metadata": {
        "colab": {
          "base_uri": "https://localhost:8080/",
          "height": 201
        },
        "id": "8_RnOaTCf1zP",
        "outputId": "11af31d4-7c36-4ba8-f700-c5e508aecada"
      },
      "source": [
        "df.iloc[-5:, -5:]"
      ],
      "execution_count": 75,
      "outputs": [
        {
          "output_type": "execute_result",
          "data": {
            "text/html": [
              "<div>\n",
              "<style scoped>\n",
              "    .dataframe tbody tr th:only-of-type {\n",
              "        vertical-align: middle;\n",
              "    }\n",
              "\n",
              "    .dataframe tbody tr th {\n",
              "        vertical-align: top;\n",
              "    }\n",
              "\n",
              "    .dataframe thead th {\n",
              "        text-align: right;\n",
              "    }\n",
              "</style>\n",
              "<table border=\"1\" class=\"dataframe\">\n",
              "  <thead>\n",
              "    <tr style=\"text-align: right;\">\n",
              "      <th></th>\n",
              "      <th>도로명</th>\n",
              "      <th>건물본번지</th>\n",
              "      <th>도로명주소</th>\n",
              "      <th>경도</th>\n",
              "      <th>위도</th>\n",
              "    </tr>\n",
              "  </thead>\n",
              "  <tbody>\n",
              "    <tr>\n",
              "      <th>323</th>\n",
              "      <td>경기도 화성시 남양읍 수작이길</td>\n",
              "      <td>11</td>\n",
              "      <td>경기도 화성시 남양읍 수작이길 11</td>\n",
              "      <td>126.805454</td>\n",
              "      <td>37.208159</td>\n",
              "    </tr>\n",
              "    <tr>\n",
              "      <th>324</th>\n",
              "      <td>경기도 광주시 오포읍 양벌로</td>\n",
              "      <td>379</td>\n",
              "      <td>경기도 광주시 오포읍 양벌로 379-5</td>\n",
              "      <td>127.245156</td>\n",
              "      <td>37.365586</td>\n",
              "    </tr>\n",
              "    <tr>\n",
              "      <th>325</th>\n",
              "      <td>경기도 파주시 교하로</td>\n",
              "      <td>1015</td>\n",
              "      <td>경기도 파주시 교하로 1015</td>\n",
              "      <td>126.712746</td>\n",
              "      <td>37.735067</td>\n",
              "    </tr>\n",
              "    <tr>\n",
              "      <th>326</th>\n",
              "      <td>경기도 파주시 방화리길</td>\n",
              "      <td>55</td>\n",
              "      <td>경기도 파주시 방화리길 55-26</td>\n",
              "      <td>126.701703</td>\n",
              "      <td>37.741127</td>\n",
              "    </tr>\n",
              "    <tr>\n",
              "      <th>327</th>\n",
              "      <td>경기도 연천군 전곡읍 전곡로</td>\n",
              "      <td>13</td>\n",
              "      <td>경기도 연천군 전곡읍 전곡로 13</td>\n",
              "      <td>127.071088</td>\n",
              "      <td>38.015134</td>\n",
              "    </tr>\n",
              "  </tbody>\n",
              "</table>\n",
              "</div>"
            ],
            "text/plain": [
              "                  도로명  건물본번지                  도로명주소          경도         위도\n",
              "323  경기도 화성시 남양읍 수작이길     11    경기도 화성시 남양읍 수작이길 11  126.805454  37.208159\n",
              "324   경기도 광주시 오포읍 양벌로    379  경기도 광주시 오포읍 양벌로 379-5  127.245156  37.365586\n",
              "325       경기도 파주시 교하로   1015       경기도 파주시 교하로 1015  126.712746  37.735067\n",
              "326      경기도 파주시 방화리길     55     경기도 파주시 방화리길 55-26  126.701703  37.741127\n",
              "327   경기도 연천군 전곡읍 전곡로     13     경기도 연천군 전곡읍 전곡로 13  127.071088  38.015134"
            ]
          },
          "metadata": {
            "tags": []
          },
          "execution_count": 75
        }
      ]
    },
    {
      "cell_type": "code",
      "metadata": {
        "colab": {
          "base_uri": "https://localhost:8080/",
          "height": 292
        },
        "id": "HGtI6j4df_U0",
        "outputId": "6e6817dd-f715-4c41-a0b2-f29e6c90bee1"
      },
      "source": [
        "df.describe()"
      ],
      "execution_count": 76,
      "outputs": [
        {
          "output_type": "execute_result",
          "data": {
            "text/html": [
              "<div>\n",
              "<style scoped>\n",
              "    .dataframe tbody tr th:only-of-type {\n",
              "        vertical-align: middle;\n",
              "    }\n",
              "\n",
              "    .dataframe tbody tr th {\n",
              "        vertical-align: top;\n",
              "    }\n",
              "\n",
              "    .dataframe thead th {\n",
              "        text-align: right;\n",
              "    }\n",
              "</style>\n",
              "<table border=\"1\" class=\"dataframe\">\n",
              "  <thead>\n",
              "    <tr style=\"text-align: right;\">\n",
              "      <th></th>\n",
              "      <th>지번본번지</th>\n",
              "      <th>건물본번지</th>\n",
              "      <th>경도</th>\n",
              "      <th>위도</th>\n",
              "    </tr>\n",
              "  </thead>\n",
              "  <tbody>\n",
              "    <tr>\n",
              "      <th>count</th>\n",
              "      <td>328.000000</td>\n",
              "      <td>328.000000</td>\n",
              "      <td>328.000000</td>\n",
              "      <td>328.000000</td>\n",
              "    </tr>\n",
              "    <tr>\n",
              "      <th>mean</th>\n",
              "      <td>653.765244</td>\n",
              "      <td>237.814024</td>\n",
              "      <td>127.020682</td>\n",
              "      <td>37.452761</td>\n",
              "    </tr>\n",
              "    <tr>\n",
              "      <th>std</th>\n",
              "      <td>724.157511</td>\n",
              "      <td>432.650673</td>\n",
              "      <td>0.220860</td>\n",
              "      <td>0.228030</td>\n",
              "    </tr>\n",
              "    <tr>\n",
              "      <th>min</th>\n",
              "      <td>4.000000</td>\n",
              "      <td>1.000000</td>\n",
              "      <td>126.617512</td>\n",
              "      <td>36.983713</td>\n",
              "    </tr>\n",
              "    <tr>\n",
              "      <th>25%</th>\n",
              "      <td>229.250000</td>\n",
              "      <td>22.500000</td>\n",
              "      <td>126.837989</td>\n",
              "      <td>37.293935</td>\n",
              "    </tr>\n",
              "    <tr>\n",
              "      <th>50%</th>\n",
              "      <td>511.500000</td>\n",
              "      <td>56.000000</td>\n",
              "      <td>127.026341</td>\n",
              "      <td>37.394755</td>\n",
              "    </tr>\n",
              "    <tr>\n",
              "      <th>75%</th>\n",
              "      <td>865.250000</td>\n",
              "      <td>236.250000</td>\n",
              "      <td>127.117623</td>\n",
              "      <td>37.652549</td>\n",
              "    </tr>\n",
              "    <tr>\n",
              "      <th>max</th>\n",
              "      <td>7231.000000</td>\n",
              "      <td>2414.000000</td>\n",
              "      <td>127.757154</td>\n",
              "      <td>38.027780</td>\n",
              "    </tr>\n",
              "  </tbody>\n",
              "</table>\n",
              "</div>"
            ],
            "text/plain": [
              "             지번본번지        건물본번지          경도          위도\n",
              "count   328.000000   328.000000  328.000000  328.000000\n",
              "mean    653.765244   237.814024  127.020682   37.452761\n",
              "std     724.157511   432.650673    0.220860    0.228030\n",
              "min       4.000000     1.000000  126.617512   36.983713\n",
              "25%     229.250000    22.500000  126.837989   37.293935\n",
              "50%     511.500000    56.000000  127.026341   37.394755\n",
              "75%     865.250000   236.250000  127.117623   37.652549\n",
              "max    7231.000000  2414.000000  127.757154   38.027780"
            ]
          },
          "metadata": {
            "tags": []
          },
          "execution_count": 76
        }
      ]
    },
    {
      "cell_type": "code",
      "metadata": {
        "colab": {
          "base_uri": "https://localhost:8080/",
          "height": 292
        },
        "id": "wLNsuXRSg7HP",
        "outputId": "c73e8269-3ead-42a7-f91a-34156855da68"
      },
      "source": [
        "df[[\"위도\",\"경도\"]].describe()"
      ],
      "execution_count": 78,
      "outputs": [
        {
          "output_type": "execute_result",
          "data": {
            "text/html": [
              "<div>\n",
              "<style scoped>\n",
              "    .dataframe tbody tr th:only-of-type {\n",
              "        vertical-align: middle;\n",
              "    }\n",
              "\n",
              "    .dataframe tbody tr th {\n",
              "        vertical-align: top;\n",
              "    }\n",
              "\n",
              "    .dataframe thead th {\n",
              "        text-align: right;\n",
              "    }\n",
              "</style>\n",
              "<table border=\"1\" class=\"dataframe\">\n",
              "  <thead>\n",
              "    <tr style=\"text-align: right;\">\n",
              "      <th></th>\n",
              "      <th>위도</th>\n",
              "      <th>경도</th>\n",
              "    </tr>\n",
              "  </thead>\n",
              "  <tbody>\n",
              "    <tr>\n",
              "      <th>count</th>\n",
              "      <td>328.000000</td>\n",
              "      <td>328.000000</td>\n",
              "    </tr>\n",
              "    <tr>\n",
              "      <th>mean</th>\n",
              "      <td>37.452761</td>\n",
              "      <td>127.020682</td>\n",
              "    </tr>\n",
              "    <tr>\n",
              "      <th>std</th>\n",
              "      <td>0.228030</td>\n",
              "      <td>0.220860</td>\n",
              "    </tr>\n",
              "    <tr>\n",
              "      <th>min</th>\n",
              "      <td>36.983713</td>\n",
              "      <td>126.617512</td>\n",
              "    </tr>\n",
              "    <tr>\n",
              "      <th>25%</th>\n",
              "      <td>37.293935</td>\n",
              "      <td>126.837989</td>\n",
              "    </tr>\n",
              "    <tr>\n",
              "      <th>50%</th>\n",
              "      <td>37.394755</td>\n",
              "      <td>127.026341</td>\n",
              "    </tr>\n",
              "    <tr>\n",
              "      <th>75%</th>\n",
              "      <td>37.652549</td>\n",
              "      <td>127.117623</td>\n",
              "    </tr>\n",
              "    <tr>\n",
              "      <th>max</th>\n",
              "      <td>38.027780</td>\n",
              "      <td>127.757154</td>\n",
              "    </tr>\n",
              "  </tbody>\n",
              "</table>\n",
              "</div>"
            ],
            "text/plain": [
              "               위도          경도\n",
              "count  328.000000  328.000000\n",
              "mean    37.452761  127.020682\n",
              "std      0.228030    0.220860\n",
              "min     36.983713  126.617512\n",
              "25%     37.293935  126.837989\n",
              "50%     37.394755  127.026341\n",
              "75%     37.652549  127.117623\n",
              "max     38.027780  127.757154"
            ]
          },
          "metadata": {
            "tags": []
          },
          "execution_count": 78
        }
      ]
    },
    {
      "cell_type": "code",
      "metadata": {
        "colab": {
          "base_uri": "https://localhost:8080/"
        },
        "id": "f5u_5vKqhOzB",
        "outputId": "5570f4b5-5872-4300-ac8a-012077706131"
      },
      "source": [
        "df[\"위도\"].count()"
      ],
      "execution_count": 80,
      "outputs": [
        {
          "output_type": "execute_result",
          "data": {
            "text/plain": [
              "328"
            ]
          },
          "metadata": {
            "tags": []
          },
          "execution_count": 80
        }
      ]
    },
    {
      "cell_type": "code",
      "metadata": {
        "colab": {
          "base_uri": "https://localhost:8080/"
        },
        "id": "aVVpQAfjhiZk",
        "outputId": "ccfad163-1e70-4e28-ed16-9a1cefbf6884"
      },
      "source": [
        "df[\"위도\"].mean()"
      ],
      "execution_count": 81,
      "outputs": [
        {
          "output_type": "execute_result",
          "data": {
            "text/plain": [
              "37.45276092679876"
            ]
          },
          "metadata": {
            "tags": []
          },
          "execution_count": 81
        }
      ]
    },
    {
      "cell_type": "code",
      "metadata": {
        "colab": {
          "base_uri": "https://localhost:8080/"
        },
        "id": "gHu1MYVvhnQq",
        "outputId": "d1e20ca6-20b6-4c98-ff37-e1a6f4d1fbd6"
      },
      "source": [
        "df[\"위도\"].max()"
      ],
      "execution_count": 82,
      "outputs": [
        {
          "output_type": "execute_result",
          "data": {
            "text/plain": [
              "38.02777971"
            ]
          },
          "metadata": {
            "tags": []
          },
          "execution_count": 82
        }
      ]
    },
    {
      "cell_type": "code",
      "metadata": {
        "colab": {
          "base_uri": "https://localhost:8080/"
        },
        "id": "8A6EU59Uhpg7",
        "outputId": "40be2c3f-362c-4cf0-9d49-3644e9d0a3c4"
      },
      "source": [
        "df[\"위도\"].min()"
      ],
      "execution_count": 83,
      "outputs": [
        {
          "output_type": "execute_result",
          "data": {
            "text/plain": [
              "36.98371292"
            ]
          },
          "metadata": {
            "tags": []
          },
          "execution_count": 83
        }
      ]
    },
    {
      "cell_type": "code",
      "metadata": {
        "colab": {
          "base_uri": "https://localhost:8080/"
        },
        "id": "j_ZJSIqMhsxz",
        "outputId": "969170c1-bbc3-495f-925d-3268eb3c8090"
      },
      "source": [
        "df[\"위도\"].quantile(q=0.25)"
      ],
      "execution_count": 84,
      "outputs": [
        {
          "output_type": "execute_result",
          "data": {
            "text/plain": [
              "37.293934754999995"
            ]
          },
          "metadata": {
            "tags": []
          },
          "execution_count": 84
        }
      ]
    },
    {
      "cell_type": "code",
      "metadata": {
        "colab": {
          "base_uri": "https://localhost:8080/"
        },
        "id": "UHgBEmHChyPk",
        "outputId": "0041a1d9-7471-4225-cc10-8e0efbce883a"
      },
      "source": [
        "df[\"위도\"].median()"
      ],
      "execution_count": 85,
      "outputs": [
        {
          "output_type": "execute_result",
          "data": {
            "text/plain": [
              "37.39475455"
            ]
          },
          "metadata": {
            "tags": []
          },
          "execution_count": 85
        }
      ]
    },
    {
      "cell_type": "code",
      "metadata": {
        "colab": {
          "base_uri": "https://localhost:8080/"
        },
        "id": "P_cEGGFMh5Z_",
        "outputId": "9212e826-20c2-48bd-d7e8-13076aca8488"
      },
      "source": [
        "import numpy as np\n",
        "np.sqrt(df[\"위도\"].var())"
      ],
      "execution_count": 88,
      "outputs": [
        {
          "output_type": "execute_result",
          "data": {
            "text/plain": [
              "0.22802998961804155"
            ]
          },
          "metadata": {
            "tags": []
          },
          "execution_count": 88
        }
      ]
    },
    {
      "cell_type": "code",
      "metadata": {
        "colab": {
          "base_uri": "https://localhost:8080/"
        },
        "id": "XNslj2LDiTpt",
        "outputId": "aeca82ba-7537-4291-ad54-0a8ce728864f"
      },
      "source": [
        "df[\"위도\"].std()"
      ],
      "execution_count": 89,
      "outputs": [
        {
          "output_type": "execute_result",
          "data": {
            "text/plain": [
              "0.22802998961804155"
            ]
          },
          "metadata": {
            "tags": []
          },
          "execution_count": 89
        }
      ]
    },
    {
      "cell_type": "code",
      "metadata": {
        "colab": {
          "base_uri": "https://localhost:8080/",
          "height": 353
        },
        "id": "T5yLfz51icoX",
        "outputId": "8264acd6-e291-4fbc-bab2-31ab701cbca7"
      },
      "source": [
        "sns.distplot(df[\"위도\"])"
      ],
      "execution_count": 95,
      "outputs": [
        {
          "output_type": "stream",
          "text": [
            "/usr/local/lib/python3.6/dist-packages/seaborn/distributions.py:2551: FutureWarning: `distplot` is a deprecated function and will be removed in a future version. Please adapt your code to use either `displot` (a figure-level function with similar flexibility) or `histplot` (an axes-level function for histograms).\n",
            "  warnings.warn(msg, FutureWarning)\n"
          ],
          "name": "stderr"
        },
        {
          "output_type": "execute_result",
          "data": {
            "text/plain": [
              "<matplotlib.axes._subplots.AxesSubplot at 0x7f853b4063c8>"
            ]
          },
          "metadata": {
            "tags": []
          },
          "execution_count": 95
        },
        {
          "output_type": "display_data",
          "data": {
            "image/png": "[encoded data removed]",
            "text/plain": [
              "<Figure size 432x288 with 1 Axes>"
            ]
          },
          "metadata": {
            "tags": [],
            "needs_background": "light"
          }
        }
      ]
    },
    {
      "cell_type": "code",
      "metadata": {
        "colab": {
          "base_uri": "https://localhost:8080/",
          "height": 353
        },
        "id": "eLPCH6bEi2tf",
        "outputId": "949a6f8a-8163-4de6-d4b4-a6d585f51ee0"
      },
      "source": [
        "sns.distplot(df[\"경도\"])"
      ],
      "execution_count": 96,
      "outputs": [
        {
          "output_type": "stream",
          "text": [
            "/usr/local/lib/python3.6/dist-packages/seaborn/distributions.py:2551: FutureWarning: `distplot` is a deprecated function and will be removed in a future version. Please adapt your code to use either `displot` (a figure-level function with similar flexibility) or `histplot` (an axes-level function for histograms).\n",
            "  warnings.warn(msg, FutureWarning)\n"
          ],
          "name": "stderr"
        },
        {
          "output_type": "execute_result",
          "data": {
            "text/plain": [
              "<matplotlib.axes._subplots.AxesSubplot at 0x7f853b4229b0>"
            ]
          },
          "metadata": {
            "tags": []
          },
          "execution_count": 96
        },
        {
          "output_type": "display_data",
          "data": {
            "image/png": "[encoded data removed]",
            "text/plain": [
              "<Figure size 432x288 with 1 Axes>"
            ]
          },
          "metadata": {
            "tags": [],
            "needs_background": "light"
          }
        }
      ]
    },
    {
      "cell_type": "code",
      "metadata": {
        "colab": {
          "base_uri": "https://localhost:8080/",
          "height": 353
        },
        "id": "DrzP2SGjjaJ9",
        "outputId": "932ac84d-f3c2-4432-c8b6-f1f365af97c0"
      },
      "source": [
        "plt.axvline(df[\"위도\"].mean(), linestyle=\":\", color=\"r\")\n",
        "plt.axvline(df[\"위도\"].median(), linestyle=\"--\")\n",
        "sns.distplot(df[\"위도\"])"
      ],
      "execution_count": 100,
      "outputs": [
        {
          "output_type": "stream",
          "text": [
            "/usr/local/lib/python3.6/dist-packages/seaborn/distributions.py:2551: FutureWarning: `distplot` is a deprecated function and will be removed in a future version. Please adapt your code to use either `displot` (a figure-level function with similar flexibility) or `histplot` (an axes-level function for histograms).\n",
            "  warnings.warn(msg, FutureWarning)\n"
          ],
          "name": "stderr"
        },
        {
          "output_type": "execute_result",
          "data": {
            "text/plain": [
              "<matplotlib.axes._subplots.AxesSubplot at 0x7f853a644fd0>"
            ]
          },
          "metadata": {
            "tags": []
          },
          "execution_count": 100
        },
        {
          "output_type": "display_data",
          "data": {
            "image/png": "[encoded data removed]",
            "text/plain": [
              "<Figure size 432x288 with 1 Axes>"
            ]
          },
          "metadata": {
            "tags": [],
            "needs_background": "light"
          }
        }
      ]
    },
    {
      "cell_type": "code",
      "metadata": {
        "colab": {
          "base_uri": "https://localhost:8080/",
          "height": 167
        },
        "id": "PBpM3wunjjyP",
        "outputId": "64a35f6c-390f-4f0e-de3e-e33dade2be28"
      },
      "source": [
        "corr = df.corr()\n",
        "corr"
      ],
      "execution_count": 102,
      "outputs": [
        {
          "output_type": "execute_result",
          "data": {
            "text/html": [
              "<div>\n",
              "<style scoped>\n",
              "    .dataframe tbody tr th:only-of-type {\n",
              "        vertical-align: middle;\n",
              "    }\n",
              "\n",
              "    .dataframe tbody tr th {\n",
              "        vertical-align: top;\n",
              "    }\n",
              "\n",
              "    .dataframe thead th {\n",
              "        text-align: right;\n",
              "    }\n",
              "</style>\n",
              "<table border=\"1\" class=\"dataframe\">\n",
              "  <thead>\n",
              "    <tr style=\"text-align: right;\">\n",
              "      <th></th>\n",
              "      <th>지번본번지</th>\n",
              "      <th>건물본번지</th>\n",
              "      <th>경도</th>\n",
              "      <th>위도</th>\n",
              "    </tr>\n",
              "  </thead>\n",
              "  <tbody>\n",
              "    <tr>\n",
              "      <th>지번본번지</th>\n",
              "      <td>1.000000</td>\n",
              "      <td>0.037618</td>\n",
              "      <td>-0.172136</td>\n",
              "      <td>-0.024084</td>\n",
              "    </tr>\n",
              "    <tr>\n",
              "      <th>건물본번지</th>\n",
              "      <td>0.037618</td>\n",
              "      <td>1.000000</td>\n",
              "      <td>0.039330</td>\n",
              "      <td>0.153853</td>\n",
              "    </tr>\n",
              "    <tr>\n",
              "      <th>경도</th>\n",
              "      <td>-0.172136</td>\n",
              "      <td>0.039330</td>\n",
              "      <td>1.000000</td>\n",
              "      <td>-0.195351</td>\n",
              "    </tr>\n",
              "    <tr>\n",
              "      <th>위도</th>\n",
              "      <td>-0.024084</td>\n",
              "      <td>0.153853</td>\n",
              "      <td>-0.195351</td>\n",
              "      <td>1.000000</td>\n",
              "    </tr>\n",
              "  </tbody>\n",
              "</table>\n",
              "</div>"
            ],
            "text/plain": [
              "          지번본번지     건물본번지        경도        위도\n",
              "지번본번지  1.000000  0.037618 -0.172136 -0.024084\n",
              "건물본번지  0.037618  1.000000  0.039330  0.153853\n",
              "경도    -0.172136  0.039330  1.000000 -0.195351\n",
              "위도    -0.024084  0.153853 -0.195351  1.000000"
            ]
          },
          "metadata": {
            "tags": []
          },
          "execution_count": 102
        }
      ]
    },
    {
      "cell_type": "code",
      "metadata": {
        "colab": {
          "base_uri": "https://localhost:8080/",
          "height": 376
        },
        "id": "oS0ZL48Lknq2",
        "outputId": "d91d978e-b864-442b-e1be-4d9e6a69eec1"
      },
      "source": [
        "mask = np.triu(np.ones_like(corr, dtype=np.bool))\n",
        "sns.heatmap(corr, annot=True, cmap=\"Blues\", mask=mask)"
      ],
      "execution_count": 110,
      "outputs": [
        {
          "output_type": "stream",
          "text": [
            "/usr/local/lib/python3.6/dist-packages/matplotlib/backends/backend_agg.py:214: RuntimeWarning: Glyph 8722 missing from current font.\n",
            "  font.set_text(s, 0.0, flags=flags)\n",
            "/usr/local/lib/python3.6/dist-packages/matplotlib/backends/backend_agg.py:183: RuntimeWarning: Glyph 8722 missing from current font.\n",
            "  font.set_text(s, 0, flags=flags)\n"
          ],
          "name": "stderr"
        },
        {
          "output_type": "execute_result",
          "data": {
            "text/plain": [
              "<matplotlib.axes._subplots.AxesSubplot at 0x7f853a29a6a0>"
            ]
          },
          "metadata": {
            "tags": []
          },
          "execution_count": 110
        },
        {
          "output_type": "display_data",
          "data": {
            "image/png": "[encoded data removed]",
            "text/plain": [
              "<Figure size 432x288 with 2 Axes>"
            ]
          },
          "metadata": {
            "tags": [],
            "needs_background": "light"
          }
        }
      ]
    },
    {
      "cell_type": "code",
      "metadata": {
        "colab": {
          "base_uri": "https://localhost:8080/",
          "height": 297
        },
        "id": "G7loWCmEkwsm",
        "outputId": "7a52f6fb-fc71-47fb-f613-f34af82e4541"
      },
      "source": [
        "sns.regplot(data=df, x=\"경도\", y=\"위도\")"
      ],
      "execution_count": 120,
      "outputs": [
        {
          "output_type": "execute_result",
          "data": {
            "text/plain": [
              "<matplotlib.axes._subplots.AxesSubplot at 0x7f853b478ef0>"
            ]
          },
          "metadata": {
            "tags": []
          },
          "execution_count": 120
        },
        {
          "output_type": "display_data",
          "data": {
            "image/png": "[encoded data removed]",
            "text/plain": [
              "<Figure size 432x288 with 1 Axes>"
            ]
          },
          "metadata": {
            "tags": [],
            "needs_background": "light"
          }
        }
      ]
    },
    {
      "cell_type": "code",
      "metadata": {
        "colab": {
          "base_uri": "https://localhost:8080/",
          "height": 401
        },
        "id": "i90sYhTklkUe",
        "outputId": "4c1f9c2e-3298-419d-e1bd-8ab1612c7c41"
      },
      "source": [
        "sns.lmplot(data=df, x=\"경도\", y=\"위도\", hue=\"시도명\", col=\"시도명\")"
      ],
      "execution_count": 123,
      "outputs": [
        {
          "output_type": "execute_result",
          "data": {
            "text/plain": [
              "<seaborn.axisgrid.FacetGrid at 0x7f853a1643c8>"
            ]
          },
          "metadata": {
            "tags": []
          },
          "execution_count": 123
        },
        {
          "output_type": "display_data",
          "data": {
            "image/png": "[encoded data removed]",
            "text/plain": [
              "<Figure size 360x360 with 1 Axes>"
            ]
          },
          "metadata": {
            "tags": [],
            "needs_background": "light"
          }
        }
      ]
    },
    {
      "cell_type": "code",
      "metadata": {
        "colab": {
          "base_uri": "https://localhost:8080/",
          "height": 321
        },
        "id": "CA08bYp6mNCD",
        "outputId": "0489b154-803d-490c-d88d-aa57c8e45f4b"
      },
      "source": [
        "df.describe(include=\"object\")"
      ],
      "execution_count": 124,
      "outputs": [
        {
          "output_type": "execute_result",
          "data": {
            "text/html": [
              "<div>\n",
              "<style scoped>\n",
              "    .dataframe tbody tr th:only-of-type {\n",
              "        vertical-align: middle;\n",
              "    }\n",
              "\n",
              "    .dataframe tbody tr th {\n",
              "        vertical-align: top;\n",
              "    }\n",
              "\n",
              "    .dataframe thead th {\n",
              "        text-align: right;\n",
              "    }\n",
              "</style>\n",
              "<table border=\"1\" class=\"dataframe\">\n",
              "  <thead>\n",
              "    <tr style=\"text-align: right;\">\n",
              "      <th></th>\n",
              "      <th>상호명</th>\n",
              "      <th>상권업종대분류명</th>\n",
              "      <th>상권업종중분류명</th>\n",
              "      <th>상권업종소분류명</th>\n",
              "      <th>시도명</th>\n",
              "      <th>시군구명</th>\n",
              "      <th>행정동명</th>\n",
              "      <th>법정동명</th>\n",
              "      <th>대지구분명</th>\n",
              "      <th>지번주소</th>\n",
              "      <th>도로명</th>\n",
              "      <th>도로명주소</th>\n",
              "    </tr>\n",
              "  </thead>\n",
              "  <tbody>\n",
              "    <tr>\n",
              "      <th>count</th>\n",
              "      <td>328</td>\n",
              "      <td>328</td>\n",
              "      <td>328</td>\n",
              "      <td>328</td>\n",
              "      <td>328</td>\n",
              "      <td>328</td>\n",
              "      <td>322</td>\n",
              "      <td>328</td>\n",
              "      <td>328</td>\n",
              "      <td>328</td>\n",
              "      <td>328</td>\n",
              "      <td>328</td>\n",
              "    </tr>\n",
              "    <tr>\n",
              "      <th>unique</th>\n",
              "      <td>328</td>\n",
              "      <td>6</td>\n",
              "      <td>62</td>\n",
              "      <td>139</td>\n",
              "      <td>1</td>\n",
              "      <td>42</td>\n",
              "      <td>190</td>\n",
              "      <td>180</td>\n",
              "      <td>2</td>\n",
              "      <td>324</td>\n",
              "      <td>289</td>\n",
              "      <td>324</td>\n",
              "    </tr>\n",
              "    <tr>\n",
              "      <th>top</th>\n",
              "      <td>장미다방</td>\n",
              "      <td>소매</td>\n",
              "      <td>부동산중개</td>\n",
              "      <td>부동산중개</td>\n",
              "      <td>경기도</td>\n",
              "      <td>파주시</td>\n",
              "      <td>중앙동</td>\n",
              "      <td>안양동</td>\n",
              "      <td>대지</td>\n",
              "      <td>경기도 수원시 장안구 정자동 919</td>\n",
              "      <td>경기도 여주시 세종로</td>\n",
              "      <td>경기도 의정부시 태평로73번길 20</td>\n",
              "    </tr>\n",
              "    <tr>\n",
              "      <th>freq</th>\n",
              "      <td>1</td>\n",
              "      <td>113</td>\n",
              "      <td>29</td>\n",
              "      <td>29</td>\n",
              "      <td>328</td>\n",
              "      <td>19</td>\n",
              "      <td>12</td>\n",
              "      <td>9</td>\n",
              "      <td>326</td>\n",
              "      <td>2</td>\n",
              "      <td>4</td>\n",
              "      <td>2</td>\n",
              "    </tr>\n",
              "  </tbody>\n",
              "</table>\n",
              "</div>"
            ],
            "text/plain": [
              "         상호명 상권업종대분류명 상권업종중분류명 상권업종소분류명  시도명 시군구명 행정동명 법정동명 대지구분명  \\\n",
              "count    328      328      328      328  328  328  322  328   328   \n",
              "unique   328        6       62      139    1   42  190  180     2   \n",
              "top     장미다방       소매    부동산중개    부동산중개  경기도  파주시  중앙동  안양동    대지   \n",
              "freq       1      113       29       29  328   19   12    9   326   \n",
              "\n",
              "                       지번주소          도로명                도로명주소  \n",
              "count                   328          328                  328  \n",
              "unique                  324          289                  324  \n",
              "top     경기도 수원시 장안구 정자동 919  경기도 여주시 세종로  경기도 의정부시 태평로73번길 20  \n",
              "freq                      2            4                    2  "
            ]
          },
          "metadata": {
            "tags": []
          },
          "execution_count": 124
        }
      ]
    },
    {
      "cell_type": "code",
      "metadata": {
        "colab": {
          "base_uri": "https://localhost:8080/"
        },
        "id": "4CBIb5Ecmjms",
        "outputId": "3f12ce5f-61f8-420a-9ae0-267e6d81d452"
      },
      "source": [
        "df[\"상권업종대분류명\"].describe()"
      ],
      "execution_count": 126,
      "outputs": [
        {
          "output_type": "execute_result",
          "data": {
            "text/plain": [
              "count     328\n",
              "unique      6\n",
              "top        소매\n",
              "freq      113\n",
              "Name: 상권업종대분류명, dtype: object"
            ]
          },
          "metadata": {
            "tags": []
          },
          "execution_count": 126
        }
      ]
    },
    {
      "cell_type": "code",
      "metadata": {
        "colab": {
          "base_uri": "https://localhost:8080/"
        },
        "id": "dKS5YgyFm21T",
        "outputId": "5a788df0-d7c1-44ff-caa2-810d4105c838"
      },
      "source": [
        "df[\"상권업종대분류명\"].unique()"
      ],
      "execution_count": 127,
      "outputs": [
        {
          "output_type": "execute_result",
          "data": {
            "text/plain": [
              "array(['음식', '소매', '생활서비스', '학문/교육', '관광/여가/오락', '부동산'], dtype=object)"
            ]
          },
          "metadata": {
            "tags": []
          },
          "execution_count": 127
        }
      ]
    },
    {
      "cell_type": "code",
      "metadata": {
        "colab": {
          "base_uri": "https://localhost:8080/"
        },
        "id": "U2bUeawum-BR",
        "outputId": "a55d2216-8dbc-4d3f-95e5-307873fc5a38"
      },
      "source": [
        "df[\"상권업종대분류명\"].nunique()"
      ],
      "execution_count": 128,
      "outputs": [
        {
          "output_type": "execute_result",
          "data": {
            "text/plain": [
              "6"
            ]
          },
          "metadata": {
            "tags": []
          },
          "execution_count": 128
        }
      ]
    },
    {
      "cell_type": "code",
      "metadata": {
        "colab": {
          "base_uri": "https://localhost:8080/"
        },
        "id": "Oy6njyKPnFm1",
        "outputId": "5c246d7b-d54a-4575-e741-b8ac324f9de6"
      },
      "source": [
        "df[\"상권업종대분류명\"].mode()"
      ],
      "execution_count": 129,
      "outputs": [
        {
          "output_type": "execute_result",
          "data": {
            "text/plain": [
              "0    소매\n",
              "dtype: object"
            ]
          },
          "metadata": {
            "tags": []
          },
          "execution_count": 129
        }
      ]
    },
    {
      "cell_type": "code",
      "metadata": {
        "colab": {
          "base_uri": "https://localhost:8080/"
        },
        "id": "sqszbDkfnIKB",
        "outputId": "e5fa8bbe-9828-4e9f-f1b7-b59e61912ed1"
      },
      "source": [
        "df[\"상권업종대분류명\"].value_counts()"
      ],
      "execution_count": 132,
      "outputs": [
        {
          "output_type": "execute_result",
          "data": {
            "text/plain": [
              "소매          113\n",
              "음식           85\n",
              "생활서비스        55\n",
              "학문/교육        38\n",
              "부동산          30\n",
              "관광/여가/오락      7\n",
              "Name: 상권업종대분류명, dtype: int64"
            ]
          },
          "metadata": {
            "tags": []
          },
          "execution_count": 132
        }
      ]
    },
    {
      "cell_type": "code",
      "metadata": {
        "colab": {
          "base_uri": "https://localhost:8080/"
        },
        "id": "lUIokOHcnMAf",
        "outputId": "e9cf8182-6b84-4d60-a930-2e7419ca7a57"
      },
      "source": [
        "df.shape"
      ],
      "execution_count": 134,
      "outputs": [
        {
          "output_type": "execute_result",
          "data": {
            "text/plain": [
              "(328, 16)"
            ]
          },
          "metadata": {
            "tags": []
          },
          "execution_count": 134
        }
      ]
    },
    {
      "cell_type": "code",
      "metadata": {
        "colab": {
          "base_uri": "https://localhost:8080/",
          "height": 1000
        },
        "id": "vgxGPgcynuD9",
        "outputId": "456eecd7-f4e2-42a1-a42b-43a2c6015371"
      },
      "source": [
        "df_food =df[df[\"상권업종대분류명\"] == \"음식\"].copy()\n",
        "df_food.head()"
      ],
      "execution_count": 140,
      "outputs": [
        {
          "output_type": "execute_result",
          "data": {
            "text/html": [
              "<div>\n",
              "<style scoped>\n",
              "    .dataframe tbody tr th:only-of-type {\n",
              "        vertical-align: middle;\n",
              "    }\n",
              "\n",
              "    .dataframe tbody tr th {\n",
              "        vertical-align: top;\n",
              "    }\n",
              "\n",
              "    .dataframe thead th {\n",
              "        text-align: right;\n",
              "    }\n",
              "</style>\n",
              "<table border=\"1\" class=\"dataframe\">\n",
              "  <thead>\n",
              "    <tr style=\"text-align: right;\">\n",
              "      <th></th>\n",
              "      <th>상호명</th>\n",
              "      <th>상권업종대분류명</th>\n",
              "      <th>상권업종중분류명</th>\n",
              "      <th>상권업종소분류명</th>\n",
              "      <th>시도명</th>\n",
              "      <th>시군구명</th>\n",
              "      <th>행정동명</th>\n",
              "      <th>법정동명</th>\n",
              "      <th>대지구분명</th>\n",
              "      <th>지번본번지</th>\n",
              "      <th>지번주소</th>\n",
              "      <th>도로명</th>\n",
              "      <th>건물본번지</th>\n",
              "      <th>도로명주소</th>\n",
              "      <th>경도</th>\n",
              "      <th>위도</th>\n",
              "    </tr>\n",
              "  </thead>\n",
              "  <tbody>\n",
              "    <tr>\n",
              "      <th>0</th>\n",
              "      <td>프리즐</td>\n",
              "      <td>음식</td>\n",
              "      <td>분식</td>\n",
              "      <td>라면김밥분식</td>\n",
              "      <td>경기도</td>\n",
              "      <td>남양주시</td>\n",
              "      <td>진접읍</td>\n",
              "      <td>진접읍</td>\n",
              "      <td>대지</td>\n",
              "      <td>672</td>\n",
              "      <td>경기도 남양주시 진접읍 장현리 672-1</td>\n",
              "      <td>경기도 남양주시 진접읍 봉현로</td>\n",
              "      <td>14</td>\n",
              "      <td>경기도 남양주시 진접읍 봉현로 14</td>\n",
              "      <td>127.181143</td>\n",
              "      <td>37.715402</td>\n",
              "    </tr>\n",
              "    <tr>\n",
              "      <th>1</th>\n",
              "      <td>최씨네별난맛집</td>\n",
              "      <td>음식</td>\n",
              "      <td>한식</td>\n",
              "      <td>한식/백반/한정식</td>\n",
              "      <td>경기도</td>\n",
              "      <td>동두천시</td>\n",
              "      <td>불현동</td>\n",
              "      <td>광암동</td>\n",
              "      <td>대지</td>\n",
              "      <td>494</td>\n",
              "      <td>경기도 동두천시 광암동 494-34</td>\n",
              "      <td>경기도 동두천시 광암로33번길</td>\n",
              "      <td>15</td>\n",
              "      <td>경기도 동두천시 광암로33번길 15</td>\n",
              "      <td>127.085525</td>\n",
              "      <td>37.896127</td>\n",
              "    </tr>\n",
              "    <tr>\n",
              "      <th>2</th>\n",
              "      <td>페리카나</td>\n",
              "      <td>음식</td>\n",
              "      <td>닭/오리요리</td>\n",
              "      <td>후라이드/양념치킨</td>\n",
              "      <td>경기도</td>\n",
              "      <td>성남시 중원구</td>\n",
              "      <td>하대원동</td>\n",
              "      <td>하대원동</td>\n",
              "      <td>대지</td>\n",
              "      <td>154</td>\n",
              "      <td>경기도 성남시 중원구 하대원동 154-44</td>\n",
              "      <td>경기도 성남시 중원구 마지로155번길</td>\n",
              "      <td>25</td>\n",
              "      <td>경기도 성남시 중원구 마지로155번길 25-7</td>\n",
              "      <td>127.149042</td>\n",
              "      <td>37.428063</td>\n",
              "    </tr>\n",
              "    <tr>\n",
              "      <th>3</th>\n",
              "      <td>한우장다리식당</td>\n",
              "      <td>음식</td>\n",
              "      <td>한식</td>\n",
              "      <td>한식/백반/한정식</td>\n",
              "      <td>경기도</td>\n",
              "      <td>성남시 분당구</td>\n",
              "      <td>정자동</td>\n",
              "      <td>정자동</td>\n",
              "      <td>대지</td>\n",
              "      <td>43</td>\n",
              "      <td>경기도 성남시 분당구 정자동 43-9</td>\n",
              "      <td>경기도 성남시 분당구 내정로119번길</td>\n",
              "      <td>20</td>\n",
              "      <td>경기도 성남시 분당구 내정로119번길 20</td>\n",
              "      <td>127.113929</td>\n",
              "      <td>37.372101</td>\n",
              "    </tr>\n",
              "    <tr>\n",
              "      <th>6</th>\n",
              "      <td>가야원명가가야원낙지왕</td>\n",
              "      <td>음식</td>\n",
              "      <td>일식/수산물</td>\n",
              "      <td>낙지/오징어</td>\n",
              "      <td>경기도</td>\n",
              "      <td>광명시</td>\n",
              "      <td>철산3동</td>\n",
              "      <td>철산동</td>\n",
              "      <td>대지</td>\n",
              "      <td>245</td>\n",
              "      <td>경기도 광명시 철산동 245-9</td>\n",
              "      <td>경기도 광명시 철산로</td>\n",
              "      <td>15</td>\n",
              "      <td>경기도 광명시 철산로 15</td>\n",
              "      <td>126.867687</td>\n",
              "      <td>37.476441</td>\n",
              "    </tr>\n",
              "  </tbody>\n",
              "</table>\n",
              "</div>"
            ],
            "text/plain": [
              "           상호명 상권업종대분류명 상권업종중분류명   상권업종소분류명  시도명     시군구명  행정동명  법정동명 대지구분명  \\\n",
              "0          프리즐       음식       분식     라면김밥분식  경기도     남양주시   진접읍   진접읍    대지   \n",
              "1      최씨네별난맛집       음식       한식  한식/백반/한정식  경기도     동두천시   불현동   광암동    대지   \n",
              "2         페리카나       음식   닭/오리요리  후라이드/양념치킨  경기도  성남시 중원구  하대원동  하대원동    대지   \n",
              "3      한우장다리식당       음식       한식  한식/백반/한정식  경기도  성남시 분당구   정자동   정자동    대지   \n",
              "6  가야원명가가야원낙지왕       음식   일식/수산물     낙지/오징어  경기도      광명시  철산3동   철산동    대지   \n",
              "\n",
              "   지번본번지                     지번주소                   도로명  건물본번지  \\\n",
              "0    672   경기도 남양주시 진접읍 장현리 672-1      경기도 남양주시 진접읍 봉현로     14   \n",
              "1    494      경기도 동두천시 광암동 494-34      경기도 동두천시 광암로33번길     15   \n",
              "2    154  경기도 성남시 중원구 하대원동 154-44  경기도 성남시 중원구 마지로155번길     25   \n",
              "3     43     경기도 성남시 분당구 정자동 43-9  경기도 성남시 분당구 내정로119번길     20   \n",
              "6    245        경기도 광명시 철산동 245-9           경기도 광명시 철산로     15   \n",
              "\n",
              "                       도로명주소          경도         위도  \n",
              "0        경기도 남양주시 진접읍 봉현로 14  127.181143  37.715402  \n",
              "1        경기도 동두천시 광암로33번길 15  127.085525  37.896127  \n",
              "2  경기도 성남시 중원구 마지로155번길 25-7  127.149042  37.428063  \n",
              "3    경기도 성남시 분당구 내정로119번길 20  127.113929  37.372101  \n",
              "6             경기도 광명시 철산로 15  126.867687  37.476441  "
            ]
          },
          "metadata": {
            "tags": []
          },
          "execution_count": 140
        }
      ]
    },
    {
      "cell_type": "code",
      "metadata": {
        "colab": {
          "base_uri": "https://localhost:8080/",
          "height": 1000
        },
        "id": "PueIYbz1n1AY",
        "outputId": "fbb713e7-4449-47ea-959e-1e48734d143b"
      },
      "source": [
        "df[df[\"시군구명\"] == \"광명시\"].head()"
      ],
      "execution_count": 144,
      "outputs": [
        {
          "output_type": "execute_result",
          "data": {
            "text/html": [
              "<div>\n",
              "<style scoped>\n",
              "    .dataframe tbody tr th:only-of-type {\n",
              "        vertical-align: middle;\n",
              "    }\n",
              "\n",
              "    .dataframe tbody tr th {\n",
              "        vertical-align: top;\n",
              "    }\n",
              "\n",
              "    .dataframe thead th {\n",
              "        text-align: right;\n",
              "    }\n",
              "</style>\n",
              "<table border=\"1\" class=\"dataframe\">\n",
              "  <thead>\n",
              "    <tr style=\"text-align: right;\">\n",
              "      <th></th>\n",
              "      <th>상호명</th>\n",
              "      <th>상권업종대분류명</th>\n",
              "      <th>상권업종중분류명</th>\n",
              "      <th>상권업종소분류명</th>\n",
              "      <th>시도명</th>\n",
              "      <th>시군구명</th>\n",
              "      <th>행정동명</th>\n",
              "      <th>법정동명</th>\n",
              "      <th>대지구분명</th>\n",
              "      <th>지번본번지</th>\n",
              "      <th>지번주소</th>\n",
              "      <th>도로명</th>\n",
              "      <th>건물본번지</th>\n",
              "      <th>도로명주소</th>\n",
              "      <th>경도</th>\n",
              "      <th>위도</th>\n",
              "    </tr>\n",
              "  </thead>\n",
              "  <tbody>\n",
              "    <tr>\n",
              "      <th>6</th>\n",
              "      <td>가야원명가가야원낙지왕</td>\n",
              "      <td>음식</td>\n",
              "      <td>일식/수산물</td>\n",
              "      <td>낙지/오징어</td>\n",
              "      <td>경기도</td>\n",
              "      <td>광명시</td>\n",
              "      <td>철산3동</td>\n",
              "      <td>철산동</td>\n",
              "      <td>대지</td>\n",
              "      <td>245</td>\n",
              "      <td>경기도 광명시 철산동 245-9</td>\n",
              "      <td>경기도 광명시 철산로</td>\n",
              "      <td>15</td>\n",
              "      <td>경기도 광명시 철산로 15</td>\n",
              "      <td>126.867687</td>\n",
              "      <td>37.476441</td>\n",
              "    </tr>\n",
              "    <tr>\n",
              "      <th>7</th>\n",
              "      <td>해돋이</td>\n",
              "      <td>음식</td>\n",
              "      <td>일식/수산물</td>\n",
              "      <td>음식점-일식</td>\n",
              "      <td>경기도</td>\n",
              "      <td>광명시</td>\n",
              "      <td>철산3동</td>\n",
              "      <td>철산동</td>\n",
              "      <td>대지</td>\n",
              "      <td>398</td>\n",
              "      <td>경기도 광명시 철산동 398</td>\n",
              "      <td>경기도 광명시 오리로856번길</td>\n",
              "      <td>26</td>\n",
              "      <td>경기도 광명시 오리로856번길 26</td>\n",
              "      <td>126.869635</td>\n",
              "      <td>37.475442</td>\n",
              "    </tr>\n",
              "    <tr>\n",
              "      <th>95</th>\n",
              "      <td>cic수학</td>\n",
              "      <td>학문/교육</td>\n",
              "      <td>학원-보습교습입시</td>\n",
              "      <td>학원-입시</td>\n",
              "      <td>경기도</td>\n",
              "      <td>광명시</td>\n",
              "      <td>철산3동</td>\n",
              "      <td>철산동</td>\n",
              "      <td>대지</td>\n",
              "      <td>245</td>\n",
              "      <td>경기도 광명시 철산동 245-1</td>\n",
              "      <td>경기도 광명시 철산로29번길</td>\n",
              "      <td>9</td>\n",
              "      <td>경기도 광명시 철산로29번길 9</td>\n",
              "      <td>126.868734</td>\n",
              "      <td>37.477487</td>\n",
              "    </tr>\n",
              "    <tr>\n",
              "      <th>137</th>\n",
              "      <td>사람과컴퓨터</td>\n",
              "      <td>생활서비스</td>\n",
              "      <td>개인/가정용품수리</td>\n",
              "      <td>컴퓨터수리</td>\n",
              "      <td>경기도</td>\n",
              "      <td>광명시</td>\n",
              "      <td>하안1동</td>\n",
              "      <td>하안동</td>\n",
              "      <td>대지</td>\n",
              "      <td>598</td>\n",
              "      <td>경기도 광명시 하안동 598-13</td>\n",
              "      <td>경기도 광명시 안재로14번길</td>\n",
              "      <td>25</td>\n",
              "      <td>경기도 광명시 안재로14번길 25</td>\n",
              "      <td>126.873856</td>\n",
              "      <td>37.460885</td>\n",
              "    </tr>\n",
              "    <tr>\n",
              "      <th>156</th>\n",
              "      <td>월성닭집</td>\n",
              "      <td>소매</td>\n",
              "      <td>음/식료품소매</td>\n",
              "      <td>육류소매</td>\n",
              "      <td>경기도</td>\n",
              "      <td>광명시</td>\n",
              "      <td>광명4동</td>\n",
              "      <td>광명동</td>\n",
              "      <td>대지</td>\n",
              "      <td>158</td>\n",
              "      <td>경기도 광명시 광명동 158-1056</td>\n",
              "      <td>경기도 광명시 광명로887번길</td>\n",
              "      <td>18</td>\n",
              "      <td>경기도 광명시 광명로887번길 18</td>\n",
              "      <td>126.851977</td>\n",
              "      <td>37.479011</td>\n",
              "    </tr>\n",
              "  </tbody>\n",
              "</table>\n",
              "</div>"
            ],
            "text/plain": [
              "             상호명 상권업종대분류명   상권업종중분류명 상권업종소분류명  시도명 시군구명  행정동명 법정동명 대지구분명  \\\n",
              "6    가야원명가가야원낙지왕       음식     일식/수산물   낙지/오징어  경기도  광명시  철산3동  철산동    대지   \n",
              "7            해돋이       음식     일식/수산물   음식점-일식  경기도  광명시  철산3동  철산동    대지   \n",
              "95         cic수학    학문/교육  학원-보습교습입시    학원-입시  경기도  광명시  철산3동  철산동    대지   \n",
              "137       사람과컴퓨터    생활서비스  개인/가정용품수리    컴퓨터수리  경기도  광명시  하안1동  하안동    대지   \n",
              "156         월성닭집       소매    음/식료품소매     육류소매  경기도  광명시  광명4동  광명동    대지   \n",
              "\n",
              "     지번본번지                  지번주소               도로명  건물본번지  \\\n",
              "6      245     경기도 광명시 철산동 245-9       경기도 광명시 철산로     15   \n",
              "7      398       경기도 광명시 철산동 398  경기도 광명시 오리로856번길     26   \n",
              "95     245     경기도 광명시 철산동 245-1   경기도 광명시 철산로29번길      9   \n",
              "137    598    경기도 광명시 하안동 598-13   경기도 광명시 안재로14번길     25   \n",
              "156    158  경기도 광명시 광명동 158-1056  경기도 광명시 광명로887번길     18   \n",
              "\n",
              "                   도로명주소          경도         위도  \n",
              "6         경기도 광명시 철산로 15  126.867687  37.476441  \n",
              "7    경기도 광명시 오리로856번길 26  126.869635  37.475442  \n",
              "95     경기도 광명시 철산로29번길 9  126.868734  37.477487  \n",
              "137   경기도 광명시 안재로14번길 25  126.873856  37.460885  \n",
              "156  경기도 광명시 광명로887번길 18  126.851977  37.479011  "
            ]
          },
          "metadata": {
            "tags": []
          },
          "execution_count": 144
        }
      ]
    },
    {
      "cell_type": "code",
      "metadata": {
        "colab": {
          "base_uri": "https://localhost:8080/"
        },
        "id": "5E87WiT0oPGl",
        "outputId": "fe5eb6e6-5378-4884-f784-3b67465f5a4e"
      },
      "source": [
        "df[(df[\"시군구명\"] == \"광명시\") & (df[\"상권업종대분류명\"] == \"음식\")][\"상권업종중분류명\"].value_counts()"
      ],
      "execution_count": 146,
      "outputs": [
        {
          "output_type": "execute_result",
          "data": {
            "text/plain": [
              "일식/수산물    2\n",
              "Name: 상권업종중분류명, dtype: int64"
            ]
          },
          "metadata": {
            "tags": []
          },
          "execution_count": 146
        }
      ]
    },
    {
      "cell_type": "code",
      "metadata": {
        "colab": {
          "base_uri": "https://localhost:8080/"
        },
        "id": "DQ0PYeIAo3IF",
        "outputId": "13aa5d88-037c-4e90-bf5f-4c5db57f7f25"
      },
      "source": [
        "df.loc[(df[\"시도명\"] == \"경기도\") & (df[\"상권업종대분류명\"] == \"음식\")][\"상권업종중분류명\"].value_counts()"
      ],
      "execution_count": 166,
      "outputs": [
        {
          "output_type": "execute_result",
          "data": {
            "text/plain": [
              "한식         22\n",
              "유흥주점       14\n",
              "커피점/카페     11\n",
              "닭/오리요리      8\n",
              "분식          6\n",
              "일식/수산물      5\n",
              "제과제빵떡케익     5\n",
              "부페          4\n",
              "별식/퓨전요리     3\n",
              "양식          2\n",
              "패스트푸드       2\n",
              "중식          1\n",
              "기타음식업       1\n",
              "음식배달서비스     1\n",
              "Name: 상권업종중분류명, dtype: int64"
            ]
          },
          "metadata": {
            "tags": []
          },
          "execution_count": 166
        }
      ]
    },
    {
      "cell_type": "code",
      "metadata": {
        "colab": {
          "base_uri": "https://localhost:8080/"
        },
        "id": "okfXoyaGpadJ",
        "outputId": "622a1084-3425-4b47-9b2a-a6a4fc9ea0cf"
      },
      "source": [
        "df_gm_food = df[(df[\"시도명\"] == \"경기도\") & (df[\"상권업종대분류명\"] == \"음식\")].copy()\n",
        "df_gm_food.shape"
      ],
      "execution_count": 167,
      "outputs": [
        {
          "output_type": "execute_result",
          "data": {
            "text/plain": [
              "(85, 16)"
            ]
          },
          "metadata": {
            "tags": []
          },
          "execution_count": 167
        }
      ]
    },
    {
      "cell_type": "code",
      "metadata": {
        "colab": {
          "base_uri": "https://localhost:8080/"
        },
        "id": "sbvGOfAb0j0g",
        "outputId": "0ea18eb6-27c8-4021-acae-3a9d7aa2e8e8"
      },
      "source": [
        "food_gu = df_gm_food.groupby([\"시도명\", \"상권업종중분류명\"])[\"상호명\"].count()\n",
        "food_gu.head()"
      ],
      "execution_count": 162,
      "outputs": [
        {
          "output_type": "execute_result",
          "data": {
            "text/plain": [
              "Series([], Name: 상호명, dtype: int64)"
            ]
          },
          "metadata": {
            "tags": []
          },
          "execution_count": 162
        }
      ]
    },
    {
      "cell_type": "code",
      "metadata": {
        "colab": {
          "base_uri": "https://localhost:8080/"
        },
        "id": "YFJlPnEb0ycu",
        "outputId": "0e6624d5-0c95-47e3-87f0-43e860661520"
      },
      "source": [
        "food_gu = df_gm_food.groupby([\"시군구명\", \"상권업종중분류명\"])[\"상호명\"].count()\n",
        "food_gu.head()"
      ],
      "execution_count": 172,
      "outputs": [
        {
          "output_type": "execute_result",
          "data": {
            "text/plain": [
              "시군구명      상권업종중분류명\n",
              "고양시 덕양구   부페          2\n",
              "          제과제빵떡케익     1\n",
              "          패스트푸드       1\n",
              "고양시 일산동구  유흥주점        2\n",
              "고양시 일산서구  닭/오리요리      1\n",
              "Name: 상호명, dtype: int64"
            ]
          },
          "metadata": {
            "tags": []
          },
          "execution_count": 172
        }
      ]
    },
    {
      "cell_type": "code",
      "metadata": {
        "colab": {
          "base_uri": "https://localhost:8080/",
          "height": 227
        },
        "id": "2BpYfVyb1JoF",
        "outputId": "c0cc4756-cee0-4484-a265-d8cb0c9b99e1"
      },
      "source": [
        "food_gu.unstack().iloc[:5, :5]"
      ],
      "execution_count": 174,
      "outputs": [
        {
          "output_type": "execute_result",
          "data": {
            "text/html": [
              "<div>\n",
              "<style scoped>\n",
              "    .dataframe tbody tr th:only-of-type {\n",
              "        vertical-align: middle;\n",
              "    }\n",
              "\n",
              "    .dataframe tbody tr th {\n",
              "        vertical-align: top;\n",
              "    }\n",
              "\n",
              "    .dataframe thead th {\n",
              "        text-align: right;\n",
              "    }\n",
              "</style>\n",
              "<table border=\"1\" class=\"dataframe\">\n",
              "  <thead>\n",
              "    <tr style=\"text-align: right;\">\n",
              "      <th>상권업종중분류명</th>\n",
              "      <th>기타음식업</th>\n",
              "      <th>닭/오리요리</th>\n",
              "      <th>별식/퓨전요리</th>\n",
              "      <th>부페</th>\n",
              "      <th>분식</th>\n",
              "    </tr>\n",
              "    <tr>\n",
              "      <th>시군구명</th>\n",
              "      <th></th>\n",
              "      <th></th>\n",
              "      <th></th>\n",
              "      <th></th>\n",
              "      <th></th>\n",
              "    </tr>\n",
              "  </thead>\n",
              "  <tbody>\n",
              "    <tr>\n",
              "      <th>고양시 덕양구</th>\n",
              "      <td>NaN</td>\n",
              "      <td>NaN</td>\n",
              "      <td>NaN</td>\n",
              "      <td>2.0</td>\n",
              "      <td>NaN</td>\n",
              "    </tr>\n",
              "    <tr>\n",
              "      <th>고양시 일산동구</th>\n",
              "      <td>NaN</td>\n",
              "      <td>NaN</td>\n",
              "      <td>NaN</td>\n",
              "      <td>NaN</td>\n",
              "      <td>NaN</td>\n",
              "    </tr>\n",
              "    <tr>\n",
              "      <th>고양시 일산서구</th>\n",
              "      <td>NaN</td>\n",
              "      <td>1.0</td>\n",
              "      <td>NaN</td>\n",
              "      <td>NaN</td>\n",
              "      <td>NaN</td>\n",
              "    </tr>\n",
              "    <tr>\n",
              "      <th>광명시</th>\n",
              "      <td>NaN</td>\n",
              "      <td>NaN</td>\n",
              "      <td>NaN</td>\n",
              "      <td>NaN</td>\n",
              "      <td>NaN</td>\n",
              "    </tr>\n",
              "    <tr>\n",
              "      <th>광주시</th>\n",
              "      <td>NaN</td>\n",
              "      <td>NaN</td>\n",
              "      <td>NaN</td>\n",
              "      <td>NaN</td>\n",
              "      <td>NaN</td>\n",
              "    </tr>\n",
              "  </tbody>\n",
              "</table>\n",
              "</div>"
            ],
            "text/plain": [
              "상권업종중분류명  기타음식업  닭/오리요리  별식/퓨전요리   부페  분식\n",
              "시군구명                                     \n",
              "고양시 덕양구     NaN     NaN      NaN  2.0 NaN\n",
              "고양시 일산동구    NaN     NaN      NaN  NaN NaN\n",
              "고양시 일산서구    NaN     1.0      NaN  NaN NaN\n",
              "광명시         NaN     NaN      NaN  NaN NaN\n",
              "광주시         NaN     NaN      NaN  NaN NaN"
            ]
          },
          "metadata": {
            "tags": []
          },
          "execution_count": 174
        }
      ]
    },
    {
      "cell_type": "code",
      "metadata": {
        "colab": {
          "base_uri": "https://localhost:8080/",
          "height": 197
        },
        "id": "rjpL8tMU1_wy",
        "outputId": "ab557f37-6a4e-4e4a-bd4b-920456e81f54"
      },
      "source": [
        "food = food_gu.reset_index()\n",
        "food = food.rename(columns={\"상호명\":\"상호수\"})\n",
        "food.head()"
      ],
      "execution_count": 186,
      "outputs": [
        {
          "output_type": "execute_result",
          "data": {
            "text/html": [
              "<div>\n",
              "<style scoped>\n",
              "    .dataframe tbody tr th:only-of-type {\n",
              "        vertical-align: middle;\n",
              "    }\n",
              "\n",
              "    .dataframe tbody tr th {\n",
              "        vertical-align: top;\n",
              "    }\n",
              "\n",
              "    .dataframe thead th {\n",
              "        text-align: right;\n",
              "    }\n",
              "</style>\n",
              "<table border=\"1\" class=\"dataframe\">\n",
              "  <thead>\n",
              "    <tr style=\"text-align: right;\">\n",
              "      <th></th>\n",
              "      <th>시군구명</th>\n",
              "      <th>상권업종중분류명</th>\n",
              "      <th>상호수</th>\n",
              "    </tr>\n",
              "  </thead>\n",
              "  <tbody>\n",
              "    <tr>\n",
              "      <th>0</th>\n",
              "      <td>고양시 덕양구</td>\n",
              "      <td>부페</td>\n",
              "      <td>2</td>\n",
              "    </tr>\n",
              "    <tr>\n",
              "      <th>1</th>\n",
              "      <td>고양시 덕양구</td>\n",
              "      <td>제과제빵떡케익</td>\n",
              "      <td>1</td>\n",
              "    </tr>\n",
              "    <tr>\n",
              "      <th>2</th>\n",
              "      <td>고양시 덕양구</td>\n",
              "      <td>패스트푸드</td>\n",
              "      <td>1</td>\n",
              "    </tr>\n",
              "    <tr>\n",
              "      <th>3</th>\n",
              "      <td>고양시 일산동구</td>\n",
              "      <td>유흥주점</td>\n",
              "      <td>2</td>\n",
              "    </tr>\n",
              "    <tr>\n",
              "      <th>4</th>\n",
              "      <td>고양시 일산서구</td>\n",
              "      <td>닭/오리요리</td>\n",
              "      <td>1</td>\n",
              "    </tr>\n",
              "  </tbody>\n",
              "</table>\n",
              "</div>"
            ],
            "text/plain": [
              "       시군구명 상권업종중분류명  상호수\n",
              "0   고양시 덕양구       부페    2\n",
              "1   고양시 덕양구  제과제빵떡케익    1\n",
              "2   고양시 덕양구    패스트푸드    1\n",
              "3  고양시 일산동구     유흥주점    2\n",
              "4  고양시 일산서구   닭/오리요리    1"
            ]
          },
          "metadata": {
            "tags": []
          },
          "execution_count": 186
        }
      ]
    },
    {
      "cell_type": "code",
      "metadata": {
        "colab": {
          "base_uri": "https://localhost:8080/",
          "height": 353
        },
        "id": "FPxbJvts2MGf",
        "outputId": "231a680f-4e60-4433-d9e1-e5cf0ec09fbf"
      },
      "source": [
        "plt.figure(figsize=(20, 10))\n",
        "sns.barplot(data=food, x=\"시군구명\", y=\"상호수\")"
      ],
      "execution_count": 191,
      "outputs": [
        {
          "output_type": "execute_result",
          "data": {
            "text/plain": [
              "<matplotlib.axes._subplots.AxesSubplot at 0x7f85390ddcc0>"
            ]
          },
          "metadata": {
            "tags": []
          },
          "execution_count": 191
        },
        {
          "output_type": "display_data",
          "data": {
            "image/png": "[encoded data removed]",
            "text/plain": [
              "<Figure size 1440x720 with 1 Axes>"
            ]
          },
          "metadata": {
            "tags": [],
            "needs_background": "light"
          }
        }
      ]
    },
    {
      "cell_type": "code",
      "metadata": {
        "colab": {
          "base_uri": "https://localhost:8080/",
          "height": 664
        },
        "id": "za_6XJda2Zqa",
        "outputId": "30ccd8f8-25c5-4b8a-862d-762b75d00626"
      },
      "source": [
        "sns.catplot(data=food, x=\"시군구명\", y=\"상호수\", \n",
        "            kind=\"bar\", col=\"상권업종중분류명\", col_wrap=4)"
      ],
      "execution_count": 197,
      "outputs": [
        {
          "output_type": "execute_result",
          "data": {
            "text/plain": [
              "<seaborn.axisgrid.FacetGrid at 0x7f8538175588>"
            ]
          },
          "metadata": {
            "tags": []
          },
          "execution_count": 197
        },
        {
          "output_type": "display_data",
          "data": {
            "image/png": "[encoded data removed]",
            "text/plain": [
              "<Figure size 1440x1440 with 14 Axes>"
            ]
          },
          "metadata": {
            "tags": [],
            "needs_background": "light"
          }
        }
      ]
    },
    {
      "cell_type": "code",
      "metadata": {
        "id": "G0hR-Qvo3vny"
      },
      "source": [
        ""
      ],
      "execution_count": null,
      "outputs": []
    }
  ]
}