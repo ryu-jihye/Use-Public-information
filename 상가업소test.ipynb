{
  "nbformat": 4,
  "nbformat_minor": 0,
  "metadata": {
    "colab": {
      "name": "상가업소test",
      "provenance": [],
      "collapsed_sections": [],
      "authorship_tag": "ABX9TyPFLeK9SqkkOMWZwJH+Z0pH",
      "include_colab_link": true
    },
    "kernelspec": {
      "name": "python3",
      "display_name": "Python 3"
    }
  },
  "cells": [
    {
      "cell_type": "markdown",
      "metadata": {
        "id": "view-in-github",
        "colab_type": "text"
      },
      "source": [
        "<a href=\"https://colab.research.google.com/github/ryu-jihye/Use-Public-information/blob/main/%EC%83%81%EA%B0%80%EC%97%85%EC%86%8Ctest.ipynb\" target=\"_parent\"><img src=\"https://colab.research.google.com/assets/colab-badge.svg\" alt=\"Open In Colab\"/></a>"
      ]
    },
    {
      "cell_type": "code",
      "metadata": {
        "id": "Pe68fLuKezIV"
      },
      "source": [
        "import pandas as pd\n",
        "import seaborn as sns\n",
        "import matplotlib.pyplot as plt"
      ],
      "execution_count": null,
      "outputs": []
    },
    {
      "cell_type": "code",
      "metadata": {
        "id": "9--z09zBfrNF",
        "colab": {
          "base_uri": "https://localhost:8080/"
        },
        "outputId": "7463cc18-0c32-455c-8266-98f9ca58be41"
      },
      "source": [
        "!sudo apt-get install -y fonts-nanum\n",
        "!sudo fc-cache -fv\n",
        "!rm ~/.cache/matplotlib -rf"
      ],
      "execution_count": null,
      "outputs": [
        {
          "output_type": "stream",
          "text": [
            "Reading package lists... Done\n",
            "Building dependency tree       \n",
            "Reading state information... Done\n",
            "The following NEW packages will be installed:\n",
            "  fonts-nanum\n",
            "0 upgraded, 1 newly installed, 0 to remove and 14 not upgraded.\n",
            "Need to get 9,604 kB of archives.\n",
            "After this operation, 29.5 MB of additional disk space will be used.\n",
            "Get:1 http://archive.ubuntu.com/ubuntu bionic/universe amd64 fonts-nanum all 20170925-1 [9,604 kB]\n",
            "Fetched 9,604 kB in 1s (8,917 kB/s)\n",
            "debconf: unable to initialize frontend: Dialog\n",
            "debconf: (No usable dialog-like program is installed, so the dialog based frontend cannot be used. at /usr/share/perl5/Debconf/FrontEnd/Dialog.pm line 76, <> line 1.)\n",
            "debconf: falling back to frontend: Readline\n",
            "debconf: unable to initialize frontend: Readline\n",
            "debconf: (This frontend requires a controlling tty.)\n",
            "debconf: falling back to frontend: Teletype\n",
            "dpkg-preconfigure: unable to re-open stdin: \n",
            "Selecting previously unselected package fonts-nanum.\n",
            "(Reading database ... 144793 files and directories currently installed.)\n",
            "Preparing to unpack .../fonts-nanum_20170925-1_all.deb ...\n",
            "Unpacking fonts-nanum (20170925-1) ...\n",
            "Setting up fonts-nanum (20170925-1) ...\n",
            "Processing triggers for fontconfig (2.12.6-0ubuntu2) ...\n",
            "/usr/share/fonts: caching, new cache contents: 0 fonts, 1 dirs\n",
            "/usr/share/fonts/truetype: caching, new cache contents: 0 fonts, 3 dirs\n",
            "/usr/share/fonts/truetype/humor-sans: caching, new cache contents: 1 fonts, 0 dirs\n",
            "/usr/share/fonts/truetype/liberation: caching, new cache contents: 16 fonts, 0 dirs\n",
            "/usr/share/fonts/truetype/nanum: caching, new cache contents: 10 fonts, 0 dirs\n",
            "/usr/local/share/fonts: caching, new cache contents: 0 fonts, 0 dirs\n",
            "/root/.local/share/fonts: skipping, no such directory\n",
            "/root/.fonts: skipping, no such directory\n",
            "/var/cache/fontconfig: cleaning cache directory\n",
            "/root/.cache/fontconfig: not cleaning non-existent cache directory\n",
            "/root/.fontconfig: not cleaning non-existent cache directory\n",
            "fc-cache: succeeded\n"
          ],
          "name": "stdout"
        }
      ]
    },
    {
      "cell_type": "code",
      "metadata": {
        "id": "kcmASIPegb_R"
      },
      "source": [
        "import matplotlib.pyplot as plt\n",
        "plt.rc('font', family='NanumBarunGothic') "
      ],
      "execution_count": null,
      "outputs": []
    },
    {
      "cell_type": "code",
      "metadata": {
        "colab": {
          "base_uri": "https://localhost:8080/",
          "height": 372
        },
        "id": "UITxoHa7gvzx",
        "outputId": "747f7753-fd56-4685-af13-3a8c5dc49c88"
      },
      "source": [
        "pd.Series([-1, 4, 3, 5, -2]).plot(title=\"예시\")"
      ],
      "execution_count": null,
      "outputs": [
        {
          "output_type": "execute_result",
          "data": {
            "text/plain": [
              "<matplotlib.axes._subplots.AxesSubplot at 0x7fea33f1fa20>"
            ]
          },
          "metadata": {
            "tags": []
          },
          "execution_count": 3
        },
        {
          "output_type": "stream",
          "text": [
            "/usr/local/lib/python3.6/dist-packages/matplotlib/backends/backend_agg.py:214: RuntimeWarning: Glyph 8722 missing from current font.\n",
            "  font.set_text(s, 0.0, flags=flags)\n",
            "/usr/local/lib/python3.6/dist-packages/matplotlib/backends/backend_agg.py:183: RuntimeWarning: Glyph 8722 missing from current font.\n",
            "  font.set_text(s, 0, flags=flags)\n"
          ],
          "name": "stderr"
        },
        {
          "output_type": "display_data",
          "data": {
            "image/png": "[encoded data removed]",
            "text/plain": [
              "<Figure size 432x288 with 1 Axes>"
            ]
          },
          "metadata": {
            "tags": [],
            "needs_background": "light"
          }
        }
      ]
    },
    {
      "cell_type": "code",
      "metadata": {
        "id": "Xrd6tk-8hL1M",
        "colab": {
          "resources": {
            "http://localhost:8080/nbextensions/google.colab/files.js": {
              "data": "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",
              "ok": true,
              "headers": [
                [
                  "content-type",
                  "application/javascript"
                ]
              ],
              "status": 200,
              "status_text": ""
            }
          },
          "base_uri": "https://localhost:8080/",
          "height": 92
        },
        "outputId": "a8493e35-f4ff-4511-89ec-c2fc3972e8cb"
      },
      "source": [
        "from google.colab import files\n",
        "uploaded = files.upload()"
      ],
      "execution_count": 7,
      "outputs": [
        {
          "output_type": "display_data",
          "data": {
            "text/html": [
              "\n",
              "     <input type=\"file\" id=\"files-f34a1ff0-7ed3-4bcc-9bba-e761a3c261d8\" name=\"files[]\" multiple disabled\n",
              "        style=\"border:none\" />\n",
              "     <output id=\"result-f34a1ff0-7ed3-4bcc-9bba-e761a3c261d8\">\n",
              "      Upload widget is only available when the cell has been executed in the\n",
              "      current browser session. Please rerun this cell to enable.\n",
              "      </output>\n",
              "      <script src=\"/nbextensions/google.colab/files.js\"></script> "
            ],
            "text/plain": [
              "<IPython.core.display.HTML object>"
            ]
          },
          "metadata": {
            "tags": []
          }
        },
        {
          "output_type": "stream",
          "text": [
            "Saving 경기상가번호test.csv to 경기상가번호test.csv\n"
          ],
          "name": "stdout"
        }
      ]
    },
    {
      "cell_type": "code",
      "metadata": {
        "id": "nd9PXXpBiUr1",
        "outputId": "381289b2-51fe-47a6-a0bf-7a05147feeb9",
        "colab": {
          "base_uri": "https://localhost:8080/"
        }
      },
      "source": [
        "!ls"
      ],
      "execution_count": 8,
      "outputs": [
        {
          "output_type": "stream",
          "text": [
            "상가업소정보_201912_01.csv  sample_data  경기상가번호test.csv\n"
          ],
          "name": "stdout"
        }
      ]
    },
    {
      "cell_type": "code",
      "metadata": {
        "id": "etPTiUUspyTG",
        "outputId": "e3e2b419-9c28-4b21-aa00-3c5320289a34",
        "colab": {
          "base_uri": "https://localhost:8080/"
        }
      },
      "source": [
        "df = pd.read_csv(\"경기상가번호test.csv\", encoding=\"cp949\")\n",
        "df.shape"
      ],
      "execution_count": 10,
      "outputs": [
        {
          "output_type": "execute_result",
          "data": {
            "text/plain": [
              "(328, 39)"
            ]
          },
          "metadata": {
            "tags": []
          },
          "execution_count": 10
        }
      ]
    },
    {
      "cell_type": "code",
      "metadata": {
        "id": "sZeN_5SUpwF2"
      },
      "source": [
        "pd.options.display.max_columns = 39"
      ],
      "execution_count": 11,
      "outputs": []
    },
    {
      "cell_type": "code",
      "metadata": {
        "id": "gD6854lfqA8T",
        "outputId": "df1716c0-1bb4-465e-ca2d-24044f0a3e71",
        "colab": {
          "base_uri": "https://localhost:8080/",
          "height": 1000
        }
      },
      "source": [
        "df.head()"
      ],
      "execution_count": 12,
      "outputs": [
        {
          "output_type": "execute_result",
          "data": {
            "text/html": [
              "<div>\n",
              "<style scoped>\n",
              "    .dataframe tbody tr th:only-of-type {\n",
              "        vertical-align: middle;\n",
              "    }\n",
              "\n",
              "    .dataframe tbody tr th {\n",
              "        vertical-align: top;\n",
              "    }\n",
              "\n",
              "    .dataframe thead th {\n",
              "        text-align: right;\n",
              "    }\n",
              "</style>\n",
              "<table border=\"1\" class=\"dataframe\">\n",
              "  <thead>\n",
              "    <tr style=\"text-align: right;\">\n",
              "      <th></th>\n",
              "      <th>상가업소번호</th>\n",
              "      <th>상호명</th>\n",
              "      <th>지점명</th>\n",
              "      <th>상권업종대분류코드</th>\n",
              "      <th>상권업종대분류명</th>\n",
              "      <th>상권업종중분류코드</th>\n",
              "      <th>상권업종중분류명</th>\n",
              "      <th>상권업종소분류코드</th>\n",
              "      <th>상권업종소분류명</th>\n",
              "      <th>표준산업분류코드</th>\n",
              "      <th>표준산업분류명</th>\n",
              "      <th>시도코드</th>\n",
              "      <th>시도명</th>\n",
              "      <th>시군구코드</th>\n",
              "      <th>시군구명</th>\n",
              "      <th>행정동코드</th>\n",
              "      <th>행정동명</th>\n",
              "      <th>법정동코드</th>\n",
              "      <th>법정동명</th>\n",
              "      <th>지번코드</th>\n",
              "      <th>대지구분코드</th>\n",
              "      <th>대지구분명</th>\n",
              "      <th>지번본번지</th>\n",
              "      <th>지번부번지</th>\n",
              "      <th>지번주소</th>\n",
              "      <th>도로명코드</th>\n",
              "      <th>도로명</th>\n",
              "      <th>건물본번지</th>\n",
              "      <th>건물부번지</th>\n",
              "      <th>건물관리번호</th>\n",
              "      <th>건물명</th>\n",
              "      <th>도로명주소</th>\n",
              "      <th>구우편번호</th>\n",
              "      <th>신우편번호</th>\n",
              "      <th>동정보</th>\n",
              "      <th>층정보</th>\n",
              "      <th>호정보</th>\n",
              "      <th>경도</th>\n",
              "      <th>위도</th>\n",
              "    </tr>\n",
              "  </thead>\n",
              "  <tbody>\n",
              "    <tr>\n",
              "      <th>0</th>\n",
              "      <td>19943193</td>\n",
              "      <td>프리즐</td>\n",
              "      <td>NaN</td>\n",
              "      <td>Q</td>\n",
              "      <td>음식</td>\n",
              "      <td>Q04</td>\n",
              "      <td>분식</td>\n",
              "      <td>Q04A01</td>\n",
              "      <td>라면김밥분식</td>\n",
              "      <td>I56194</td>\n",
              "      <td>분식 및 김밥 전문점</td>\n",
              "      <td>41</td>\n",
              "      <td>경기도</td>\n",
              "      <td>41360</td>\n",
              "      <td>남양주시</td>\n",
              "      <td>4136025300</td>\n",
              "      <td>진접읍</td>\n",
              "      <td>4136025321</td>\n",
              "      <td>진접읍</td>\n",
              "      <td>4.136030e+18</td>\n",
              "      <td>1</td>\n",
              "      <td>대지</td>\n",
              "      <td>672</td>\n",
              "      <td>1.0</td>\n",
              "      <td>경기도 남양주시 진접읍 장현리 672-1</td>\n",
              "      <td>4.136030e+11</td>\n",
              "      <td>경기도 남양주시 진접읍 봉현로</td>\n",
              "      <td>14</td>\n",
              "      <td>NaN</td>\n",
              "      <td>4.136030e+24</td>\n",
              "      <td>NaN</td>\n",
              "      <td>경기도 남양주시 진접읍 봉현로 14</td>\n",
              "      <td>472865</td>\n",
              "      <td>12013</td>\n",
              "      <td>NaN</td>\n",
              "      <td>3.0</td>\n",
              "      <td>NaN</td>\n",
              "      <td>127.181143</td>\n",
              "      <td>37.715402</td>\n",
              "    </tr>\n",
              "    <tr>\n",
              "      <th>1</th>\n",
              "      <td>19943449</td>\n",
              "      <td>최씨네별난맛집</td>\n",
              "      <td>NaN</td>\n",
              "      <td>Q</td>\n",
              "      <td>음식</td>\n",
              "      <td>Q01</td>\n",
              "      <td>한식</td>\n",
              "      <td>Q01A01</td>\n",
              "      <td>한식/백반/한정식</td>\n",
              "      <td>I56111</td>\n",
              "      <td>한식 음식점업</td>\n",
              "      <td>41</td>\n",
              "      <td>경기도</td>\n",
              "      <td>41250</td>\n",
              "      <td>동두천시</td>\n",
              "      <td>4125056500</td>\n",
              "      <td>불현동</td>\n",
              "      <td>4125010400</td>\n",
              "      <td>광암동</td>\n",
              "      <td>4.125010e+18</td>\n",
              "      <td>1</td>\n",
              "      <td>대지</td>\n",
              "      <td>494</td>\n",
              "      <td>34.0</td>\n",
              "      <td>경기도 동두천시 광암동 494-34</td>\n",
              "      <td>4.125040e+11</td>\n",
              "      <td>경기도 동두천시 광암로33번길</td>\n",
              "      <td>15</td>\n",
              "      <td>NaN</td>\n",
              "      <td>4.125010e+24</td>\n",
              "      <td>NaN</td>\n",
              "      <td>경기도 동두천시 광암로33번길 15</td>\n",
              "      <td>483040</td>\n",
              "      <td>11321</td>\n",
              "      <td>NaN</td>\n",
              "      <td>1.0</td>\n",
              "      <td>NaN</td>\n",
              "      <td>127.085525</td>\n",
              "      <td>37.896127</td>\n",
              "    </tr>\n",
              "    <tr>\n",
              "      <th>2</th>\n",
              "      <td>19946985</td>\n",
              "      <td>페리카나</td>\n",
              "      <td>NaN</td>\n",
              "      <td>Q</td>\n",
              "      <td>음식</td>\n",
              "      <td>Q05</td>\n",
              "      <td>닭/오리요리</td>\n",
              "      <td>Q05A08</td>\n",
              "      <td>후라이드/양념치킨</td>\n",
              "      <td>I56193</td>\n",
              "      <td>치킨 전문점</td>\n",
              "      <td>41</td>\n",
              "      <td>경기도</td>\n",
              "      <td>41133</td>\n",
              "      <td>성남시 중원구</td>\n",
              "      <td>4113366000</td>\n",
              "      <td>하대원동</td>\n",
              "      <td>4113310900</td>\n",
              "      <td>하대원동</td>\n",
              "      <td>4.113310e+18</td>\n",
              "      <td>1</td>\n",
              "      <td>대지</td>\n",
              "      <td>154</td>\n",
              "      <td>44.0</td>\n",
              "      <td>경기도 성남시 중원구 하대원동 154-44</td>\n",
              "      <td>4.113340e+11</td>\n",
              "      <td>경기도 성남시 중원구 마지로155번길</td>\n",
              "      <td>25</td>\n",
              "      <td>7.0</td>\n",
              "      <td>4.113310e+24</td>\n",
              "      <td>NaN</td>\n",
              "      <td>경기도 성남시 중원구 마지로155번길 25-7</td>\n",
              "      <td>462839</td>\n",
              "      <td>13406</td>\n",
              "      <td>NaN</td>\n",
              "      <td>1.0</td>\n",
              "      <td>NaN</td>\n",
              "      <td>127.149042</td>\n",
              "      <td>37.428063</td>\n",
              "    </tr>\n",
              "    <tr>\n",
              "      <th>3</th>\n",
              "      <td>19947331</td>\n",
              "      <td>한우장다리식당</td>\n",
              "      <td>NaN</td>\n",
              "      <td>Q</td>\n",
              "      <td>음식</td>\n",
              "      <td>Q01</td>\n",
              "      <td>한식</td>\n",
              "      <td>Q01A01</td>\n",
              "      <td>한식/백반/한정식</td>\n",
              "      <td>I56111</td>\n",
              "      <td>한식 음식점업</td>\n",
              "      <td>41</td>\n",
              "      <td>경기도</td>\n",
              "      <td>41135</td>\n",
              "      <td>성남시 분당구</td>\n",
              "      <td>4113554500</td>\n",
              "      <td>정자동</td>\n",
              "      <td>4113510300</td>\n",
              "      <td>정자동</td>\n",
              "      <td>4.113510e+18</td>\n",
              "      <td>1</td>\n",
              "      <td>대지</td>\n",
              "      <td>43</td>\n",
              "      <td>9.0</td>\n",
              "      <td>경기도 성남시 분당구 정자동 43-9</td>\n",
              "      <td>4.113540e+11</td>\n",
              "      <td>경기도 성남시 분당구 내정로119번길</td>\n",
              "      <td>20</td>\n",
              "      <td>NaN</td>\n",
              "      <td>4.113510e+24</td>\n",
              "      <td>NaN</td>\n",
              "      <td>경기도 성남시 분당구 내정로119번길 20</td>\n",
              "      <td>463848</td>\n",
              "      <td>13609</td>\n",
              "      <td>NaN</td>\n",
              "      <td>1.0</td>\n",
              "      <td>NaN</td>\n",
              "      <td>127.113929</td>\n",
              "      <td>37.372101</td>\n",
              "    </tr>\n",
              "    <tr>\n",
              "      <th>4</th>\n",
              "      <td>19947348</td>\n",
              "      <td>우체국커피자동판매기</td>\n",
              "      <td>NaN</td>\n",
              "      <td>D</td>\n",
              "      <td>소매</td>\n",
              "      <td>D25</td>\n",
              "      <td>기타판매업</td>\n",
              "      <td>D25A18</td>\n",
              "      <td>자동판매기운영</td>\n",
              "      <td>G47991</td>\n",
              "      <td>자동판매기 운영업</td>\n",
              "      <td>41</td>\n",
              "      <td>경기도</td>\n",
              "      <td>41131</td>\n",
              "      <td>성남시 수정구</td>\n",
              "      <td>4113153000</td>\n",
              "      <td>신흥3동</td>\n",
              "      <td>4113110100</td>\n",
              "      <td>신흥동</td>\n",
              "      <td>4.113110e+18</td>\n",
              "      <td>1</td>\n",
              "      <td>대지</td>\n",
              "      <td>2482</td>\n",
              "      <td>NaN</td>\n",
              "      <td>경기도 성남시 수정구 신흥동 2482</td>\n",
              "      <td>4.113120e+11</td>\n",
              "      <td>경기도 성남시 수정구 산성대로</td>\n",
              "      <td>297</td>\n",
              "      <td>NaN</td>\n",
              "      <td>4.113110e+24</td>\n",
              "      <td>프린스컨벤션센터</td>\n",
              "      <td>경기도 성남시 수정구 산성대로 297</td>\n",
              "      <td>461163</td>\n",
              "      <td>13354</td>\n",
              "      <td>NaN</td>\n",
              "      <td>1.0</td>\n",
              "      <td>NaN</td>\n",
              "      <td>127.149640</td>\n",
              "      <td>37.442115</td>\n",
              "    </tr>\n",
              "  </tbody>\n",
              "</table>\n",
              "</div>"
            ],
            "text/plain": [
              "     상가업소번호         상호명  지점명 상권업종대분류코드 상권업종대분류명 상권업종중분류코드 상권업종중분류명 상권업종소분류코드  \\\n",
              "0  19943193         프리즐  NaN         Q       음식       Q04       분식    Q04A01   \n",
              "1  19943449     최씨네별난맛집  NaN         Q       음식       Q01       한식    Q01A01   \n",
              "2  19946985        페리카나  NaN         Q       음식       Q05   닭/오리요리    Q05A08   \n",
              "3  19947331     한우장다리식당  NaN         Q       음식       Q01       한식    Q01A01   \n",
              "4  19947348  우체국커피자동판매기  NaN         D       소매       D25    기타판매업    D25A18   \n",
              "\n",
              "    상권업종소분류명 표준산업분류코드      표준산업분류명  시도코드  시도명  시군구코드     시군구명       행정동코드  \\\n",
              "0     라면김밥분식   I56194  분식 및 김밥 전문점    41  경기도  41360     남양주시  4136025300   \n",
              "1  한식/백반/한정식   I56111      한식 음식점업    41  경기도  41250     동두천시  4125056500   \n",
              "2  후라이드/양념치킨   I56193       치킨 전문점    41  경기도  41133  성남시 중원구  4113366000   \n",
              "3  한식/백반/한정식   I56111      한식 음식점업    41  경기도  41135  성남시 분당구  4113554500   \n",
              "4    자동판매기운영   G47991    자동판매기 운영업    41  경기도  41131  성남시 수정구  4113153000   \n",
              "\n",
              "   행정동명       법정동코드  법정동명          지번코드  대지구분코드 대지구분명  지번본번지  지번부번지  \\\n",
              "0   진접읍  4136025321   진접읍  4.136030e+18       1    대지    672    1.0   \n",
              "1   불현동  4125010400   광암동  4.125010e+18       1    대지    494   34.0   \n",
              "2  하대원동  4113310900  하대원동  4.113310e+18       1    대지    154   44.0   \n",
              "3   정자동  4113510300   정자동  4.113510e+18       1    대지     43    9.0   \n",
              "4  신흥3동  4113110100   신흥동  4.113110e+18       1    대지   2482    NaN   \n",
              "\n",
              "                      지번주소         도로명코드                   도로명  건물본번지  건물부번지  \\\n",
              "0   경기도 남양주시 진접읍 장현리 672-1  4.136030e+11      경기도 남양주시 진접읍 봉현로     14    NaN   \n",
              "1      경기도 동두천시 광암동 494-34  4.125040e+11      경기도 동두천시 광암로33번길     15    NaN   \n",
              "2  경기도 성남시 중원구 하대원동 154-44  4.113340e+11  경기도 성남시 중원구 마지로155번길     25    7.0   \n",
              "3     경기도 성남시 분당구 정자동 43-9  4.113540e+11  경기도 성남시 분당구 내정로119번길     20    NaN   \n",
              "4     경기도 성남시 수정구 신흥동 2482  4.113120e+11      경기도 성남시 수정구 산성대로    297    NaN   \n",
              "\n",
              "         건물관리번호       건물명                      도로명주소   구우편번호  신우편번호  동정보  층정보  \\\n",
              "0  4.136030e+24       NaN        경기도 남양주시 진접읍 봉현로 14  472865  12013  NaN  3.0   \n",
              "1  4.125010e+24       NaN        경기도 동두천시 광암로33번길 15  483040  11321  NaN  1.0   \n",
              "2  4.113310e+24       NaN  경기도 성남시 중원구 마지로155번길 25-7  462839  13406  NaN  1.0   \n",
              "3  4.113510e+24       NaN    경기도 성남시 분당구 내정로119번길 20  463848  13609  NaN  1.0   \n",
              "4  4.113110e+24  프린스컨벤션센터       경기도 성남시 수정구 산성대로 297  461163  13354  NaN  1.0   \n",
              "\n",
              "   호정보          경도         위도  \n",
              "0  NaN  127.181143  37.715402  \n",
              "1  NaN  127.085525  37.896127  \n",
              "2  NaN  127.149042  37.428063  \n",
              "3  NaN  127.113929  37.372101  \n",
              "4  NaN  127.149640  37.442115  "
            ]
          },
          "metadata": {
            "tags": []
          },
          "execution_count": 12
        }
      ]
    },
    {
      "cell_type": "code",
      "metadata": {
        "id": "QXY-lHOjqCpH",
        "outputId": "c14962fc-d153-4f0b-8716-5ad01e04f564",
        "colab": {
          "base_uri": "https://localhost:8080/",
          "height": 1000
        }
      },
      "source": [
        "df.tail()"
      ],
      "execution_count": 13,
      "outputs": [
        {
          "output_type": "execute_result",
          "data": {
            "text/html": [
              "<div>\n",
              "<style scoped>\n",
              "    .dataframe tbody tr th:only-of-type {\n",
              "        vertical-align: middle;\n",
              "    }\n",
              "\n",
              "    .dataframe tbody tr th {\n",
              "        vertical-align: top;\n",
              "    }\n",
              "\n",
              "    .dataframe thead th {\n",
              "        text-align: right;\n",
              "    }\n",
              "</style>\n",
              "<table border=\"1\" class=\"dataframe\">\n",
              "  <thead>\n",
              "    <tr style=\"text-align: right;\">\n",
              "      <th></th>\n",
              "      <th>상가업소번호</th>\n",
              "      <th>상호명</th>\n",
              "      <th>지점명</th>\n",
              "      <th>상권업종대분류코드</th>\n",
              "      <th>상권업종대분류명</th>\n",
              "      <th>상권업종중분류코드</th>\n",
              "      <th>상권업종중분류명</th>\n",
              "      <th>상권업종소분류코드</th>\n",
              "      <th>상권업종소분류명</th>\n",
              "      <th>표준산업분류코드</th>\n",
              "      <th>표준산업분류명</th>\n",
              "      <th>시도코드</th>\n",
              "      <th>시도명</th>\n",
              "      <th>시군구코드</th>\n",
              "      <th>시군구명</th>\n",
              "      <th>행정동코드</th>\n",
              "      <th>행정동명</th>\n",
              "      <th>법정동코드</th>\n",
              "      <th>법정동명</th>\n",
              "      <th>지번코드</th>\n",
              "      <th>대지구분코드</th>\n",
              "      <th>대지구분명</th>\n",
              "      <th>지번본번지</th>\n",
              "      <th>지번부번지</th>\n",
              "      <th>지번주소</th>\n",
              "      <th>도로명코드</th>\n",
              "      <th>도로명</th>\n",
              "      <th>건물본번지</th>\n",
              "      <th>건물부번지</th>\n",
              "      <th>건물관리번호</th>\n",
              "      <th>건물명</th>\n",
              "      <th>도로명주소</th>\n",
              "      <th>구우편번호</th>\n",
              "      <th>신우편번호</th>\n",
              "      <th>동정보</th>\n",
              "      <th>층정보</th>\n",
              "      <th>호정보</th>\n",
              "      <th>경도</th>\n",
              "      <th>위도</th>\n",
              "    </tr>\n",
              "  </thead>\n",
              "  <tbody>\n",
              "    <tr>\n",
              "      <th>323</th>\n",
              "      <td>21231706</td>\n",
              "      <td>알루미늄피브이씨창호</td>\n",
              "      <td>NaN</td>\n",
              "      <td>F</td>\n",
              "      <td>생활서비스</td>\n",
              "      <td>F15</td>\n",
              "      <td>주택수리</td>\n",
              "      <td>F15A04</td>\n",
              "      <td>유리창호</td>\n",
              "      <td>F42420</td>\n",
              "      <td>유리 및 창호 공사업</td>\n",
              "      <td>41</td>\n",
              "      <td>경기도</td>\n",
              "      <td>41590</td>\n",
              "      <td>화성시</td>\n",
              "      <td>4159026200</td>\n",
              "      <td>남양읍</td>\n",
              "      <td>4159026221</td>\n",
              "      <td>남양읍</td>\n",
              "      <td>4.159030e+18</td>\n",
              "      <td>1</td>\n",
              "      <td>대지</td>\n",
              "      <td>209</td>\n",
              "      <td>NaN</td>\n",
              "      <td>경기도 화성시 남양읍 남양리 209</td>\n",
              "      <td>4.159040e+11</td>\n",
              "      <td>경기도 화성시 남양읍 수작이길</td>\n",
              "      <td>11</td>\n",
              "      <td>NaN</td>\n",
              "      <td>4.159010e+24</td>\n",
              "      <td>NaN</td>\n",
              "      <td>경기도 화성시 남양읍 수작이길 11</td>\n",
              "      <td>445851</td>\n",
              "      <td>18254</td>\n",
              "      <td>NaN</td>\n",
              "      <td>1.0</td>\n",
              "      <td>NaN</td>\n",
              "      <td>126.805454</td>\n",
              "      <td>37.208159</td>\n",
              "    </tr>\n",
              "    <tr>\n",
              "      <th>324</th>\n",
              "      <td>21259403</td>\n",
              "      <td>한도공인중개사사무소</td>\n",
              "      <td>NaN</td>\n",
              "      <td>L</td>\n",
              "      <td>부동산</td>\n",
              "      <td>L01</td>\n",
              "      <td>부동산중개</td>\n",
              "      <td>L01A01</td>\n",
              "      <td>부동산중개</td>\n",
              "      <td>L68221</td>\n",
              "      <td>부동산 자문 및 중개업</td>\n",
              "      <td>41</td>\n",
              "      <td>경기도</td>\n",
              "      <td>41610</td>\n",
              "      <td>광주시</td>\n",
              "      <td>4161025000</td>\n",
              "      <td>오포읍</td>\n",
              "      <td>4161025026</td>\n",
              "      <td>오포읍</td>\n",
              "      <td>4.161030e+18</td>\n",
              "      <td>1</td>\n",
              "      <td>대지</td>\n",
              "      <td>614</td>\n",
              "      <td>26.0</td>\n",
              "      <td>경기도 광주시 오포읍 매산리 614-26</td>\n",
              "      <td>4.161030e+11</td>\n",
              "      <td>경기도 광주시 오포읍 양벌로</td>\n",
              "      <td>379</td>\n",
              "      <td>5.0</td>\n",
              "      <td>4.161030e+24</td>\n",
              "      <td>NaN</td>\n",
              "      <td>경기도 광주시 오포읍 양벌로 379-5</td>\n",
              "      <td>464893</td>\n",
              "      <td>12798</td>\n",
              "      <td>NaN</td>\n",
              "      <td>1.0</td>\n",
              "      <td>NaN</td>\n",
              "      <td>127.245156</td>\n",
              "      <td>37.365586</td>\n",
              "    </tr>\n",
              "    <tr>\n",
              "      <th>325</th>\n",
              "      <td>21259813</td>\n",
              "      <td>성진공인중개사사무소</td>\n",
              "      <td>NaN</td>\n",
              "      <td>L</td>\n",
              "      <td>부동산</td>\n",
              "      <td>L01</td>\n",
              "      <td>부동산중개</td>\n",
              "      <td>L01A01</td>\n",
              "      <td>부동산중개</td>\n",
              "      <td>L68221</td>\n",
              "      <td>부동산 자문 및 중개업</td>\n",
              "      <td>41</td>\n",
              "      <td>경기도</td>\n",
              "      <td>41480</td>\n",
              "      <td>파주시</td>\n",
              "      <td>4148054000</td>\n",
              "      <td>교하동</td>\n",
              "      <td>4148012100</td>\n",
              "      <td>연다산동</td>\n",
              "      <td>4.148010e+18</td>\n",
              "      <td>1</td>\n",
              "      <td>대지</td>\n",
              "      <td>45</td>\n",
              "      <td>7.0</td>\n",
              "      <td>경기도 파주시 연다산동 45-7</td>\n",
              "      <td>4.148030e+11</td>\n",
              "      <td>경기도 파주시 교하로</td>\n",
              "      <td>1015</td>\n",
              "      <td>NaN</td>\n",
              "      <td>4.148010e+24</td>\n",
              "      <td>NaN</td>\n",
              "      <td>경기도 파주시 교하로 1015</td>\n",
              "      <td>413831</td>\n",
              "      <td>10863</td>\n",
              "      <td>NaN</td>\n",
              "      <td>1.0</td>\n",
              "      <td>NaN</td>\n",
              "      <td>126.712746</td>\n",
              "      <td>37.735067</td>\n",
              "    </tr>\n",
              "    <tr>\n",
              "      <th>326</th>\n",
              "      <td>21259831</td>\n",
              "      <td>조은기업사</td>\n",
              "      <td>NaN</td>\n",
              "      <td>D</td>\n",
              "      <td>소매</td>\n",
              "      <td>D08</td>\n",
              "      <td>사무/문구/컴퓨터</td>\n",
              "      <td>D08A01</td>\n",
              "      <td>사무/문구용품</td>\n",
              "      <td>G47612</td>\n",
              "      <td>문구용품 소매업</td>\n",
              "      <td>41</td>\n",
              "      <td>경기도</td>\n",
              "      <td>41480</td>\n",
              "      <td>파주시</td>\n",
              "      <td>4148054000</td>\n",
              "      <td>교하동</td>\n",
              "      <td>4148012100</td>\n",
              "      <td>연다산동</td>\n",
              "      <td>4.148050e+18</td>\n",
              "      <td>1</td>\n",
              "      <td>대지</td>\n",
              "      <td>436</td>\n",
              "      <td>2.0</td>\n",
              "      <td>경기도 파주시 연다산동 436-2</td>\n",
              "      <td>4.148040e+11</td>\n",
              "      <td>경기도 파주시 방화리길</td>\n",
              "      <td>55</td>\n",
              "      <td>26.0</td>\n",
              "      <td>4.148030e+24</td>\n",
              "      <td>NaN</td>\n",
              "      <td>경기도 파주시 방화리길 55-26</td>\n",
              "      <td>413832</td>\n",
              "      <td>10863</td>\n",
              "      <td>NaN</td>\n",
              "      <td>1.0</td>\n",
              "      <td>NaN</td>\n",
              "      <td>126.701703</td>\n",
              "      <td>37.741127</td>\n",
              "    </tr>\n",
              "    <tr>\n",
              "      <th>327</th>\n",
              "      <td>21260284</td>\n",
              "      <td>쌍용자동차전곡영업소</td>\n",
              "      <td>전곡영업소</td>\n",
              "      <td>D</td>\n",
              "      <td>소매</td>\n",
              "      <td>D23</td>\n",
              "      <td>자동차/자동차용품</td>\n",
              "      <td>D23A01</td>\n",
              "      <td>자동차판매</td>\n",
              "      <td>G45110</td>\n",
              "      <td>자동차 신품 판매업</td>\n",
              "      <td>41</td>\n",
              "      <td>경기도</td>\n",
              "      <td>41800</td>\n",
              "      <td>연천군</td>\n",
              "      <td>4180025300</td>\n",
              "      <td>전곡읍</td>\n",
              "      <td>4180025321</td>\n",
              "      <td>전곡읍</td>\n",
              "      <td>4.180030e+18</td>\n",
              "      <td>1</td>\n",
              "      <td>대지</td>\n",
              "      <td>231</td>\n",
              "      <td>12.0</td>\n",
              "      <td>경기도 연천군 전곡읍 전곡리 231-12</td>\n",
              "      <td>4.180030e+11</td>\n",
              "      <td>경기도 연천군 전곡읍 전곡로</td>\n",
              "      <td>13</td>\n",
              "      <td>NaN</td>\n",
              "      <td>4.180030e+24</td>\n",
              "      <td>NaN</td>\n",
              "      <td>경기도 연천군 전곡읍 전곡로 13</td>\n",
              "      <td>486903</td>\n",
              "      <td>11031</td>\n",
              "      <td>NaN</td>\n",
              "      <td>1.0</td>\n",
              "      <td>NaN</td>\n",
              "      <td>127.071088</td>\n",
              "      <td>38.015134</td>\n",
              "    </tr>\n",
              "  </tbody>\n",
              "</table>\n",
              "</div>"
            ],
            "text/plain": [
              "       상가업소번호         상호명    지점명 상권업종대분류코드 상권업종대분류명 상권업종중분류코드   상권업종중분류명  \\\n",
              "323  21231706  알루미늄피브이씨창호    NaN         F    생활서비스       F15       주택수리   \n",
              "324  21259403  한도공인중개사사무소    NaN         L      부동산       L01      부동산중개   \n",
              "325  21259813  성진공인중개사사무소    NaN         L      부동산       L01      부동산중개   \n",
              "326  21259831       조은기업사    NaN         D       소매       D08  사무/문구/컴퓨터   \n",
              "327  21260284  쌍용자동차전곡영업소  전곡영업소         D       소매       D23  자동차/자동차용품   \n",
              "\n",
              "    상권업종소분류코드 상권업종소분류명 표준산업분류코드       표준산업분류명  시도코드  시도명  시군구코드 시군구명  \\\n",
              "323    F15A04     유리창호   F42420   유리 및 창호 공사업    41  경기도  41590  화성시   \n",
              "324    L01A01    부동산중개   L68221  부동산 자문 및 중개업    41  경기도  41610  광주시   \n",
              "325    L01A01    부동산중개   L68221  부동산 자문 및 중개업    41  경기도  41480  파주시   \n",
              "326    D08A01  사무/문구용품   G47612      문구용품 소매업    41  경기도  41480  파주시   \n",
              "327    D23A01    자동차판매   G45110    자동차 신품 판매업    41  경기도  41800  연천군   \n",
              "\n",
              "          행정동코드 행정동명       법정동코드  법정동명          지번코드  대지구분코드 대지구분명  지번본번지  \\\n",
              "323  4159026200  남양읍  4159026221   남양읍  4.159030e+18       1    대지    209   \n",
              "324  4161025000  오포읍  4161025026   오포읍  4.161030e+18       1    대지    614   \n",
              "325  4148054000  교하동  4148012100  연다산동  4.148010e+18       1    대지     45   \n",
              "326  4148054000  교하동  4148012100  연다산동  4.148050e+18       1    대지    436   \n",
              "327  4180025300  전곡읍  4180025321   전곡읍  4.180030e+18       1    대지    231   \n",
              "\n",
              "     지번부번지                    지번주소         도로명코드               도로명  건물본번지  \\\n",
              "323    NaN     경기도 화성시 남양읍 남양리 209  4.159040e+11  경기도 화성시 남양읍 수작이길     11   \n",
              "324   26.0  경기도 광주시 오포읍 매산리 614-26  4.161030e+11   경기도 광주시 오포읍 양벌로    379   \n",
              "325    7.0       경기도 파주시 연다산동 45-7  4.148030e+11       경기도 파주시 교하로   1015   \n",
              "326    2.0      경기도 파주시 연다산동 436-2  4.148040e+11      경기도 파주시 방화리길     55   \n",
              "327   12.0  경기도 연천군 전곡읍 전곡리 231-12  4.180030e+11   경기도 연천군 전곡읍 전곡로     13   \n",
              "\n",
              "     건물부번지        건물관리번호  건물명                  도로명주소   구우편번호  신우편번호  동정보  층정보  \\\n",
              "323    NaN  4.159010e+24  NaN    경기도 화성시 남양읍 수작이길 11  445851  18254  NaN  1.0   \n",
              "324    5.0  4.161030e+24  NaN  경기도 광주시 오포읍 양벌로 379-5  464893  12798  NaN  1.0   \n",
              "325    NaN  4.148010e+24  NaN       경기도 파주시 교하로 1015  413831  10863  NaN  1.0   \n",
              "326   26.0  4.148030e+24  NaN     경기도 파주시 방화리길 55-26  413832  10863  NaN  1.0   \n",
              "327    NaN  4.180030e+24  NaN     경기도 연천군 전곡읍 전곡로 13  486903  11031  NaN  1.0   \n",
              "\n",
              "     호정보          경도         위도  \n",
              "323  NaN  126.805454  37.208159  \n",
              "324  NaN  127.245156  37.365586  \n",
              "325  NaN  126.712746  37.735067  \n",
              "326  NaN  126.701703  37.741127  \n",
              "327  NaN  127.071088  38.015134  "
            ]
          },
          "metadata": {
            "tags": []
          },
          "execution_count": 13
        }
      ]
    },
    {
      "cell_type": "code",
      "metadata": {
        "id": "nejEQk-DqFHO",
        "outputId": "edef99ee-31bc-4f31-97d1-cda6e4293de9",
        "colab": {
          "base_uri": "https://localhost:8080/"
        }
      },
      "source": [
        "df.index"
      ],
      "execution_count": 14,
      "outputs": [
        {
          "output_type": "execute_result",
          "data": {
            "text/plain": [
              "RangeIndex(start=0, stop=328, step=1)"
            ]
          },
          "metadata": {
            "tags": []
          },
          "execution_count": 14
        }
      ]
    },
    {
      "cell_type": "code",
      "metadata": {
        "id": "dzdwOCEDqInF",
        "outputId": "5d48568d-8173-425a-9364-a6515599d802",
        "colab": {
          "base_uri": "https://localhost:8080/"
        }
      },
      "source": [
        "df.columns"
      ],
      "execution_count": 15,
      "outputs": [
        {
          "output_type": "execute_result",
          "data": {
            "text/plain": [
              "Index(['상가업소번호', '상호명', '지점명', '상권업종대분류코드', '상권업종대분류명', '상권업종중분류코드',\n",
              "       '상권업종중분류명', '상권업종소분류코드', '상권업종소분류명', '표준산업분류코드', '표준산업분류명', '시도코드',\n",
              "       '시도명', '시군구코드', '시군구명', '행정동코드', '행정동명', '법정동코드', '법정동명', '지번코드',\n",
              "       '대지구분코드', '대지구분명', '지번본번지', '지번부번지', '지번주소', '도로명코드', '도로명', '건물본번지',\n",
              "       '건물부번지', '건물관리번호', '건물명', '도로명주소', '구우편번호', '신우편번호', '동정보', '층정보',\n",
              "       '호정보', '경도', '위도'],\n",
              "      dtype='object')"
            ]
          },
          "metadata": {
            "tags": []
          },
          "execution_count": 15
        }
      ]
    },
    {
      "cell_type": "code",
      "metadata": {
        "id": "s52Q_oPiqLDq",
        "outputId": "3e4fd9eb-2b82-48b9-dd10-21e6e55fb033",
        "colab": {
          "base_uri": "https://localhost:8080/"
        }
      },
      "source": [
        "df.info()"
      ],
      "execution_count": 16,
      "outputs": [
        {
          "output_type": "stream",
          "text": [
            "<class 'pandas.core.frame.DataFrame'>\n",
            "RangeIndex: 328 entries, 0 to 327\n",
            "Data columns (total 39 columns):\n",
            " #   Column     Non-Null Count  Dtype  \n",
            "---  ------     --------------  -----  \n",
            " 0   상가업소번호     328 non-null    int64  \n",
            " 1   상호명        328 non-null    object \n",
            " 2   지점명        29 non-null     object \n",
            " 3   상권업종대분류코드  328 non-null    object \n",
            " 4   상권업종대분류명   328 non-null    object \n",
            " 5   상권업종중분류코드  328 non-null    object \n",
            " 6   상권업종중분류명   328 non-null    object \n",
            " 7   상권업종소분류코드  328 non-null    object \n",
            " 8   상권업종소분류명   328 non-null    object \n",
            " 9   표준산업분류코드   303 non-null    object \n",
            " 10  표준산업분류명    303 non-null    object \n",
            " 11  시도코드       328 non-null    int64  \n",
            " 12  시도명        328 non-null    object \n",
            " 13  시군구코드      328 non-null    int64  \n",
            " 14  시군구명       328 non-null    object \n",
            " 15  행정동코드      328 non-null    int64  \n",
            " 16  행정동명       322 non-null    object \n",
            " 17  법정동코드      328 non-null    int64  \n",
            " 18  법정동명       328 non-null    object \n",
            " 19  지번코드       328 non-null    float64\n",
            " 20  대지구분코드     328 non-null    int64  \n",
            " 21  대지구분명      328 non-null    object \n",
            " 22  지번본번지      328 non-null    int64  \n",
            " 23  지번부번지      234 non-null    float64\n",
            " 24  지번주소       328 non-null    object \n",
            " 25  도로명코드      328 non-null    float64\n",
            " 26  도로명        328 non-null    object \n",
            " 27  건물본번지      328 non-null    int64  \n",
            " 28  건물부번지      55 non-null     float64\n",
            " 29  건물관리번호     328 non-null    float64\n",
            " 30  건물명        160 non-null    object \n",
            " 31  도로명주소      328 non-null    object \n",
            " 32  구우편번호      328 non-null    int64  \n",
            " 33  신우편번호      328 non-null    int64  \n",
            " 34  동정보        2 non-null      object \n",
            " 35  층정보        267 non-null    float64\n",
            " 36  호정보        24 non-null     object \n",
            " 37  경도         328 non-null    float64\n",
            " 38  위도         328 non-null    float64\n",
            "dtypes: float64(8), int64(10), object(21)\n",
            "memory usage: 100.1+ KB\n"
          ],
          "name": "stdout"
        }
      ]
    },
    {
      "cell_type": "code",
      "metadata": {
        "id": "MpH-F0C_qM8a",
        "outputId": "495729e1-95a7-4020-85e3-a8226f5864ff",
        "colab": {
          "base_uri": "https://localhost:8080/"
        }
      },
      "source": [
        "df.dtypes"
      ],
      "execution_count": 17,
      "outputs": [
        {
          "output_type": "execute_result",
          "data": {
            "text/plain": [
              "상가업소번호         int64\n",
              "상호명           object\n",
              "지점명           object\n",
              "상권업종대분류코드     object\n",
              "상권업종대분류명      object\n",
              "상권업종중분류코드     object\n",
              "상권업종중분류명      object\n",
              "상권업종소분류코드     object\n",
              "상권업종소분류명      object\n",
              "표준산업분류코드      object\n",
              "표준산업분류명       object\n",
              "시도코드           int64\n",
              "시도명           object\n",
              "시군구코드          int64\n",
              "시군구명          object\n",
              "행정동코드          int64\n",
              "행정동명          object\n",
              "법정동코드          int64\n",
              "법정동명          object\n",
              "지번코드         float64\n",
              "대지구분코드         int64\n",
              "대지구분명         object\n",
              "지번본번지          int64\n",
              "지번부번지        float64\n",
              "지번주소          object\n",
              "도로명코드        float64\n",
              "도로명           object\n",
              "건물본번지          int64\n",
              "건물부번지        float64\n",
              "건물관리번호       float64\n",
              "건물명           object\n",
              "도로명주소         object\n",
              "구우편번호          int64\n",
              "신우편번호          int64\n",
              "동정보           object\n",
              "층정보          float64\n",
              "호정보           object\n",
              "경도           float64\n",
              "위도           float64\n",
              "dtype: object"
            ]
          },
          "metadata": {
            "tags": []
          },
          "execution_count": 17
        }
      ]
    },
    {
      "cell_type": "code",
      "metadata": {
        "id": "0wflwsZcqRfm",
        "outputId": "1f946c81-cc8c-452a-8b7b-34b37cf42799",
        "colab": {
          "base_uri": "https://localhost:8080/"
        }
      },
      "source": [
        "True == 1"
      ],
      "execution_count": 18,
      "outputs": [
        {
          "output_type": "execute_result",
          "data": {
            "text/plain": [
              "True"
            ]
          },
          "metadata": {
            "tags": []
          },
          "execution_count": 18
        }
      ]
    },
    {
      "cell_type": "code",
      "metadata": {
        "id": "j8PT6o-fqUT6",
        "outputId": "30d455bf-e2bc-4704-d794-91d00f6ddb5d",
        "colab": {
          "base_uri": "https://localhost:8080/"
        }
      },
      "source": [
        "n = df.isnull().sum()\n",
        "n"
      ],
      "execution_count": 19,
      "outputs": [
        {
          "output_type": "execute_result",
          "data": {
            "text/plain": [
              "상가업소번호         0\n",
              "상호명            0\n",
              "지점명          299\n",
              "상권업종대분류코드      0\n",
              "상권업종대분류명       0\n",
              "상권업종중분류코드      0\n",
              "상권업종중분류명       0\n",
              "상권업종소분류코드      0\n",
              "상권업종소분류명       0\n",
              "표준산업분류코드      25\n",
              "표준산업분류명       25\n",
              "시도코드           0\n",
              "시도명            0\n",
              "시군구코드          0\n",
              "시군구명           0\n",
              "행정동코드          0\n",
              "행정동명           6\n",
              "법정동코드          0\n",
              "법정동명           0\n",
              "지번코드           0\n",
              "대지구분코드         0\n",
              "대지구분명          0\n",
              "지번본번지          0\n",
              "지번부번지         94\n",
              "지번주소           0\n",
              "도로명코드          0\n",
              "도로명            0\n",
              "건물본번지          0\n",
              "건물부번지        273\n",
              "건물관리번호         0\n",
              "건물명          168\n",
              "도로명주소          0\n",
              "구우편번호          0\n",
              "신우편번호          0\n",
              "동정보          326\n",
              "층정보           61\n",
              "호정보          304\n",
              "경도             0\n",
              "위도             0\n",
              "dtype: int64"
            ]
          },
          "metadata": {
            "tags": []
          },
          "execution_count": 19
        }
      ]
    },
    {
      "cell_type": "code",
      "metadata": {
        "id": "gfb-8Rz9qXWd",
        "outputId": "e0922fa7-829b-49c4-a9fb-f8a90fd1e75c",
        "colab": {
          "base_uri": "https://localhost:8080/",
          "height": 353
        }
      },
      "source": [
        "n.plot.bar()"
      ],
      "execution_count": 20,
      "outputs": [
        {
          "output_type": "execute_result",
          "data": {
            "text/plain": [
              "<matplotlib.axes._subplots.AxesSubplot at 0x7fea32c39e80>"
            ]
          },
          "metadata": {
            "tags": []
          },
          "execution_count": 20
        },
        {
          "output_type": "display_data",
          "data": {
            "image/png": "[encoded data removed]",
            "text/plain": [
              "<Figure size 432x288 with 1 Axes>"
            ]
          },
          "metadata": {
            "tags": [],
            "needs_background": "light"
          }
        }
      ]
    },
    {
      "cell_type": "code",
      "metadata": {
        "id": "6UY0ra1_qaPi",
        "outputId": "50d4db28-2e57-413f-96a0-78b097f753f0",
        "colab": {
          "base_uri": "https://localhost:8080/",
          "height": 501
        }
      },
      "source": [
        "n.sort_values().plot.barh(figsize=(7, 8))"
      ],
      "execution_count": 22,
      "outputs": [
        {
          "output_type": "execute_result",
          "data": {
            "text/plain": [
              "<matplotlib.axes._subplots.AxesSubplot at 0x7fea329b14a8>"
            ]
          },
          "metadata": {
            "tags": []
          },
          "execution_count": 22
        },
        {
          "output_type": "display_data",
          "data": {
            "image/png": "[encoded data removed]",
            "text/plain": [
              "<Figure size 504x576 with 1 Axes>"
            ]
          },
          "metadata": {
            "tags": [],
            "needs_background": "light"
          }
        }
      ]
    },
    {
      "cell_type": "code",
      "metadata": {
        "id": "w7N85hu1qgOJ",
        "outputId": "00006421-40a9-471a-ca8e-ba2b34c8aa11",
        "colab": {
          "base_uri": "https://localhost:8080/"
        }
      },
      "source": [
        "not_use = n.sort_values(ascending=False).head(9)\n",
        "not_use_col = not_use.index\n",
        "not_use_col"
      ],
      "execution_count": 24,
      "outputs": [
        {
          "output_type": "execute_result",
          "data": {
            "text/plain": [
              "Index(['동정보', '호정보', '지점명', '건물부번지', '건물명', '지번부번지', '층정보', '표준산업분류명',\n",
              "       '표준산업분류코드', '행정동명'],\n",
              "      dtype='object')"
            ]
          },
          "metadata": {
            "tags": []
          },
          "execution_count": 24
        }
      ]
    },
    {
      "cell_type": "code",
      "metadata": {
        "id": "BSmr8YD9q15d",
        "outputId": "58d9ff13-61c7-45e3-8896-be4b68c3850a",
        "colab": {
          "base_uri": "https://localhost:8080/"
        }
      },
      "source": [
        "print(df.shape)\n",
        "df = df.drop(not_use_col, axis=1)\n",
        "print(df.shape)"
      ],
      "execution_count": 25,
      "outputs": [
        {
          "output_type": "stream",
          "text": [
            "(328, 39)\n",
            "(328, 29)\n"
          ],
          "name": "stdout"
        }
      ]
    },
    {
      "cell_type": "code",
      "metadata": {
        "id": "RLvMHk5brEWs",
        "outputId": "73bdcfd1-36c3-4496-ddee-37817c959a60",
        "colab": {
          "base_uri": "https://localhost:8080/"
        }
      },
      "source": [
        "df.info()"
      ],
      "execution_count": 27,
      "outputs": [
        {
          "output_type": "stream",
          "text": [
            "<class 'pandas.core.frame.DataFrame'>\n",
            "RangeIndex: 328 entries, 0 to 327\n",
            "Data columns (total 29 columns):\n",
            " #   Column     Non-Null Count  Dtype  \n",
            "---  ------     --------------  -----  \n",
            " 0   상가업소번호     328 non-null    int64  \n",
            " 1   상호명        328 non-null    object \n",
            " 2   상권업종대분류코드  328 non-null    object \n",
            " 3   상권업종대분류명   328 non-null    object \n",
            " 4   상권업종중분류코드  328 non-null    object \n",
            " 5   상권업종중분류명   328 non-null    object \n",
            " 6   상권업종소분류코드  328 non-null    object \n",
            " 7   상권업종소분류명   328 non-null    object \n",
            " 8   시도코드       328 non-null    int64  \n",
            " 9   시도명        328 non-null    object \n",
            " 10  시군구코드      328 non-null    int64  \n",
            " 11  시군구명       328 non-null    object \n",
            " 12  행정동코드      328 non-null    int64  \n",
            " 13  법정동코드      328 non-null    int64  \n",
            " 14  법정동명       328 non-null    object \n",
            " 15  지번코드       328 non-null    float64\n",
            " 16  대지구분코드     328 non-null    int64  \n",
            " 17  대지구분명      328 non-null    object \n",
            " 18  지번본번지      328 non-null    int64  \n",
            " 19  지번주소       328 non-null    object \n",
            " 20  도로명코드      328 non-null    float64\n",
            " 21  도로명        328 non-null    object \n",
            " 22  건물본번지      328 non-null    int64  \n",
            " 23  건물관리번호     328 non-null    float64\n",
            " 24  도로명주소      328 non-null    object \n",
            " 25  구우편번호      328 non-null    int64  \n",
            " 26  신우편번호      328 non-null    int64  \n",
            " 27  경도         328 non-null    float64\n",
            " 28  위도         328 non-null    float64\n",
            "dtypes: float64(5), int64(10), object(14)\n",
            "memory usage: 74.4+ KB\n"
          ],
          "name": "stdout"
        }
      ]
    },
    {
      "cell_type": "code",
      "metadata": {
        "id": "rjzG6pBTrHnH",
        "outputId": "378f373e-f9a8-4e66-a310-304e0ba9576a",
        "colab": {
          "base_uri": "https://localhost:8080/"
        }
      },
      "source": [
        "cols = df.columns\n",
        "cols"
      ],
      "execution_count": 28,
      "outputs": [
        {
          "output_type": "execute_result",
          "data": {
            "text/plain": [
              "Index(['상가업소번호', '상호명', '상권업종대분류코드', '상권업종대분류명', '상권업종중분류코드', '상권업종중분류명',\n",
              "       '상권업종소분류코드', '상권업종소분류명', '시도코드', '시도명', '시군구코드', '시군구명', '행정동코드',\n",
              "       '법정동코드', '법정동명', '지번코드', '대지구분코드', '대지구분명', '지번본번지', '지번주소', '도로명코드',\n",
              "       '도로명', '건물본번지', '건물관리번호', '도로명주소', '구우편번호', '신우편번호', '경도', '위도'],\n",
              "      dtype='object')"
            ]
          },
          "metadata": {
            "tags": []
          },
          "execution_count": 28
        }
      ]
    },
    {
      "cell_type": "code",
      "metadata": {
        "id": "vJA0rM_3rPKs",
        "outputId": "d91ea91b-6b99-449c-9f40-0c4a6735e6d0",
        "colab": {
          "base_uri": "https://localhost:8080/"
        }
      },
      "source": [
        "cols_code = cols[cols.str.contains(\"코드|번호\")]\n",
        "cols_code"
      ],
      "execution_count": 29,
      "outputs": [
        {
          "output_type": "execute_result",
          "data": {
            "text/plain": [
              "Index(['상가업소번호', '상권업종대분류코드', '상권업종중분류코드', '상권업종소분류코드', '시도코드', '시군구코드',\n",
              "       '행정동코드', '법정동코드', '지번코드', '대지구분코드', '도로명코드', '건물관리번호', '구우편번호',\n",
              "       '신우편번호'],\n",
              "      dtype='object')"
            ]
          },
          "metadata": {
            "tags": []
          },
          "execution_count": 29
        }
      ]
    },
    {
      "cell_type": "code",
      "metadata": {
        "id": "8xYYcMPJrW8t",
        "outputId": "9a8dc39a-20f3-497e-cf33-e78415b12b5c",
        "colab": {
          "base_uri": "https://localhost:8080/"
        }
      },
      "source": [
        "print(df.shape)\n",
        "df = df.drop(cols_code, axis=1)\n",
        "print(df.shape)"
      ],
      "execution_count": 30,
      "outputs": [
        {
          "output_type": "stream",
          "text": [
            "(328, 29)\n",
            "(328, 15)\n"
          ],
          "name": "stdout"
        }
      ]
    },
    {
      "cell_type": "code",
      "metadata": {
        "id": "iB_oX4fQrfaf",
        "outputId": "0da180f2-7e40-4427-dc0e-56880e59a512",
        "colab": {
          "base_uri": "https://localhost:8080/"
        }
      },
      "source": [
        "df.info()"
      ],
      "execution_count": 31,
      "outputs": [
        {
          "output_type": "stream",
          "text": [
            "<class 'pandas.core.frame.DataFrame'>\n",
            "RangeIndex: 328 entries, 0 to 327\n",
            "Data columns (total 15 columns):\n",
            " #   Column    Non-Null Count  Dtype  \n",
            "---  ------    --------------  -----  \n",
            " 0   상호명       328 non-null    object \n",
            " 1   상권업종대분류명  328 non-null    object \n",
            " 2   상권업종중분류명  328 non-null    object \n",
            " 3   상권업종소분류명  328 non-null    object \n",
            " 4   시도명       328 non-null    object \n",
            " 5   시군구명      328 non-null    object \n",
            " 6   법정동명      328 non-null    object \n",
            " 7   대지구분명     328 non-null    object \n",
            " 8   지번본번지     328 non-null    int64  \n",
            " 9   지번주소      328 non-null    object \n",
            " 10  도로명       328 non-null    object \n",
            " 11  건물본번지     328 non-null    int64  \n",
            " 12  도로명주소     328 non-null    object \n",
            " 13  경도        328 non-null    float64\n",
            " 14  위도        328 non-null    float64\n",
            "dtypes: float64(2), int64(2), object(11)\n",
            "memory usage: 38.6+ KB\n"
          ],
          "name": "stdout"
        }
      ]
    },
    {
      "cell_type": "code",
      "metadata": {
        "id": "uy-Cp-_irjbo",
        "outputId": "9def980e-7303-42cd-f01e-aaf253888cef",
        "colab": {
          "base_uri": "https://localhost:8080/"
        }
      },
      "source": [
        "df[\"상호명\"].head()"
      ],
      "execution_count": 32,
      "outputs": [
        {
          "output_type": "execute_result",
          "data": {
            "text/plain": [
              "0           프리즐\n",
              "1       최씨네별난맛집\n",
              "2          페리카나\n",
              "3       한우장다리식당\n",
              "4    우체국커피자동판매기\n",
              "Name: 상호명, dtype: object"
            ]
          },
          "metadata": {
            "tags": []
          },
          "execution_count": 32
        }
      ]
    },
    {
      "cell_type": "code",
      "metadata": {
        "id": "jde-OClAroFx",
        "outputId": "4cb6dce1-b14f-4e41-ad35-bd6d3dbae3b6",
        "colab": {
          "base_uri": "https://localhost:8080/",
          "height": 201
        }
      },
      "source": [
        "df[[\"상호명\", \"도로명주소\"]].head()"
      ],
      "execution_count": 33,
      "outputs": [
        {
          "output_type": "execute_result",
          "data": {
            "text/html": [
              "<div>\n",
              "<style scoped>\n",
              "    .dataframe tbody tr th:only-of-type {\n",
              "        vertical-align: middle;\n",
              "    }\n",
              "\n",
              "    .dataframe tbody tr th {\n",
              "        vertical-align: top;\n",
              "    }\n",
              "\n",
              "    .dataframe thead th {\n",
              "        text-align: right;\n",
              "    }\n",
              "</style>\n",
              "<table border=\"1\" class=\"dataframe\">\n",
              "  <thead>\n",
              "    <tr style=\"text-align: right;\">\n",
              "      <th></th>\n",
              "      <th>상호명</th>\n",
              "      <th>도로명주소</th>\n",
              "    </tr>\n",
              "  </thead>\n",
              "  <tbody>\n",
              "    <tr>\n",
              "      <th>0</th>\n",
              "      <td>프리즐</td>\n",
              "      <td>경기도 남양주시 진접읍 봉현로 14</td>\n",
              "    </tr>\n",
              "    <tr>\n",
              "      <th>1</th>\n",
              "      <td>최씨네별난맛집</td>\n",
              "      <td>경기도 동두천시 광암로33번길 15</td>\n",
              "    </tr>\n",
              "    <tr>\n",
              "      <th>2</th>\n",
              "      <td>페리카나</td>\n",
              "      <td>경기도 성남시 중원구 마지로155번길 25-7</td>\n",
              "    </tr>\n",
              "    <tr>\n",
              "      <th>3</th>\n",
              "      <td>한우장다리식당</td>\n",
              "      <td>경기도 성남시 분당구 내정로119번길 20</td>\n",
              "    </tr>\n",
              "    <tr>\n",
              "      <th>4</th>\n",
              "      <td>우체국커피자동판매기</td>\n",
              "      <td>경기도 성남시 수정구 산성대로 297</td>\n",
              "    </tr>\n",
              "  </tbody>\n",
              "</table>\n",
              "</div>"
            ],
            "text/plain": [
              "          상호명                      도로명주소\n",
              "0         프리즐        경기도 남양주시 진접읍 봉현로 14\n",
              "1     최씨네별난맛집        경기도 동두천시 광암로33번길 15\n",
              "2        페리카나  경기도 성남시 중원구 마지로155번길 25-7\n",
              "3     한우장다리식당    경기도 성남시 분당구 내정로119번길 20\n",
              "4  우체국커피자동판매기       경기도 성남시 수정구 산성대로 297"
            ]
          },
          "metadata": {
            "tags": []
          },
          "execution_count": 33
        }
      ]
    },
    {
      "cell_type": "code",
      "metadata": {
        "id": "PrmhTuj8ruV-",
        "outputId": "9f66fe5f-c0d5-44b6-8ee6-c7d74546d448",
        "colab": {
          "base_uri": "https://localhost:8080/"
        }
      },
      "source": [
        "df.loc[0]"
      ],
      "execution_count": 34,
      "outputs": [
        {
          "output_type": "execute_result",
          "data": {
            "text/plain": [
              "상호명                            프리즐\n",
              "상권업종대분류명                        음식\n",
              "상권업종중분류명                        분식\n",
              "상권업종소분류명                    라면김밥분식\n",
              "시도명                            경기도\n",
              "시군구명                          남양주시\n",
              "법정동명                           진접읍\n",
              "대지구분명                           대지\n",
              "지번본번지                          672\n",
              "지번주소        경기도 남양주시 진접읍 장현리 672-1\n",
              "도로명               경기도 남양주시 진접읍 봉현로\n",
              "건물본번지                           14\n",
              "도로명주소          경기도 남양주시 진접읍 봉현로 14\n",
              "경도                         127.181\n",
              "위도                         37.7154\n",
              "Name: 0, dtype: object"
            ]
          },
          "metadata": {
            "tags": []
          },
          "execution_count": 34
        }
      ]
    },
    {
      "cell_type": "code",
      "metadata": {
        "id": "3c165ejqryYi",
        "outputId": "10347a80-80b6-49e1-e492-dcd73b0417b4",
        "colab": {
          "base_uri": "https://localhost:8080/",
          "height": 980
        }
      },
      "source": [
        "df.loc[[0, 1, 2]]"
      ],
      "execution_count": 35,
      "outputs": [
        {
          "output_type": "execute_result",
          "data": {
            "text/html": [
              "<div>\n",
              "<style scoped>\n",
              "    .dataframe tbody tr th:only-of-type {\n",
              "        vertical-align: middle;\n",
              "    }\n",
              "\n",
              "    .dataframe tbody tr th {\n",
              "        vertical-align: top;\n",
              "    }\n",
              "\n",
              "    .dataframe thead th {\n",
              "        text-align: right;\n",
              "    }\n",
              "</style>\n",
              "<table border=\"1\" class=\"dataframe\">\n",
              "  <thead>\n",
              "    <tr style=\"text-align: right;\">\n",
              "      <th></th>\n",
              "      <th>상호명</th>\n",
              "      <th>상권업종대분류명</th>\n",
              "      <th>상권업종중분류명</th>\n",
              "      <th>상권업종소분류명</th>\n",
              "      <th>시도명</th>\n",
              "      <th>시군구명</th>\n",
              "      <th>법정동명</th>\n",
              "      <th>대지구분명</th>\n",
              "      <th>지번본번지</th>\n",
              "      <th>지번주소</th>\n",
              "      <th>도로명</th>\n",
              "      <th>건물본번지</th>\n",
              "      <th>도로명주소</th>\n",
              "      <th>경도</th>\n",
              "      <th>위도</th>\n",
              "    </tr>\n",
              "  </thead>\n",
              "  <tbody>\n",
              "    <tr>\n",
              "      <th>0</th>\n",
              "      <td>프리즐</td>\n",
              "      <td>음식</td>\n",
              "      <td>분식</td>\n",
              "      <td>라면김밥분식</td>\n",
              "      <td>경기도</td>\n",
              "      <td>남양주시</td>\n",
              "      <td>진접읍</td>\n",
              "      <td>대지</td>\n",
              "      <td>672</td>\n",
              "      <td>경기도 남양주시 진접읍 장현리 672-1</td>\n",
              "      <td>경기도 남양주시 진접읍 봉현로</td>\n",
              "      <td>14</td>\n",
              "      <td>경기도 남양주시 진접읍 봉현로 14</td>\n",
              "      <td>127.181143</td>\n",
              "      <td>37.715402</td>\n",
              "    </tr>\n",
              "    <tr>\n",
              "      <th>1</th>\n",
              "      <td>최씨네별난맛집</td>\n",
              "      <td>음식</td>\n",
              "      <td>한식</td>\n",
              "      <td>한식/백반/한정식</td>\n",
              "      <td>경기도</td>\n",
              "      <td>동두천시</td>\n",
              "      <td>광암동</td>\n",
              "      <td>대지</td>\n",
              "      <td>494</td>\n",
              "      <td>경기도 동두천시 광암동 494-34</td>\n",
              "      <td>경기도 동두천시 광암로33번길</td>\n",
              "      <td>15</td>\n",
              "      <td>경기도 동두천시 광암로33번길 15</td>\n",
              "      <td>127.085525</td>\n",
              "      <td>37.896127</td>\n",
              "    </tr>\n",
              "    <tr>\n",
              "      <th>2</th>\n",
              "      <td>페리카나</td>\n",
              "      <td>음식</td>\n",
              "      <td>닭/오리요리</td>\n",
              "      <td>후라이드/양념치킨</td>\n",
              "      <td>경기도</td>\n",
              "      <td>성남시 중원구</td>\n",
              "      <td>하대원동</td>\n",
              "      <td>대지</td>\n",
              "      <td>154</td>\n",
              "      <td>경기도 성남시 중원구 하대원동 154-44</td>\n",
              "      <td>경기도 성남시 중원구 마지로155번길</td>\n",
              "      <td>25</td>\n",
              "      <td>경기도 성남시 중원구 마지로155번길 25-7</td>\n",
              "      <td>127.149042</td>\n",
              "      <td>37.428063</td>\n",
              "    </tr>\n",
              "  </tbody>\n",
              "</table>\n",
              "</div>"
            ],
            "text/plain": [
              "       상호명 상권업종대분류명 상권업종중분류명   상권업종소분류명  시도명     시군구명  법정동명 대지구분명  지번본번지  \\\n",
              "0      프리즐       음식       분식     라면김밥분식  경기도     남양주시   진접읍    대지    672   \n",
              "1  최씨네별난맛집       음식       한식  한식/백반/한정식  경기도     동두천시   광암동    대지    494   \n",
              "2     페리카나       음식   닭/오리요리  후라이드/양념치킨  경기도  성남시 중원구  하대원동    대지    154   \n",
              "\n",
              "                      지번주소                   도로명  건물본번지  \\\n",
              "0   경기도 남양주시 진접읍 장현리 672-1      경기도 남양주시 진접읍 봉현로     14   \n",
              "1      경기도 동두천시 광암동 494-34      경기도 동두천시 광암로33번길     15   \n",
              "2  경기도 성남시 중원구 하대원동 154-44  경기도 성남시 중원구 마지로155번길     25   \n",
              "\n",
              "                       도로명주소          경도         위도  \n",
              "0        경기도 남양주시 진접읍 봉현로 14  127.181143  37.715402  \n",
              "1        경기도 동두천시 광암로33번길 15  127.085525  37.896127  \n",
              "2  경기도 성남시 중원구 마지로155번길 25-7  127.149042  37.428063  "
            ]
          },
          "metadata": {
            "tags": []
          },
          "execution_count": 35
        }
      ]
    },
    {
      "cell_type": "code",
      "metadata": {
        "id": "Aj0_6hmgr17r",
        "outputId": "50d41648-3724-461b-e672-980b094968fb",
        "colab": {
          "base_uri": "https://localhost:8080/",
          "height": 35
        }
      },
      "source": [
        "df.loc[0, \"상호명\"]"
      ],
      "execution_count": 36,
      "outputs": [
        {
          "output_type": "execute_result",
          "data": {
            "application/vnd.google.colaboratory.intrinsic+json": {
              "type": "string"
            },
            "text/plain": [
              "'프리즐'"
            ]
          },
          "metadata": {
            "tags": []
          },
          "execution_count": 36
        }
      ]
    },
    {
      "cell_type": "code",
      "metadata": {
        "id": "Nf-tZevTr58f",
        "outputId": "70c24de6-c644-4b2c-c5db-53cf10957b5e",
        "colab": {
          "base_uri": "https://localhost:8080/"
        }
      },
      "source": [
        "df.loc[[0, 1, 2], \"상호명\"]"
      ],
      "execution_count": 37,
      "outputs": [
        {
          "output_type": "execute_result",
          "data": {
            "text/plain": [
              "0        프리즐\n",
              "1    최씨네별난맛집\n",
              "2       페리카나\n",
              "Name: 상호명, dtype: object"
            ]
          },
          "metadata": {
            "tags": []
          },
          "execution_count": 37
        }
      ]
    },
    {
      "cell_type": "code",
      "metadata": {
        "id": "kXhwrwPwr9ul",
        "outputId": "44ff9255-8654-474b-aea0-fcafff09c683",
        "colab": {
          "base_uri": "https://localhost:8080/",
          "height": 140
        }
      },
      "source": [
        "df.loc[[0, 1, 2], [\"상호명\", \"도로명주소\"]]"
      ],
      "execution_count": 39,
      "outputs": [
        {
          "output_type": "execute_result",
          "data": {
            "text/html": [
              "<div>\n",
              "<style scoped>\n",
              "    .dataframe tbody tr th:only-of-type {\n",
              "        vertical-align: middle;\n",
              "    }\n",
              "\n",
              "    .dataframe tbody tr th {\n",
              "        vertical-align: top;\n",
              "    }\n",
              "\n",
              "    .dataframe thead th {\n",
              "        text-align: right;\n",
              "    }\n",
              "</style>\n",
              "<table border=\"1\" class=\"dataframe\">\n",
              "  <thead>\n",
              "    <tr style=\"text-align: right;\">\n",
              "      <th></th>\n",
              "      <th>상호명</th>\n",
              "      <th>도로명주소</th>\n",
              "    </tr>\n",
              "  </thead>\n",
              "  <tbody>\n",
              "    <tr>\n",
              "      <th>0</th>\n",
              "      <td>프리즐</td>\n",
              "      <td>경기도 남양주시 진접읍 봉현로 14</td>\n",
              "    </tr>\n",
              "    <tr>\n",
              "      <th>1</th>\n",
              "      <td>최씨네별난맛집</td>\n",
              "      <td>경기도 동두천시 광암로33번길 15</td>\n",
              "    </tr>\n",
              "    <tr>\n",
              "      <th>2</th>\n",
              "      <td>페리카나</td>\n",
              "      <td>경기도 성남시 중원구 마지로155번길 25-7</td>\n",
              "    </tr>\n",
              "  </tbody>\n",
              "</table>\n",
              "</div>"
            ],
            "text/plain": [
              "       상호명                      도로명주소\n",
              "0      프리즐        경기도 남양주시 진접읍 봉현로 14\n",
              "1  최씨네별난맛집        경기도 동두천시 광암로33번길 15\n",
              "2     페리카나  경기도 성남시 중원구 마지로155번길 25-7"
            ]
          },
          "metadata": {
            "tags": []
          },
          "execution_count": 39
        }
      ]
    },
    {
      "cell_type": "code",
      "metadata": {
        "id": "wP7l4DVxsBi_",
        "outputId": "985295e8-5691-4a57-f894-9261eaf1362a",
        "colab": {
          "base_uri": "https://localhost:8080/",
          "height": 235
        }
      },
      "source": [
        "df.iloc[:5, :5]"
      ],
      "execution_count": 40,
      "outputs": [
        {
          "output_type": "execute_result",
          "data": {
            "text/html": [
              "<div>\n",
              "<style scoped>\n",
              "    .dataframe tbody tr th:only-of-type {\n",
              "        vertical-align: middle;\n",
              "    }\n",
              "\n",
              "    .dataframe tbody tr th {\n",
              "        vertical-align: top;\n",
              "    }\n",
              "\n",
              "    .dataframe thead th {\n",
              "        text-align: right;\n",
              "    }\n",
              "</style>\n",
              "<table border=\"1\" class=\"dataframe\">\n",
              "  <thead>\n",
              "    <tr style=\"text-align: right;\">\n",
              "      <th></th>\n",
              "      <th>상호명</th>\n",
              "      <th>상권업종대분류명</th>\n",
              "      <th>상권업종중분류명</th>\n",
              "      <th>상권업종소분류명</th>\n",
              "      <th>시도명</th>\n",
              "    </tr>\n",
              "  </thead>\n",
              "  <tbody>\n",
              "    <tr>\n",
              "      <th>0</th>\n",
              "      <td>프리즐</td>\n",
              "      <td>음식</td>\n",
              "      <td>분식</td>\n",
              "      <td>라면김밥분식</td>\n",
              "      <td>경기도</td>\n",
              "    </tr>\n",
              "    <tr>\n",
              "      <th>1</th>\n",
              "      <td>최씨네별난맛집</td>\n",
              "      <td>음식</td>\n",
              "      <td>한식</td>\n",
              "      <td>한식/백반/한정식</td>\n",
              "      <td>경기도</td>\n",
              "    </tr>\n",
              "    <tr>\n",
              "      <th>2</th>\n",
              "      <td>페리카나</td>\n",
              "      <td>음식</td>\n",
              "      <td>닭/오리요리</td>\n",
              "      <td>후라이드/양념치킨</td>\n",
              "      <td>경기도</td>\n",
              "    </tr>\n",
              "    <tr>\n",
              "      <th>3</th>\n",
              "      <td>한우장다리식당</td>\n",
              "      <td>음식</td>\n",
              "      <td>한식</td>\n",
              "      <td>한식/백반/한정식</td>\n",
              "      <td>경기도</td>\n",
              "    </tr>\n",
              "    <tr>\n",
              "      <th>4</th>\n",
              "      <td>우체국커피자동판매기</td>\n",
              "      <td>소매</td>\n",
              "      <td>기타판매업</td>\n",
              "      <td>자동판매기운영</td>\n",
              "      <td>경기도</td>\n",
              "    </tr>\n",
              "  </tbody>\n",
              "</table>\n",
              "</div>"
            ],
            "text/plain": [
              "          상호명 상권업종대분류명 상권업종중분류명   상권업종소분류명  시도명\n",
              "0         프리즐       음식       분식     라면김밥분식  경기도\n",
              "1     최씨네별난맛집       음식       한식  한식/백반/한정식  경기도\n",
              "2        페리카나       음식   닭/오리요리  후라이드/양념치킨  경기도\n",
              "3     한우장다리식당       음식       한식  한식/백반/한정식  경기도\n",
              "4  우체국커피자동판매기       소매    기타판매업    자동판매기운영  경기도"
            ]
          },
          "metadata": {
            "tags": []
          },
          "execution_count": 40
        }
      ]
    },
    {
      "cell_type": "code",
      "metadata": {
        "id": "vLpIKbSIsICm",
        "outputId": "b165b972-ddcd-4e86-c179-b1cc3595a21a",
        "colab": {
          "base_uri": "https://localhost:8080/",
          "height": 892
        }
      },
      "source": [
        "df.iloc[:-5, :-5]"
      ],
      "execution_count": 41,
      "outputs": [
        {
          "output_type": "execute_result",
          "data": {
            "text/html": [
              "<div>\n",
              "<style scoped>\n",
              "    .dataframe tbody tr th:only-of-type {\n",
              "        vertical-align: middle;\n",
              "    }\n",
              "\n",
              "    .dataframe tbody tr th {\n",
              "        vertical-align: top;\n",
              "    }\n",
              "\n",
              "    .dataframe thead th {\n",
              "        text-align: right;\n",
              "    }\n",
              "</style>\n",
              "<table border=\"1\" class=\"dataframe\">\n",
              "  <thead>\n",
              "    <tr style=\"text-align: right;\">\n",
              "      <th></th>\n",
              "      <th>상호명</th>\n",
              "      <th>상권업종대분류명</th>\n",
              "      <th>상권업종중분류명</th>\n",
              "      <th>상권업종소분류명</th>\n",
              "      <th>시도명</th>\n",
              "      <th>시군구명</th>\n",
              "      <th>법정동명</th>\n",
              "      <th>대지구분명</th>\n",
              "      <th>지번본번지</th>\n",
              "      <th>지번주소</th>\n",
              "    </tr>\n",
              "  </thead>\n",
              "  <tbody>\n",
              "    <tr>\n",
              "      <th>0</th>\n",
              "      <td>프리즐</td>\n",
              "      <td>음식</td>\n",
              "      <td>분식</td>\n",
              "      <td>라면김밥분식</td>\n",
              "      <td>경기도</td>\n",
              "      <td>남양주시</td>\n",
              "      <td>진접읍</td>\n",
              "      <td>대지</td>\n",
              "      <td>672</td>\n",
              "      <td>경기도 남양주시 진접읍 장현리 672-1</td>\n",
              "    </tr>\n",
              "    <tr>\n",
              "      <th>1</th>\n",
              "      <td>최씨네별난맛집</td>\n",
              "      <td>음식</td>\n",
              "      <td>한식</td>\n",
              "      <td>한식/백반/한정식</td>\n",
              "      <td>경기도</td>\n",
              "      <td>동두천시</td>\n",
              "      <td>광암동</td>\n",
              "      <td>대지</td>\n",
              "      <td>494</td>\n",
              "      <td>경기도 동두천시 광암동 494-34</td>\n",
              "    </tr>\n",
              "    <tr>\n",
              "      <th>2</th>\n",
              "      <td>페리카나</td>\n",
              "      <td>음식</td>\n",
              "      <td>닭/오리요리</td>\n",
              "      <td>후라이드/양념치킨</td>\n",
              "      <td>경기도</td>\n",
              "      <td>성남시 중원구</td>\n",
              "      <td>하대원동</td>\n",
              "      <td>대지</td>\n",
              "      <td>154</td>\n",
              "      <td>경기도 성남시 중원구 하대원동 154-44</td>\n",
              "    </tr>\n",
              "    <tr>\n",
              "      <th>3</th>\n",
              "      <td>한우장다리식당</td>\n",
              "      <td>음식</td>\n",
              "      <td>한식</td>\n",
              "      <td>한식/백반/한정식</td>\n",
              "      <td>경기도</td>\n",
              "      <td>성남시 분당구</td>\n",
              "      <td>정자동</td>\n",
              "      <td>대지</td>\n",
              "      <td>43</td>\n",
              "      <td>경기도 성남시 분당구 정자동 43-9</td>\n",
              "    </tr>\n",
              "    <tr>\n",
              "      <th>4</th>\n",
              "      <td>우체국커피자동판매기</td>\n",
              "      <td>소매</td>\n",
              "      <td>기타판매업</td>\n",
              "      <td>자동판매기운영</td>\n",
              "      <td>경기도</td>\n",
              "      <td>성남시 수정구</td>\n",
              "      <td>신흥동</td>\n",
              "      <td>대지</td>\n",
              "      <td>2482</td>\n",
              "      <td>경기도 성남시 수정구 신흥동 2482</td>\n",
              "    </tr>\n",
              "    <tr>\n",
              "      <th>...</th>\n",
              "      <td>...</td>\n",
              "      <td>...</td>\n",
              "      <td>...</td>\n",
              "      <td>...</td>\n",
              "      <td>...</td>\n",
              "      <td>...</td>\n",
              "      <td>...</td>\n",
              "      <td>...</td>\n",
              "      <td>...</td>\n",
              "      <td>...</td>\n",
              "    </tr>\n",
              "    <tr>\n",
              "      <th>318</th>\n",
              "      <td>아이폰KT대리점</td>\n",
              "      <td>소매</td>\n",
              "      <td>사진/광학/정밀기기소매</td>\n",
              "      <td>핸드폰소매</td>\n",
              "      <td>경기도</td>\n",
              "      <td>고양시 일산서구</td>\n",
              "      <td>일산동</td>\n",
              "      <td>대지</td>\n",
              "      <td>1084</td>\n",
              "      <td>경기도 고양시 일산서구 일산동 1084-5</td>\n",
              "    </tr>\n",
              "    <tr>\n",
              "      <th>319</th>\n",
              "      <td>아카데미수학</td>\n",
              "      <td>학문/교육</td>\n",
              "      <td>학원-보습교습입시</td>\n",
              "      <td>학원-입시</td>\n",
              "      <td>경기도</td>\n",
              "      <td>군포시</td>\n",
              "      <td>산본동</td>\n",
              "      <td>대지</td>\n",
              "      <td>1088</td>\n",
              "      <td>경기도 군포시 산본동 1088</td>\n",
              "    </tr>\n",
              "    <tr>\n",
              "      <th>320</th>\n",
              "      <td>재테크공인중개사사무소</td>\n",
              "      <td>부동산</td>\n",
              "      <td>부동산중개</td>\n",
              "      <td>부동산중개</td>\n",
              "      <td>경기도</td>\n",
              "      <td>고양시 일산동구</td>\n",
              "      <td>식사동</td>\n",
              "      <td>대지</td>\n",
              "      <td>937</td>\n",
              "      <td>경기도 고양시 일산동구 식사동 937-9</td>\n",
              "    </tr>\n",
              "    <tr>\n",
              "      <th>321</th>\n",
              "      <td>키즈월드</td>\n",
              "      <td>소매</td>\n",
              "      <td>의복의류</td>\n",
              "      <td>아동복판매</td>\n",
              "      <td>경기도</td>\n",
              "      <td>고양시 일산동구</td>\n",
              "      <td>백석동</td>\n",
              "      <td>대지</td>\n",
              "      <td>1139</td>\n",
              "      <td>경기도 고양시 일산동구 백석동 1139</td>\n",
              "    </tr>\n",
              "    <tr>\n",
              "      <th>322</th>\n",
              "      <td>지성학원</td>\n",
              "      <td>학문/교육</td>\n",
              "      <td>학원기타</td>\n",
              "      <td>학원-기타</td>\n",
              "      <td>경기도</td>\n",
              "      <td>이천시</td>\n",
              "      <td>설성면</td>\n",
              "      <td>대지</td>\n",
              "      <td>130</td>\n",
              "      <td>경기도 이천시 설성면 금당리 130-5</td>\n",
              "    </tr>\n",
              "  </tbody>\n",
              "</table>\n",
              "<p>323 rows × 10 columns</p>\n",
              "</div>"
            ],
            "text/plain": [
              "             상호명 상권업종대분류명      상권업종중분류명   상권업종소분류명  시도명      시군구명  법정동명 대지구분명  \\\n",
              "0            프리즐       음식            분식     라면김밥분식  경기도      남양주시   진접읍    대지   \n",
              "1        최씨네별난맛집       음식            한식  한식/백반/한정식  경기도      동두천시   광암동    대지   \n",
              "2           페리카나       음식        닭/오리요리  후라이드/양념치킨  경기도   성남시 중원구  하대원동    대지   \n",
              "3        한우장다리식당       음식            한식  한식/백반/한정식  경기도   성남시 분당구   정자동    대지   \n",
              "4     우체국커피자동판매기       소매         기타판매업    자동판매기운영  경기도   성남시 수정구   신흥동    대지   \n",
              "..           ...      ...           ...        ...  ...       ...   ...   ...   \n",
              "318     아이폰KT대리점       소매  사진/광학/정밀기기소매      핸드폰소매  경기도  고양시 일산서구   일산동    대지   \n",
              "319       아카데미수학    학문/교육     학원-보습교습입시      학원-입시  경기도       군포시   산본동    대지   \n",
              "320  재테크공인중개사사무소      부동산         부동산중개      부동산중개  경기도  고양시 일산동구   식사동    대지   \n",
              "321         키즈월드       소매          의복의류      아동복판매  경기도  고양시 일산동구   백석동    대지   \n",
              "322         지성학원    학문/교육          학원기타      학원-기타  경기도       이천시   설성면    대지   \n",
              "\n",
              "     지번본번지                     지번주소  \n",
              "0      672   경기도 남양주시 진접읍 장현리 672-1  \n",
              "1      494      경기도 동두천시 광암동 494-34  \n",
              "2      154  경기도 성남시 중원구 하대원동 154-44  \n",
              "3       43     경기도 성남시 분당구 정자동 43-9  \n",
              "4     2482     경기도 성남시 수정구 신흥동 2482  \n",
              "..     ...                      ...  \n",
              "318   1084  경기도 고양시 일산서구 일산동 1084-5  \n",
              "319   1088         경기도 군포시 산본동 1088  \n",
              "320    937   경기도 고양시 일산동구 식사동 937-9  \n",
              "321   1139    경기도 고양시 일산동구 백석동 1139  \n",
              "322    130    경기도 이천시 설성면 금당리 130-5  \n",
              "\n",
              "[323 rows x 10 columns]"
            ]
          },
          "metadata": {
            "tags": []
          },
          "execution_count": 41
        }
      ]
    },
    {
      "cell_type": "code",
      "metadata": {
        "id": "SS_0PpPBsLUx"
      },
      "source": [
        ""
      ],
      "execution_count": null,
      "outputs": []
    }
  ]
}