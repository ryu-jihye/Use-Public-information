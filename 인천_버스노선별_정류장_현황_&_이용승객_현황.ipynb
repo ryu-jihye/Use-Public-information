{
  "nbformat": 4,
  "nbformat_minor": 0,
  "metadata": {
    "colab": {
      "name": "인천_버스노선별 정류장 현황 & 이용승객 현황",
      "provenance": [],
      "collapsed_sections": [],
      "authorship_tag": "ABX9TyO/WartFe0vJ5LOUDlYZfA1",
      "include_colab_link": true
    },
    "kernelspec": {
      "name": "python3",
      "display_name": "Python 3"
    }
  },
  "cells": [
    {
      "cell_type": "markdown",
      "metadata": {
        "id": "view-in-github",
        "colab_type": "text"
      },
      "source": [
        "<a href=\"https://colab.research.google.com/github/ryu-jihye/Use-Public-information/blob/main/%EC%9D%B8%EC%B2%9C_%EB%B2%84%EC%8A%A4%EB%85%B8%EC%84%A0%EB%B3%84_%EC%A0%95%EB%A5%98%EC%9E%A5_%ED%98%84%ED%99%A9_%26_%EC%9D%B4%EC%9A%A9%EC%8A%B9%EA%B0%9D_%ED%98%84%ED%99%A9.ipynb\" target=\"_parent\"><img src=\"https://colab.research.google.com/assets/colab-badge.svg\" alt=\"Open In Colab\"/></a>"
      ]
    },
    {
      "cell_type": "code",
      "metadata": {
        "id": "yaZGUYqAa1fj"
      },
      "source": [
        "# 코랩과 구글연동을 아직 해내지못함 해결하는대로 방법 찾아서 올리기"
      ],
      "execution_count": null,
      "outputs": []
    },
    {
      "cell_type": "code",
      "metadata": {
        "colab": {
          "resources": {
            "http://localhost:8080/nbextensions/google.colab/files.js": {
              "data": "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",
              "ok": true,
              "headers": [
                [
                  "content-type",
                  "application/javascript"
                ]
              ],
              "status": 200,
              "status_text": ""
            }
          },
          "base_uri": "https://localhost:8080/",
          "height": 92
        },
        "id": "kJPvvDaMYxvK",
        "outputId": "9db5b269-e988-4ff0-8558-a470bb802f23"
      },
      "source": [
        "from google.colab import files\n",
        "uploaded = files.upload()"
      ],
      "execution_count": 21,
      "outputs": [
        {
          "output_type": "display_data",
          "data": {
            "text/html": [
              "\n",
              "     <input type=\"file\" id=\"files-5a877b50-127c-4688-816d-772c8f1bc0d5\" name=\"files[]\" multiple disabled\n",
              "        style=\"border:none\" />\n",
              "     <output id=\"result-5a877b50-127c-4688-816d-772c8f1bc0d5\">\n",
              "      Upload widget is only available when the cell has been executed in the\n",
              "      current browser session. Please rerun this cell to enable.\n",
              "      </output>\n",
              "      <script src=\"/nbextensions/google.colab/files.js\"></script> "
            ],
            "text/plain": [
              "<IPython.core.display.HTML object>"
            ]
          },
          "metadata": {
            "tags": []
          }
        },
        {
          "output_type": "stream",
          "text": [
            "Saving 인천광역시_버스노선별 정류장 현황_20201007.csv to 인천광역시_버스노선별 정류장 현황_20201007.csv\n"
          ],
          "name": "stdout"
        }
      ]
    },
    {
      "cell_type": "code",
      "metadata": {
        "colab": {
          "resources": {
            "http://localhost:8080/nbextensions/google.colab/files.js": {
              "data": "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",
              "ok": true,
              "headers": [
                [
                  "content-type",
                  "application/javascript"
                ]
              ],
              "status": 200,
              "status_text": ""
            }
          },
          "base_uri": "https://localhost:8080/",
          "height": 92
        },
        "id": "Lf0ifB65avzQ",
        "outputId": "191ab0ec-b175-4316-986d-7b3c843986a4"
      },
      "source": [
        "from google.colab import files\n",
        "uploaded = files.upload()"
      ],
      "execution_count": 22,
      "outputs": [
        {
          "output_type": "display_data",
          "data": {
            "text/html": [
              "\n",
              "     <input type=\"file\" id=\"files-c784ece3-c9ce-4186-931e-1405c9caa15f\" name=\"files[]\" multiple disabled\n",
              "        style=\"border:none\" />\n",
              "     <output id=\"result-c784ece3-c9ce-4186-931e-1405c9caa15f\">\n",
              "      Upload widget is only available when the cell has been executed in the\n",
              "      current browser session. Please rerun this cell to enable.\n",
              "      </output>\n",
              "      <script src=\"/nbextensions/google.colab/files.js\"></script> "
            ],
            "text/plain": [
              "<IPython.core.display.HTML object>"
            ]
          },
          "metadata": {
            "tags": []
          }
        },
        {
          "output_type": "stream",
          "text": [
            "Saving 인천광역시_정류장별 이용승객 현황_20191231.csv to 인천광역시_정류장별 이용승객 현황_20191231.csv\n"
          ],
          "name": "stdout"
        }
      ]
    },
    {
      "cell_type": "code",
      "metadata": {
        "colab": {
          "base_uri": "https://localhost:8080/"
        },
        "id": "f7cNzELwjNkz",
        "outputId": "7ab51718-810c-4afa-ddfb-de2344e1c4c3"
      },
      "source": [
        "!ls"
      ],
      "execution_count": 8,
      "outputs": [
        {
          "output_type": "stream",
          "text": [
            "'인천광역시_정류장별 이용승객 현황_20191231.csv'\n",
            "'인천광역시_버스노선별 정류장 현황_20201007.csv'\n",
            " BUS_STATION_BOARDING_MONTH_202010.csv\n",
            "'서울특별시 개인하수처리시설 설계시공업소 정보.csv'\n",
            " sample_data\n"
          ],
          "name": "stdout"
        }
      ]
    },
    {
      "cell_type": "code",
      "metadata": {
        "colab": {
          "base_uri": "https://localhost:8080/"
        },
        "id": "YGVhWy4ggKgO",
        "outputId": "3bea8463-10c8-46b1-c4cd-c4a8aa1d7c7b"
      },
      "source": [
        "import pandas as pd\n",
        "af_last = pd.read_csv(\"인천광역시_정류장별 이용승객 현황_20191231.csv\", encoding=\"cp949\")\n",
        "af_last.shape"
      ],
      "execution_count": 9,
      "outputs": [
        {
          "output_type": "execute_result",
          "data": {
            "text/plain": [
              "(6155, 10)"
            ]
          },
          "metadata": {
            "tags": []
          },
          "execution_count": 9
        }
      ]
    },
    {
      "cell_type": "code",
      "metadata": {
        "colab": {
          "base_uri": "https://localhost:8080/",
          "height": 321
        },
        "id": "WhE3HINIgcqP",
        "outputId": "029a45f6-8f16-40bc-c49e-69c8fed24be0"
      },
      "source": [
        "af_last.head()"
      ],
      "execution_count": 11,
      "outputs": [
        {
          "output_type": "execute_result",
          "data": {
            "text/html": [
              "<div>\n",
              "<style scoped>\n",
              "    .dataframe tbody tr th:only-of-type {\n",
              "        vertical-align: middle;\n",
              "    }\n",
              "\n",
              "    .dataframe tbody tr th {\n",
              "        vertical-align: top;\n",
              "    }\n",
              "\n",
              "    .dataframe thead th {\n",
              "        text-align: right;\n",
              "    }\n",
              "</style>\n",
              "<table border=\"1\" class=\"dataframe\">\n",
              "  <thead>\n",
              "    <tr style=\"text-align: right;\">\n",
              "      <th></th>\n",
              "      <th>권역</th>\n",
              "      <th>정류소명</th>\n",
              "      <th>정류소ID</th>\n",
              "      <th>승차건수(총합계)</th>\n",
              "      <th>하차건수</th>\n",
              "      <th>승차건수(카드)</th>\n",
              "      <th>하차건수(카드)</th>\n",
              "      <th>승차건수(현금)</th>\n",
              "      <th>일평균 승하차 건수</th>\n",
              "      <th>일평균 대당 승하차 건수</th>\n",
              "    </tr>\n",
              "  </thead>\n",
              "  <tbody>\n",
              "    <tr>\n",
              "      <th>0</th>\n",
              "      <td>서구</td>\n",
              "      <td>(구)신현주공</td>\n",
              "      <td>42228</td>\n",
              "      <td>106476</td>\n",
              "      <td>74329</td>\n",
              "      <td>101822</td>\n",
              "      <td>74329</td>\n",
              "      <td>4654</td>\n",
              "      <td>495.36</td>\n",
              "      <td>3.16</td>\n",
              "    </tr>\n",
              "    <tr>\n",
              "      <th>1</th>\n",
              "      <td>부평구</td>\n",
              "      <td>(구)현대백화점</td>\n",
              "      <td>40158</td>\n",
              "      <td>92605</td>\n",
              "      <td>73256</td>\n",
              "      <td>90236</td>\n",
              "      <td>73256</td>\n",
              "      <td>2369</td>\n",
              "      <td>454.41</td>\n",
              "      <td>34.95</td>\n",
              "    </tr>\n",
              "    <tr>\n",
              "      <th>2</th>\n",
              "      <td>서구</td>\n",
              "      <td>(주)경동세라믹스</td>\n",
              "      <td>89146</td>\n",
              "      <td>5597</td>\n",
              "      <td>185</td>\n",
              "      <td>5469</td>\n",
              "      <td>185</td>\n",
              "      <td>128</td>\n",
              "      <td>15.84</td>\n",
              "      <td>3.17</td>\n",
              "    </tr>\n",
              "    <tr>\n",
              "      <th>3</th>\n",
              "      <td>서구</td>\n",
              "      <td>(주)경인양행앞</td>\n",
              "      <td>42096</td>\n",
              "      <td>13213</td>\n",
              "      <td>13552</td>\n",
              "      <td>12967</td>\n",
              "      <td>13552</td>\n",
              "      <td>246</td>\n",
              "      <td>73.33</td>\n",
              "      <td>1.36</td>\n",
              "    </tr>\n",
              "    <tr>\n",
              "      <th>4</th>\n",
              "      <td>서구</td>\n",
              "      <td>(주)경인양행앞</td>\n",
              "      <td>42097</td>\n",
              "      <td>24975</td>\n",
              "      <td>41148</td>\n",
              "      <td>24295</td>\n",
              "      <td>41148</td>\n",
              "      <td>680</td>\n",
              "      <td>181.16</td>\n",
              "      <td>3.35</td>\n",
              "    </tr>\n",
              "  </tbody>\n",
              "</table>\n",
              "</div>"
            ],
            "text/plain": [
              "    권역       정류소명  정류소ID  ...  승차건수(현금)  일평균 승하차 건수  일평균 대당 승하차 건수\n",
              "0   서구    (구)신현주공  42228  ...      4654      495.36           3.16\n",
              "1  부평구   (구)현대백화점  40158  ...      2369      454.41          34.95\n",
              "2   서구  (주)경동세라믹스  89146  ...       128       15.84           3.17\n",
              "3   서구   (주)경인양행앞  42096  ...       246       73.33           1.36\n",
              "4   서구   (주)경인양행앞  42097  ...       680      181.16           3.35\n",
              "\n",
              "[5 rows x 10 columns]"
            ]
          },
          "metadata": {
            "tags": []
          },
          "execution_count": 11
        }
      ]
    },
    {
      "cell_type": "code",
      "metadata": {
        "colab": {
          "base_uri": "https://localhost:8080/",
          "height": 407
        },
        "id": "u-CCQYeXggOP",
        "outputId": "7a7cfa4d-6c03-4ee5-9012-056b1fdaefcd"
      },
      "source": [
        "af_last.tail()"
      ],
      "execution_count": 10,
      "outputs": [
        {
          "output_type": "execute_result",
          "data": {
            "text/html": [
              "<div>\n",
              "<style scoped>\n",
              "    .dataframe tbody tr th:only-of-type {\n",
              "        vertical-align: middle;\n",
              "    }\n",
              "\n",
              "    .dataframe tbody tr th {\n",
              "        vertical-align: top;\n",
              "    }\n",
              "\n",
              "    .dataframe thead th {\n",
              "        text-align: right;\n",
              "    }\n",
              "</style>\n",
              "<table border=\"1\" class=\"dataframe\">\n",
              "  <thead>\n",
              "    <tr style=\"text-align: right;\">\n",
              "      <th></th>\n",
              "      <th>권역</th>\n",
              "      <th>정류소명</th>\n",
              "      <th>정류소ID</th>\n",
              "      <th>승차건수(총합계)</th>\n",
              "      <th>하차건수</th>\n",
              "      <th>승차건수(카드)</th>\n",
              "      <th>하차건수(카드)</th>\n",
              "      <th>승차건수(현금)</th>\n",
              "      <th>일평균 승하차 건수</th>\n",
              "      <th>일평균 대당 승하차 건수</th>\n",
              "    </tr>\n",
              "  </thead>\n",
              "  <tbody>\n",
              "    <tr>\n",
              "      <th>6150</th>\n",
              "      <td>연수구</td>\n",
              "      <td>힘찬병원</td>\n",
              "      <td>38126</td>\n",
              "      <td>67052</td>\n",
              "      <td>116381</td>\n",
              "      <td>64841</td>\n",
              "      <td>116381</td>\n",
              "      <td>2211</td>\n",
              "      <td>502.56</td>\n",
              "      <td>14.36</td>\n",
              "    </tr>\n",
              "    <tr>\n",
              "      <th>6151</th>\n",
              "      <td>연수구</td>\n",
              "      <td>힘찬병원</td>\n",
              "      <td>38129</td>\n",
              "      <td>79333</td>\n",
              "      <td>66848</td>\n",
              "      <td>75480</td>\n",
              "      <td>66848</td>\n",
              "      <td>3853</td>\n",
              "      <td>400.50</td>\n",
              "      <td>12.92</td>\n",
              "    </tr>\n",
              "    <tr>\n",
              "      <th>6152</th>\n",
              "      <td>연수구</td>\n",
              "      <td>힘찬병원</td>\n",
              "      <td>38133</td>\n",
              "      <td>100866</td>\n",
              "      <td>70866</td>\n",
              "      <td>96371</td>\n",
              "      <td>70866</td>\n",
              "      <td>4495</td>\n",
              "      <td>470.50</td>\n",
              "      <td>13.44</td>\n",
              "    </tr>\n",
              "    <tr>\n",
              "      <th>6153</th>\n",
              "      <td>부평구</td>\n",
              "      <td>힘찬병원</td>\n",
              "      <td>40891</td>\n",
              "      <td>27835</td>\n",
              "      <td>59833</td>\n",
              "      <td>26879</td>\n",
              "      <td>59833</td>\n",
              "      <td>956</td>\n",
              "      <td>240.19</td>\n",
              "      <td>2.97</td>\n",
              "    </tr>\n",
              "    <tr>\n",
              "      <th>6154</th>\n",
              "      <td>부평구</td>\n",
              "      <td>힘찬병원</td>\n",
              "      <td>40892</td>\n",
              "      <td>41163</td>\n",
              "      <td>28758</td>\n",
              "      <td>38989</td>\n",
              "      <td>28758</td>\n",
              "      <td>2174</td>\n",
              "      <td>191.56</td>\n",
              "      <td>2.36</td>\n",
              "    </tr>\n",
              "  </tbody>\n",
              "</table>\n",
              "</div>"
            ],
            "text/plain": [
              "       권역  정류소명  정류소ID  승차건수(총합계)  ...  하차건수(카드)  승차건수(현금)  일평균 승하차 건수  일평균 대당 승하차 건수\n",
              "6150  연수구  힘찬병원  38126      67052  ...    116381      2211      502.56          14.36\n",
              "6151  연수구  힘찬병원  38129      79333  ...     66848      3853      400.50          12.92\n",
              "6152  연수구  힘찬병원  38133     100866  ...     70866      4495      470.50          13.44\n",
              "6153  부평구  힘찬병원  40891      27835  ...     59833       956      240.19           2.97\n",
              "6154  부평구  힘찬병원  40892      41163  ...     28758      2174      191.56           2.36\n",
              "\n",
              "[5 rows x 10 columns]"
            ]
          },
          "metadata": {
            "tags": []
          },
          "execution_count": 10
        }
      ]
    },
    {
      "cell_type": "code",
      "metadata": {
        "colab": {
          "base_uri": "https://localhost:8080/"
        },
        "id": "jpjmZUu5gome",
        "outputId": "2a46c9d9-44e2-4545-f79f-0e8c1e9925f1"
      },
      "source": [
        "import pandas as pd\n",
        "af_first = pd.read_csv(\"인천광역시_버스노선별 정류장 현황_20201007.csv\", encoding=\"cp949\")\n",
        "af_first.shape"
      ],
      "execution_count": 29,
      "outputs": [
        {
          "output_type": "execute_result",
          "data": {
            "text/plain": [
              "(25459, 10)"
            ]
          },
          "metadata": {
            "tags": []
          },
          "execution_count": 29
        }
      ]
    },
    {
      "cell_type": "code",
      "metadata": {
        "colab": {
          "base_uri": "https://localhost:8080/",
          "height": 287
        },
        "id": "9YUSvUNcg39M",
        "outputId": "d43484e6-cd35-4cb3-c184-2bb09966429c"
      },
      "source": [
        "af_first.head()"
      ],
      "execution_count": 30,
      "outputs": [
        {
          "output_type": "execute_result",
          "data": {
            "text/html": [
              "<div>\n",
              "<style scoped>\n",
              "    .dataframe tbody tr th:only-of-type {\n",
              "        vertical-align: middle;\n",
              "    }\n",
              "\n",
              "    .dataframe tbody tr th {\n",
              "        vertical-align: top;\n",
              "    }\n",
              "\n",
              "    .dataframe thead th {\n",
              "        text-align: right;\n",
              "    }\n",
              "</style>\n",
              "<table border=\"1\" class=\"dataframe\">\n",
              "  <thead>\n",
              "    <tr style=\"text-align: right;\">\n",
              "      <th></th>\n",
              "      <th>노선번호</th>\n",
              "      <th>순번</th>\n",
              "      <th>정류소명</th>\n",
              "      <th>정류소번호</th>\n",
              "      <th>정류소ID</th>\n",
              "      <th>ISC ID</th>\n",
              "      <th>정류소구간거리</th>\n",
              "      <th>정류소간누적거리</th>\n",
              "      <th>주요경유지여부</th>\n",
              "      <th>상/하행</th>\n",
              "    </tr>\n",
              "  </thead>\n",
              "  <tbody>\n",
              "    <tr>\n",
              "      <th>0</th>\n",
              "      <td>302</td>\n",
              "      <td>1</td>\n",
              "      <td>십정동차고지</td>\n",
              "      <td>40913.0</td>\n",
              "      <td>166000913</td>\n",
              "      <td>2807789.0</td>\n",
              "      <td>0.0</td>\n",
              "      <td>0.0</td>\n",
              "      <td>N</td>\n",
              "      <td>상행</td>\n",
              "    </tr>\n",
              "    <tr>\n",
              "      <th>1</th>\n",
              "      <td>302</td>\n",
              "      <td>2</td>\n",
              "      <td>십정사거리</td>\n",
              "      <td>40029.0</td>\n",
              "      <td>166000029</td>\n",
              "      <td>2801793.0</td>\n",
              "      <td>560.0</td>\n",
              "      <td>560.0</td>\n",
              "      <td>Y</td>\n",
              "      <td>상행</td>\n",
              "    </tr>\n",
              "    <tr>\n",
              "      <th>2</th>\n",
              "      <td>302</td>\n",
              "      <td>3</td>\n",
              "      <td>선린감리교회</td>\n",
              "      <td>40043.0</td>\n",
              "      <td>166000043</td>\n",
              "      <td>2801779.0</td>\n",
              "      <td>245.0</td>\n",
              "      <td>805.0</td>\n",
              "      <td>N</td>\n",
              "      <td>상행</td>\n",
              "    </tr>\n",
              "    <tr>\n",
              "      <th>3</th>\n",
              "      <td>302</td>\n",
              "      <td>4</td>\n",
              "      <td>백영아파트</td>\n",
              "      <td>40058.0</td>\n",
              "      <td>166000058</td>\n",
              "      <td>2801766.0</td>\n",
              "      <td>363.0</td>\n",
              "      <td>1168.0</td>\n",
              "      <td>N</td>\n",
              "      <td>상행</td>\n",
              "    </tr>\n",
              "    <tr>\n",
              "      <th>4</th>\n",
              "      <td>302</td>\n",
              "      <td>5</td>\n",
              "      <td>상정고</td>\n",
              "      <td>40069.0</td>\n",
              "      <td>166000069</td>\n",
              "      <td>2801756.0</td>\n",
              "      <td>371.0</td>\n",
              "      <td>1539.0</td>\n",
              "      <td>N</td>\n",
              "      <td>상행</td>\n",
              "    </tr>\n",
              "  </tbody>\n",
              "</table>\n",
              "</div>"
            ],
            "text/plain": [
              "  노선번호  순번    정류소명    정류소번호  ...  정류소구간거리  정류소간누적거리  주요경유지여부  상/하행\n",
              "0  302   1  십정동차고지  40913.0  ...      0.0       0.0        N    상행\n",
              "1  302   2   십정사거리  40029.0  ...    560.0     560.0        Y    상행\n",
              "2  302   3  선린감리교회  40043.0  ...    245.0     805.0        N    상행\n",
              "3  302   4   백영아파트  40058.0  ...    363.0    1168.0        N    상행\n",
              "4  302   5     상정고  40069.0  ...    371.0    1539.0        N    상행\n",
              "\n",
              "[5 rows x 10 columns]"
            ]
          },
          "metadata": {
            "tags": []
          },
          "execution_count": 30
        }
      ]
    },
    {
      "cell_type": "code",
      "metadata": {
        "colab": {
          "base_uri": "https://localhost:8080/",
          "height": 321
        },
        "id": "tT2hbosfg6x5",
        "outputId": "7de40b1c-d998-4033-e985-0690e8f74aab"
      },
      "source": [
        "af_first.tail()"
      ],
      "execution_count": 31,
      "outputs": [
        {
          "output_type": "execute_result",
          "data": {
            "text/html": [
              "<div>\n",
              "<style scoped>\n",
              "    .dataframe tbody tr th:only-of-type {\n",
              "        vertical-align: middle;\n",
              "    }\n",
              "\n",
              "    .dataframe tbody tr th {\n",
              "        vertical-align: top;\n",
              "    }\n",
              "\n",
              "    .dataframe thead th {\n",
              "        text-align: right;\n",
              "    }\n",
              "</style>\n",
              "<table border=\"1\" class=\"dataframe\">\n",
              "  <thead>\n",
              "    <tr style=\"text-align: right;\">\n",
              "      <th></th>\n",
              "      <th>노선번호</th>\n",
              "      <th>순번</th>\n",
              "      <th>정류소명</th>\n",
              "      <th>정류소번호</th>\n",
              "      <th>정류소ID</th>\n",
              "      <th>ISC ID</th>\n",
              "      <th>정류소구간거리</th>\n",
              "      <th>정류소간누적거리</th>\n",
              "      <th>주요경유지여부</th>\n",
              "      <th>상/하행</th>\n",
              "    </tr>\n",
              "  </thead>\n",
              "  <tbody>\n",
              "    <tr>\n",
              "      <th>25454</th>\n",
              "      <td>순환31</td>\n",
              "      <td>16</td>\n",
              "      <td>구월도매시장</td>\n",
              "      <td>39192.0</td>\n",
              "      <td>165000192</td>\n",
              "      <td>2802176.0</td>\n",
              "      <td>255.0</td>\n",
              "      <td>4227.0</td>\n",
              "      <td>N</td>\n",
              "      <td>순환</td>\n",
              "    </tr>\n",
              "    <tr>\n",
              "      <th>25455</th>\n",
              "      <td>순환31</td>\n",
              "      <td>17</td>\n",
              "      <td>성리중학교</td>\n",
              "      <td>39979.0</td>\n",
              "      <td>165000979</td>\n",
              "      <td>2807095.0</td>\n",
              "      <td>512.0</td>\n",
              "      <td>4739.0</td>\n",
              "      <td>N</td>\n",
              "      <td>순환</td>\n",
              "    </tr>\n",
              "    <tr>\n",
              "      <th>25456</th>\n",
              "      <td>순환31</td>\n",
              "      <td>18</td>\n",
              "      <td>팬더아파트</td>\n",
              "      <td>39980.0</td>\n",
              "      <td>165000980</td>\n",
              "      <td>2807096.0</td>\n",
              "      <td>259.0</td>\n",
              "      <td>4998.0</td>\n",
              "      <td>N</td>\n",
              "      <td>순환</td>\n",
              "    </tr>\n",
              "    <tr>\n",
              "      <th>25457</th>\n",
              "      <td>순환31</td>\n",
              "      <td>19</td>\n",
              "      <td>구월아시아드2단지정문</td>\n",
              "      <td>39981.0</td>\n",
              "      <td>165000981</td>\n",
              "      <td>2807097.0</td>\n",
              "      <td>259.0</td>\n",
              "      <td>5257.0</td>\n",
              "      <td>N</td>\n",
              "      <td>순환</td>\n",
              "    </tr>\n",
              "    <tr>\n",
              "      <th>25458</th>\n",
              "      <td>순환31</td>\n",
              "      <td>20</td>\n",
              "      <td>구월아시아드1단지</td>\n",
              "      <td>39913.0</td>\n",
              "      <td>165000913</td>\n",
              "      <td>2806615.0</td>\n",
              "      <td>231.0</td>\n",
              "      <td>5488.0</td>\n",
              "      <td>N</td>\n",
              "      <td>순환</td>\n",
              "    </tr>\n",
              "  </tbody>\n",
              "</table>\n",
              "</div>"
            ],
            "text/plain": [
              "       노선번호  순번         정류소명    정류소번호  ...  정류소구간거리  정류소간누적거리  주요경유지여부  상/하행\n",
              "25454  순환31  16       구월도매시장  39192.0  ...    255.0    4227.0        N    순환\n",
              "25455  순환31  17        성리중학교  39979.0  ...    512.0    4739.0        N    순환\n",
              "25456  순환31  18        팬더아파트  39980.0  ...    259.0    4998.0        N    순환\n",
              "25457  순환31  19  구월아시아드2단지정문  39981.0  ...    259.0    5257.0        N    순환\n",
              "25458  순환31  20    구월아시아드1단지  39913.0  ...    231.0    5488.0        N    순환\n",
              "\n",
              "[5 rows x 10 columns]"
            ]
          },
          "metadata": {
            "tags": []
          },
          "execution_count": 31
        }
      ]
    },
    {
      "cell_type": "code",
      "metadata": {
        "colab": {
          "base_uri": "https://localhost:8080/"
        },
        "id": "dr_ijzrtg_b-",
        "outputId": "e622a0b5-07bc-4f8a-a4bb-24bb76ff0421"
      },
      "source": [
        "af_last.info()"
      ],
      "execution_count": 32,
      "outputs": [
        {
          "output_type": "stream",
          "text": [
            "<class 'pandas.core.frame.DataFrame'>\n",
            "RangeIndex: 6155 entries, 0 to 6154\n",
            "Data columns (total 10 columns):\n",
            " #   Column         Non-Null Count  Dtype  \n",
            "---  ------         --------------  -----  \n",
            " 0   권역             6155 non-null   object \n",
            " 1   정류소명           6155 non-null   object \n",
            " 2   정류소ID          6155 non-null   object \n",
            " 3   승차건수(총합계)      6155 non-null   int64  \n",
            " 4   하차건수           6155 non-null   int64  \n",
            " 5   승차건수(카드)       6155 non-null   int64  \n",
            " 6   하차건수(카드)       6155 non-null   int64  \n",
            " 7   승차건수(현금)       6155 non-null   int64  \n",
            " 8   일평균 승하차 건수     6155 non-null   float64\n",
            " 9   일평균 대당 승하차 건수  6155 non-null   object \n",
            "dtypes: float64(1), int64(5), object(4)\n",
            "memory usage: 481.0+ KB\n"
          ],
          "name": "stdout"
        }
      ]
    },
    {
      "cell_type": "code",
      "metadata": {
        "colab": {
          "base_uri": "https://localhost:8080/"
        },
        "id": "xViqvn2BhEFr",
        "outputId": "66b574ec-e47e-4cae-95d5-aa018fd582db"
      },
      "source": [
        "af_first.info()"
      ],
      "execution_count": 33,
      "outputs": [
        {
          "output_type": "stream",
          "text": [
            "<class 'pandas.core.frame.DataFrame'>\n",
            "RangeIndex: 25459 entries, 0 to 25458\n",
            "Data columns (total 10 columns):\n",
            " #   Column    Non-Null Count  Dtype  \n",
            "---  ------    --------------  -----  \n",
            " 0   노선번호      25459 non-null  object \n",
            " 1   순번        25459 non-null  int64  \n",
            " 2   정류소명      25459 non-null  object \n",
            " 3   정류소번호     25458 non-null  float64\n",
            " 4   정류소ID     25459 non-null  int64  \n",
            " 5   ISC ID    25419 non-null  float64\n",
            " 6   정류소구간거리   25232 non-null  float64\n",
            " 7   정류소간누적거리  25357 non-null  float64\n",
            " 8   주요경유지여부   19930 non-null  object \n",
            " 9   상/하행      25453 non-null  object \n",
            "dtypes: float64(4), int64(2), object(4)\n",
            "memory usage: 1.9+ MB\n"
          ],
          "name": "stdout"
        }
      ]
    },
    {
      "cell_type": "code",
      "metadata": {
        "colab": {
          "base_uri": "https://localhost:8080/"
        },
        "id": "fxk3oTDrhG40",
        "outputId": "cf2f165c-7295-425e-adfc-bb1312eb1dad"
      },
      "source": [
        "True == 1"
      ],
      "execution_count": 13,
      "outputs": [
        {
          "output_type": "execute_result",
          "data": {
            "text/plain": [
              "True"
            ]
          },
          "metadata": {
            "tags": []
          },
          "execution_count": 13
        }
      ]
    },
    {
      "cell_type": "code",
      "metadata": {
        "colab": {
          "base_uri": "https://localhost:8080/"
        },
        "id": "aLU-7YfkhMtG",
        "outputId": "e187184a-020d-48f1-968f-4bea88107eb4"
      },
      "source": [
        "False == 0"
      ],
      "execution_count": 14,
      "outputs": [
        {
          "output_type": "execute_result",
          "data": {
            "text/plain": [
              "True"
            ]
          },
          "metadata": {
            "tags": []
          },
          "execution_count": 14
        }
      ]
    },
    {
      "cell_type": "code",
      "metadata": {
        "colab": {
          "base_uri": "https://localhost:8080/"
        },
        "id": "HMTR9ok9hOar",
        "outputId": "2393bfd6-a72b-4b9b-baa7-52468574f7bb"
      },
      "source": [
        "True + True + False"
      ],
      "execution_count": 15,
      "outputs": [
        {
          "output_type": "execute_result",
          "data": {
            "text/plain": [
              "2"
            ]
          },
          "metadata": {
            "tags": []
          },
          "execution_count": 15
        }
      ]
    },
    {
      "cell_type": "code",
      "metadata": {
        "colab": {
          "base_uri": "https://localhost:8080/",
          "height": 430
        },
        "id": "7V4UX66ZhRF3",
        "outputId": "08e5d7e9-89de-4ceb-eae1-b83d1d93dcab"
      },
      "source": [
        "af_last.isnull()"
      ],
      "execution_count": 34,
      "outputs": [
        {
          "output_type": "execute_result",
          "data": {
            "text/html": [
              "<div>\n",
              "<style scoped>\n",
              "    .dataframe tbody tr th:only-of-type {\n",
              "        vertical-align: middle;\n",
              "    }\n",
              "\n",
              "    .dataframe tbody tr th {\n",
              "        vertical-align: top;\n",
              "    }\n",
              "\n",
              "    .dataframe thead th {\n",
              "        text-align: right;\n",
              "    }\n",
              "</style>\n",
              "<table border=\"1\" class=\"dataframe\">\n",
              "  <thead>\n",
              "    <tr style=\"text-align: right;\">\n",
              "      <th></th>\n",
              "      <th>권역</th>\n",
              "      <th>정류소명</th>\n",
              "      <th>정류소ID</th>\n",
              "      <th>승차건수(총합계)</th>\n",
              "      <th>하차건수</th>\n",
              "      <th>승차건수(카드)</th>\n",
              "      <th>하차건수(카드)</th>\n",
              "      <th>승차건수(현금)</th>\n",
              "      <th>일평균 승하차 건수</th>\n",
              "      <th>일평균 대당 승하차 건수</th>\n",
              "    </tr>\n",
              "  </thead>\n",
              "  <tbody>\n",
              "    <tr>\n",
              "      <th>0</th>\n",
              "      <td>False</td>\n",
              "      <td>False</td>\n",
              "      <td>False</td>\n",
              "      <td>False</td>\n",
              "      <td>False</td>\n",
              "      <td>False</td>\n",
              "      <td>False</td>\n",
              "      <td>False</td>\n",
              "      <td>False</td>\n",
              "      <td>False</td>\n",
              "    </tr>\n",
              "    <tr>\n",
              "      <th>1</th>\n",
              "      <td>False</td>\n",
              "      <td>False</td>\n",
              "      <td>False</td>\n",
              "      <td>False</td>\n",
              "      <td>False</td>\n",
              "      <td>False</td>\n",
              "      <td>False</td>\n",
              "      <td>False</td>\n",
              "      <td>False</td>\n",
              "      <td>False</td>\n",
              "    </tr>\n",
              "    <tr>\n",
              "      <th>2</th>\n",
              "      <td>False</td>\n",
              "      <td>False</td>\n",
              "      <td>False</td>\n",
              "      <td>False</td>\n",
              "      <td>False</td>\n",
              "      <td>False</td>\n",
              "      <td>False</td>\n",
              "      <td>False</td>\n",
              "      <td>False</td>\n",
              "      <td>False</td>\n",
              "    </tr>\n",
              "    <tr>\n",
              "      <th>3</th>\n",
              "      <td>False</td>\n",
              "      <td>False</td>\n",
              "      <td>False</td>\n",
              "      <td>False</td>\n",
              "      <td>False</td>\n",
              "      <td>False</td>\n",
              "      <td>False</td>\n",
              "      <td>False</td>\n",
              "      <td>False</td>\n",
              "      <td>False</td>\n",
              "    </tr>\n",
              "    <tr>\n",
              "      <th>4</th>\n",
              "      <td>False</td>\n",
              "      <td>False</td>\n",
              "      <td>False</td>\n",
              "      <td>False</td>\n",
              "      <td>False</td>\n",
              "      <td>False</td>\n",
              "      <td>False</td>\n",
              "      <td>False</td>\n",
              "      <td>False</td>\n",
              "      <td>False</td>\n",
              "    </tr>\n",
              "    <tr>\n",
              "      <th>...</th>\n",
              "      <td>...</td>\n",
              "      <td>...</td>\n",
              "      <td>...</td>\n",
              "      <td>...</td>\n",
              "      <td>...</td>\n",
              "      <td>...</td>\n",
              "      <td>...</td>\n",
              "      <td>...</td>\n",
              "      <td>...</td>\n",
              "      <td>...</td>\n",
              "    </tr>\n",
              "    <tr>\n",
              "      <th>6150</th>\n",
              "      <td>False</td>\n",
              "      <td>False</td>\n",
              "      <td>False</td>\n",
              "      <td>False</td>\n",
              "      <td>False</td>\n",
              "      <td>False</td>\n",
              "      <td>False</td>\n",
              "      <td>False</td>\n",
              "      <td>False</td>\n",
              "      <td>False</td>\n",
              "    </tr>\n",
              "    <tr>\n",
              "      <th>6151</th>\n",
              "      <td>False</td>\n",
              "      <td>False</td>\n",
              "      <td>False</td>\n",
              "      <td>False</td>\n",
              "      <td>False</td>\n",
              "      <td>False</td>\n",
              "      <td>False</td>\n",
              "      <td>False</td>\n",
              "      <td>False</td>\n",
              "      <td>False</td>\n",
              "    </tr>\n",
              "    <tr>\n",
              "      <th>6152</th>\n",
              "      <td>False</td>\n",
              "      <td>False</td>\n",
              "      <td>False</td>\n",
              "      <td>False</td>\n",
              "      <td>False</td>\n",
              "      <td>False</td>\n",
              "      <td>False</td>\n",
              "      <td>False</td>\n",
              "      <td>False</td>\n",
              "      <td>False</td>\n",
              "    </tr>\n",
              "    <tr>\n",
              "      <th>6153</th>\n",
              "      <td>False</td>\n",
              "      <td>False</td>\n",
              "      <td>False</td>\n",
              "      <td>False</td>\n",
              "      <td>False</td>\n",
              "      <td>False</td>\n",
              "      <td>False</td>\n",
              "      <td>False</td>\n",
              "      <td>False</td>\n",
              "      <td>False</td>\n",
              "    </tr>\n",
              "    <tr>\n",
              "      <th>6154</th>\n",
              "      <td>False</td>\n",
              "      <td>False</td>\n",
              "      <td>False</td>\n",
              "      <td>False</td>\n",
              "      <td>False</td>\n",
              "      <td>False</td>\n",
              "      <td>False</td>\n",
              "      <td>False</td>\n",
              "      <td>False</td>\n",
              "      <td>False</td>\n",
              "    </tr>\n",
              "  </tbody>\n",
              "</table>\n",
              "<p>6155 rows × 10 columns</p>\n",
              "</div>"
            ],
            "text/plain": [
              "         권역   정류소명  정류소ID  ...  승차건수(현금)  일평균 승하차 건수  일평균 대당 승하차 건수\n",
              "0     False  False  False  ...     False       False          False\n",
              "1     False  False  False  ...     False       False          False\n",
              "2     False  False  False  ...     False       False          False\n",
              "3     False  False  False  ...     False       False          False\n",
              "4     False  False  False  ...     False       False          False\n",
              "...     ...    ...    ...  ...       ...         ...            ...\n",
              "6150  False  False  False  ...     False       False          False\n",
              "6151  False  False  False  ...     False       False          False\n",
              "6152  False  False  False  ...     False       False          False\n",
              "6153  False  False  False  ...     False       False          False\n",
              "6154  False  False  False  ...     False       False          False\n",
              "\n",
              "[6155 rows x 10 columns]"
            ]
          },
          "metadata": {
            "tags": []
          },
          "execution_count": 34
        }
      ]
    },
    {
      "cell_type": "code",
      "metadata": {
        "colab": {
          "base_uri": "https://localhost:8080/"
        },
        "id": "yMuMVkQchTD5",
        "outputId": "240da318-7e1c-46ca-fd68-5598ba6da4f0"
      },
      "source": [
        "af_last.isnull().sum()"
      ],
      "execution_count": 35,
      "outputs": [
        {
          "output_type": "execute_result",
          "data": {
            "text/plain": [
              "권역               0\n",
              "정류소명             0\n",
              "정류소ID            0\n",
              "승차건수(총합계)        0\n",
              "하차건수             0\n",
              "승차건수(카드)         0\n",
              "하차건수(카드)         0\n",
              "승차건수(현금)         0\n",
              "일평균 승하차 건수       0\n",
              "일평균 대당 승하차 건수    0\n",
              "dtype: int64"
            ]
          },
          "metadata": {
            "tags": []
          },
          "execution_count": 35
        }
      ]
    },
    {
      "cell_type": "code",
      "metadata": {
        "colab": {
          "base_uri": "https://localhost:8080/"
        },
        "id": "JOOC5ZDphW1W",
        "outputId": "1b41f984-f183-415e-f899-7fe01376a282"
      },
      "source": [
        "af_first.isnull().sum()"
      ],
      "execution_count": 36,
      "outputs": [
        {
          "output_type": "execute_result",
          "data": {
            "text/plain": [
              "노선번호           0\n",
              "순번             0\n",
              "정류소명           0\n",
              "정류소번호          1\n",
              "정류소ID          0\n",
              "ISC ID        40\n",
              "정류소구간거리      227\n",
              "정류소간누적거리     102\n",
              "주요경유지여부     5529\n",
              "상/하행           6\n",
              "dtype: int64"
            ]
          },
          "metadata": {
            "tags": []
          },
          "execution_count": 36
        }
      ]
    },
    {
      "cell_type": "code",
      "metadata": {
        "colab": {
          "base_uri": "https://localhost:8080/"
        },
        "id": "7I_qSanzh0sf",
        "outputId": "14a54693-3094-41c7-ff92-61e04b683f7c"
      },
      "source": [
        "import pandas as pd\n",
        "type(pd.np.nan)"
      ],
      "execution_count": 37,
      "outputs": [
        {
          "output_type": "stream",
          "text": [
            "/usr/local/lib/python3.6/dist-packages/ipykernel_launcher.py:2: FutureWarning: The pandas.np module is deprecated and will be removed from pandas in a future version. Import numpy directly instead\n",
            "  \n"
          ],
          "name": "stderr"
        },
        {
          "output_type": "execute_result",
          "data": {
            "text/plain": [
              "float"
            ]
          },
          "metadata": {
            "tags": []
          },
          "execution_count": 37
        }
      ]
    },
    {
      "cell_type": "code",
      "metadata": {
        "colab": {
          "base_uri": "https://localhost:8080/"
        },
        "id": "-GvU1foxjr_t",
        "outputId": "fbbc6822-3aa6-4f59-9b49-4b64cefc5107"
      },
      "source": [
        "af_last[\"정류소ID\"] = pd.to_numeric(af_last[\"정류소ID\"], errors='coerce')\n",
        "af_last[\"정류소ID\"].head(1)"
      ],
      "execution_count": 42,
      "outputs": [
        {
          "output_type": "execute_result",
          "data": {
            "text/plain": [
              "0    42228.0\n",
              "Name: 정류소ID, dtype: float64"
            ]
          },
          "metadata": {
            "tags": []
          },
          "execution_count": 42
        }
      ]
    },
    {
      "cell_type": "code",
      "metadata": {
        "colab": {
          "base_uri": "https://localhost:8080/"
        },
        "id": "OYNv5Q_aj4U5",
        "outputId": "516825c3-3c56-4972-a9be-c0cf40464f3a"
      },
      "source": [
        "af_first[\"노선번호숫자\"] = pd.to_numeric(af_first[\"노선번호\"], errors=\"coerce\")\n",
        "af_first[\"노선번호숫자\"].head(1)"
      ],
      "execution_count": 48,
      "outputs": [
        {
          "output_type": "execute_result",
          "data": {
            "text/plain": [
              "0    302.0\n",
              "Name: 노선번호숫자, dtype: float64"
            ]
          },
          "metadata": {
            "tags": []
          },
          "execution_count": 48
        }
      ]
    },
    {
      "cell_type": "code",
      "metadata": {
        "colab": {
          "base_uri": "https://localhost:8080/",
          "height": 182
        },
        "id": "p69GpT2mnbXa",
        "outputId": "c13e9b3d-5186-4d81-a956-ac87c4650ff5"
      },
      "source": [
        "af_first[\"노선번호숫자*10\"] = af_first[\"노선번호숫자\"] * 10\n",
        "af_first.head(1)"
      ],
      "execution_count": 49,
      "outputs": [
        {
          "output_type": "execute_result",
          "data": {
            "text/html": [
              "<div>\n",
              "<style scoped>\n",
              "    .dataframe tbody tr th:only-of-type {\n",
              "        vertical-align: middle;\n",
              "    }\n",
              "\n",
              "    .dataframe tbody tr th {\n",
              "        vertical-align: top;\n",
              "    }\n",
              "\n",
              "    .dataframe thead th {\n",
              "        text-align: right;\n",
              "    }\n",
              "</style>\n",
              "<table border=\"1\" class=\"dataframe\">\n",
              "  <thead>\n",
              "    <tr style=\"text-align: right;\">\n",
              "      <th></th>\n",
              "      <th>노선번호</th>\n",
              "      <th>순번</th>\n",
              "      <th>정류소명</th>\n",
              "      <th>정류소번호</th>\n",
              "      <th>정류소ID</th>\n",
              "      <th>ISC ID</th>\n",
              "      <th>정류소구간거리</th>\n",
              "      <th>정류소간누적거리</th>\n",
              "      <th>주요경유지여부</th>\n",
              "      <th>상/하행</th>\n",
              "      <th>상/하행건수</th>\n",
              "      <th>상/하행총건수</th>\n",
              "      <th>노선번호숫자</th>\n",
              "      <th>노선번호숫자*10</th>\n",
              "    </tr>\n",
              "  </thead>\n",
              "  <tbody>\n",
              "    <tr>\n",
              "      <th>0</th>\n",
              "      <td>302</td>\n",
              "      <td>1</td>\n",
              "      <td>십정동차고지</td>\n",
              "      <td>40913.0</td>\n",
              "      <td>166000913</td>\n",
              "      <td>2807789.0</td>\n",
              "      <td>0.0</td>\n",
              "      <td>0.0</td>\n",
              "      <td>N</td>\n",
              "      <td>상행</td>\n",
              "      <td>NaN</td>\n",
              "      <td>NaN</td>\n",
              "      <td>302.0</td>\n",
              "      <td>3020.0</td>\n",
              "    </tr>\n",
              "  </tbody>\n",
              "</table>\n",
              "</div>"
            ],
            "text/plain": [
              "  노선번호  순번    정류소명    정류소번호      정류소ID  ...  상/하행  상/하행건수  상/하행총건수 노선번호숫자 노선번호숫자*10\n",
              "0  302   1  십정동차고지  40913.0  166000913  ...    상행     NaN      NaN  302.0    3020.0\n",
              "\n",
              "[1 rows x 14 columns]"
            ]
          },
          "metadata": {
            "tags": []
          },
          "execution_count": 49
        }
      ]
    },
    {
      "cell_type": "code",
      "metadata": {
        "colab": {
          "base_uri": "https://localhost:8080/"
        },
        "id": "pFH-GWRhoTmU",
        "outputId": "2c843893-4458-4a38-8da5-f228d30e4bd7"
      },
      "source": [
        "af_last.info()"
      ],
      "execution_count": 50,
      "outputs": [
        {
          "output_type": "stream",
          "text": [
            "<class 'pandas.core.frame.DataFrame'>\n",
            "RangeIndex: 6155 entries, 0 to 6154\n",
            "Data columns (total 10 columns):\n",
            " #   Column         Non-Null Count  Dtype  \n",
            "---  ------         --------------  -----  \n",
            " 0   권역             6155 non-null   object \n",
            " 1   정류소명           6155 non-null   object \n",
            " 2   정류소ID          6145 non-null   float64\n",
            " 3   승차건수(총합계)      6155 non-null   int64  \n",
            " 4   하차건수           6155 non-null   int64  \n",
            " 5   승차건수(카드)       6155 non-null   int64  \n",
            " 6   하차건수(카드)       6155 non-null   int64  \n",
            " 7   승차건수(현금)       6155 non-null   int64  \n",
            " 8   일평균 승하차 건수     6155 non-null   float64\n",
            " 9   일평균 대당 승하차 건수  6155 non-null   object \n",
            "dtypes: float64(2), int64(5), object(3)\n",
            "memory usage: 481.0+ KB\n"
          ],
          "name": "stdout"
        }
      ]
    },
    {
      "cell_type": "code",
      "metadata": {
        "colab": {
          "base_uri": "https://localhost:8080/"
        },
        "id": "pgQgKoF8pJ5e",
        "outputId": "41c40b31-2a5e-4512-fdab-edc4c6ffd180"
      },
      "source": [
        "af_first.info()"
      ],
      "execution_count": 51,
      "outputs": [
        {
          "output_type": "stream",
          "text": [
            "<class 'pandas.core.frame.DataFrame'>\n",
            "RangeIndex: 25459 entries, 0 to 25458\n",
            "Data columns (total 14 columns):\n",
            " #   Column     Non-Null Count  Dtype  \n",
            "---  ------     --------------  -----  \n",
            " 0   노선번호       25459 non-null  object \n",
            " 1   순번         25459 non-null  int64  \n",
            " 2   정류소명       25459 non-null  object \n",
            " 3   정류소번호      25458 non-null  float64\n",
            " 4   정류소ID      25459 non-null  int64  \n",
            " 5   ISC ID     25419 non-null  float64\n",
            " 6   정류소구간거리    25232 non-null  float64\n",
            " 7   정류소간누적거리   25357 non-null  float64\n",
            " 8   주요경유지여부    19930 non-null  object \n",
            " 9   상/하행       25453 non-null  object \n",
            " 10  상/하행건수     0 non-null      float64\n",
            " 11  상/하행총건수    0 non-null      float64\n",
            " 12  노선번호숫자     13763 non-null  float64\n",
            " 13  노선번호숫자*10  13763 non-null  float64\n",
            "dtypes: float64(8), int64(2), object(4)\n",
            "memory usage: 2.7+ MB\n"
          ],
          "name": "stdout"
        }
      ]
    },
    {
      "cell_type": "code",
      "metadata": {
        "colab": {
          "base_uri": "https://localhost:8080/"
        },
        "id": "7mGleUw6pOjO",
        "outputId": "0e022d08-5b66-4f18-a421-2bed450b1262"
      },
      "source": [
        "af_last[\"정류소ID\"].describe()"
      ],
      "execution_count": 52,
      "outputs": [
        {
          "output_type": "execute_result",
          "data": {
            "text/plain": [
              "count     6145.000000\n",
              "mean     46138.002604\n",
              "std      16376.998348\n",
              "min      11002.000000\n",
              "25%      38380.000000\n",
              "50%      40782.000000\n",
              "75%      43373.000000\n",
              "max      92029.000000\n",
              "Name: 정류소ID, dtype: float64"
            ]
          },
          "metadata": {
            "tags": []
          },
          "execution_count": 52
        }
      ]
    },
    {
      "cell_type": "code",
      "metadata": {
        "colab": {
          "base_uri": "https://localhost:8080/"
        },
        "id": "2-ykm_cEpbsP",
        "outputId": "049bff9a-be28-4311-b1c6-f7fb3582ec39"
      },
      "source": [
        "af_first[\"노선번호\"].describe()"
      ],
      "execution_count": 53,
      "outputs": [
        {
          "output_type": "execute_result",
          "data": {
            "text/plain": [
              "count     25459\n",
              "unique      329\n",
              "top       700-1\n",
              "freq        229\n",
              "Name: 노선번호, dtype: object"
            ]
          },
          "metadata": {
            "tags": []
          },
          "execution_count": 53
        }
      ]
    },
    {
      "cell_type": "code",
      "metadata": {
        "colab": {
          "base_uri": "https://localhost:8080/"
        },
        "id": "SNl_f9ENpmSO",
        "outputId": "0bd8695c-f2d2-48e7-8d26-0048eea37942"
      },
      "source": [
        "af_first[\"노선번호숫자\"].describe()"
      ],
      "execution_count": 54,
      "outputs": [
        {
          "output_type": "execute_result",
          "data": {
            "text/plain": [
              "count    13763.000000\n",
              "mean       659.983797\n",
              "std       1748.526482\n",
              "min          1.000000\n",
              "25%         34.000000\n",
              "50%        112.000000\n",
              "75%        569.000000\n",
              "max       9802.000000\n",
              "Name: 노선번호숫자, dtype: float64"
            ]
          },
          "metadata": {
            "tags": []
          },
          "execution_count": 54
        }
      ]
    },
    {
      "cell_type": "code",
      "metadata": {
        "colab": {
          "base_uri": "https://localhost:8080/",
          "height": 113
        },
        "id": "FDF4A6O0ppvh",
        "outputId": "dc3b653e-95d6-4550-ca63-d09b157add3e"
      },
      "source": [
        "af_last.head(1)"
      ],
      "execution_count": 55,
      "outputs": [
        {
          "output_type": "execute_result",
          "data": {
            "text/html": [
              "<div>\n",
              "<style scoped>\n",
              "    .dataframe tbody tr th:only-of-type {\n",
              "        vertical-align: middle;\n",
              "    }\n",
              "\n",
              "    .dataframe tbody tr th {\n",
              "        vertical-align: top;\n",
              "    }\n",
              "\n",
              "    .dataframe thead th {\n",
              "        text-align: right;\n",
              "    }\n",
              "</style>\n",
              "<table border=\"1\" class=\"dataframe\">\n",
              "  <thead>\n",
              "    <tr style=\"text-align: right;\">\n",
              "      <th></th>\n",
              "      <th>권역</th>\n",
              "      <th>정류소명</th>\n",
              "      <th>정류소ID</th>\n",
              "      <th>승차건수(총합계)</th>\n",
              "      <th>하차건수</th>\n",
              "      <th>승차건수(카드)</th>\n",
              "      <th>하차건수(카드)</th>\n",
              "      <th>승차건수(현금)</th>\n",
              "      <th>일평균 승하차 건수</th>\n",
              "      <th>일평균 대당 승하차 건수</th>\n",
              "    </tr>\n",
              "  </thead>\n",
              "  <tbody>\n",
              "    <tr>\n",
              "      <th>0</th>\n",
              "      <td>서구</td>\n",
              "      <td>(구)신현주공</td>\n",
              "      <td>42228.0</td>\n",
              "      <td>106476</td>\n",
              "      <td>74329</td>\n",
              "      <td>101822</td>\n",
              "      <td>74329</td>\n",
              "      <td>4654</td>\n",
              "      <td>495.36</td>\n",
              "      <td>3.16</td>\n",
              "    </tr>\n",
              "  </tbody>\n",
              "</table>\n",
              "</div>"
            ],
            "text/plain": [
              "   권역     정류소명    정류소ID  ...  승차건수(현금)  일평균 승하차 건수  일평균 대당 승하차 건수\n",
              "0  서구  (구)신현주공  42228.0  ...      4654      495.36           3.16\n",
              "\n",
              "[1 rows x 10 columns]"
            ]
          },
          "metadata": {
            "tags": []
          },
          "execution_count": 55
        }
      ]
    },
    {
      "cell_type": "code",
      "metadata": {
        "id": "4-Iiz0-bqCcS"
      },
      "source": [
        "af_last = af_last.drop([\"권역\", \"정류소명\"], axis=1)"
      ],
      "execution_count": 62,
      "outputs": []
    },
    {
      "cell_type": "code",
      "metadata": {
        "colab": {
          "base_uri": "https://localhost:8080/",
          "height": 96
        },
        "id": "No_QUpecp465",
        "outputId": "f02abe3b-c8f4-4c4f-d297-c66b5f8473df"
      },
      "source": [
        "af_last.head(1)"
      ],
      "execution_count": 63,
      "outputs": [
        {
          "output_type": "execute_result",
          "data": {
            "text/html": [
              "<div>\n",
              "<style scoped>\n",
              "    .dataframe tbody tr th:only-of-type {\n",
              "        vertical-align: middle;\n",
              "    }\n",
              "\n",
              "    .dataframe tbody tr th {\n",
              "        vertical-align: top;\n",
              "    }\n",
              "\n",
              "    .dataframe thead th {\n",
              "        text-align: right;\n",
              "    }\n",
              "</style>\n",
              "<table border=\"1\" class=\"dataframe\">\n",
              "  <thead>\n",
              "    <tr style=\"text-align: right;\">\n",
              "      <th></th>\n",
              "      <th>정류소ID</th>\n",
              "      <th>승차건수(총합계)</th>\n",
              "      <th>하차건수</th>\n",
              "      <th>승차건수(카드)</th>\n",
              "      <th>하차건수(카드)</th>\n",
              "      <th>승차건수(현금)</th>\n",
              "      <th>일평균 승하차 건수</th>\n",
              "      <th>일평균 대당 승하차 건수</th>\n",
              "    </tr>\n",
              "  </thead>\n",
              "  <tbody>\n",
              "    <tr>\n",
              "      <th>0</th>\n",
              "      <td>42228.0</td>\n",
              "      <td>106476</td>\n",
              "      <td>74329</td>\n",
              "      <td>101822</td>\n",
              "      <td>74329</td>\n",
              "      <td>4654</td>\n",
              "      <td>495.36</td>\n",
              "      <td>3.16</td>\n",
              "    </tr>\n",
              "  </tbody>\n",
              "</table>\n",
              "</div>"
            ],
            "text/plain": [
              "     정류소ID  승차건수(총합계)   하차건수  ...  승차건수(현금)  일평균 승하차 건수  일평균 대당 승하차 건수\n",
              "0  42228.0     106476  74329  ...      4654      495.36           3.16\n",
              "\n",
              "[1 rows x 8 columns]"
            ]
          },
          "metadata": {
            "tags": []
          },
          "execution_count": 63
        }
      ]
    },
    {
      "cell_type": "code",
      "metadata": {
        "colab": {
          "base_uri": "https://localhost:8080/"
        },
        "id": "MjOunB6Hp6_l",
        "outputId": "f7eeb5dd-a8f2-48df-f775-58100427ca63"
      },
      "source": [
        "af_last.info()\n",
        "# 지우기 전 메모리 사용량 : memory usage: 481.0+ KB\n",
        "# 지운 후 메모리 사용량 : memory usage: 384.8+ KB"
      ],
      "execution_count": 64,
      "outputs": [
        {
          "output_type": "stream",
          "text": [
            "<class 'pandas.core.frame.DataFrame'>\n",
            "RangeIndex: 6155 entries, 0 to 6154\n",
            "Data columns (total 8 columns):\n",
            " #   Column         Non-Null Count  Dtype  \n",
            "---  ------         --------------  -----  \n",
            " 0   정류소ID          6145 non-null   float64\n",
            " 1   승차건수(총합계)      6155 non-null   int64  \n",
            " 2   하차건수           6155 non-null   int64  \n",
            " 3   승차건수(카드)       6155 non-null   int64  \n",
            " 4   하차건수(카드)       6155 non-null   int64  \n",
            " 5   승차건수(현금)       6155 non-null   int64  \n",
            " 6   일평균 승하차 건수     6155 non-null   float64\n",
            " 7   일평균 대당 승하차 건수  6155 non-null   object \n",
            "dtypes: float64(2), int64(5), object(1)\n",
            "memory usage: 384.8+ KB\n"
          ],
          "name": "stdout"
        }
      ]
    },
    {
      "cell_type": "code",
      "metadata": {
        "colab": {
          "base_uri": "https://localhost:8080/"
        },
        "id": "T-hvMmYVqahn",
        "outputId": "d9caf63d-2ac1-4156-b40d-9bc6b657e166"
      },
      "source": [
        "# 정류소ID로 승차건수(총합계)의 평균을 구함\n",
        "# af.groupby([\"인덱스로 사용할 컬럼명\"])[\"계산할 컬럼 값\"].연산()\n",
        "g = af_last.groupby([\"정류소ID\"])[\"승차건수(총합계)\"].mean()\n",
        "g"
      ],
      "execution_count": 14,
      "outputs": [
        {
          "output_type": "execute_result",
          "data": {
            "text/plain": [
              "정류소ID\n",
              "-             2.857143\n",
              "11002      6661.000000\n",
              "11013    568189.000000\n",
              "11014       479.000000\n",
              "11015      2938.000000\n",
              "             ...      \n",
              "92025     23963.000000\n",
              "92026     49140.000000\n",
              "92027      1254.000000\n",
              "92028      1192.000000\n",
              "92029       773.000000\n",
              "Name: 승차건수(총합계), Length: 6149, dtype: float64"
            ]
          },
          "metadata": {
            "tags": []
          },
          "execution_count": 14
        }
      ]
    },
    {
      "cell_type": "code",
      "metadata": {
        "colab": {
          "base_uri": "https://localhost:8080/"
        },
        "id": "-zKU3t_Rq1AW",
        "outputId": "8578d45f-df3d-4010-8a2f-b51178009794"
      },
      "source": [
        "#정류소번호, 정류소ID로 정류소구간거리의 평균을 구함\n",
        "af_first.groupby([\"정류소번호\", \"정류소ID\"])[\"정류소구간거리\"].mean()"
      ],
      "execution_count": 68,
      "outputs": [
        {
          "output_type": "execute_result",
          "data": {
            "text/plain": [
              "정류소번호    정류소ID    \n",
              "0.0      277102916      NaN\n",
              "         277102917      NaN\n",
              "         277102918      NaN\n",
              "         277102919      NaN\n",
              "         277103045      NaN\n",
              "                      ...  \n",
              "92029.0  165001029    321.0\n",
              "92031.0  165001031      NaN\n",
              "92032.0  165001032      NaN\n",
              "92033.0  165001033      NaN\n",
              "92034.0  165001034    280.0\n",
              "Name: 정류소구간거리, Length: 6207, dtype: float64"
            ]
          },
          "metadata": {
            "tags": []
          },
          "execution_count": 68
        }
      ]
    },
    {
      "cell_type": "code",
      "metadata": {
        "colab": {
          "base_uri": "https://localhost:8080/",
          "height": 443
        },
        "id": "rMJtEkRVsApM",
        "outputId": "04f0ee04-d60d-42d5-abd2-210d7c467263"
      },
      "source": [
        "pd.pivot_table(af_last, index=[\"정류소ID\"], values=[\"승차건수(총합계)\"], aggfunc=\"mean\")"
      ],
      "execution_count": 70,
      "outputs": [
        {
          "output_type": "execute_result",
          "data": {
            "text/html": [
              "<div>\n",
              "<style scoped>\n",
              "    .dataframe tbody tr th:only-of-type {\n",
              "        vertical-align: middle;\n",
              "    }\n",
              "\n",
              "    .dataframe tbody tr th {\n",
              "        vertical-align: top;\n",
              "    }\n",
              "\n",
              "    .dataframe thead th {\n",
              "        text-align: right;\n",
              "    }\n",
              "</style>\n",
              "<table border=\"1\" class=\"dataframe\">\n",
              "  <thead>\n",
              "    <tr style=\"text-align: right;\">\n",
              "      <th></th>\n",
              "      <th>승차건수(총합계)</th>\n",
              "    </tr>\n",
              "    <tr>\n",
              "      <th>정류소ID</th>\n",
              "      <th></th>\n",
              "    </tr>\n",
              "  </thead>\n",
              "  <tbody>\n",
              "    <tr>\n",
              "      <th>11002.0</th>\n",
              "      <td>6661</td>\n",
              "    </tr>\n",
              "    <tr>\n",
              "      <th>11013.0</th>\n",
              "      <td>568189</td>\n",
              "    </tr>\n",
              "    <tr>\n",
              "      <th>11014.0</th>\n",
              "      <td>479</td>\n",
              "    </tr>\n",
              "    <tr>\n",
              "      <th>11015.0</th>\n",
              "      <td>2938</td>\n",
              "    </tr>\n",
              "    <tr>\n",
              "      <th>11020.0</th>\n",
              "      <td>2176</td>\n",
              "    </tr>\n",
              "    <tr>\n",
              "      <th>...</th>\n",
              "      <td>...</td>\n",
              "    </tr>\n",
              "    <tr>\n",
              "      <th>92025.0</th>\n",
              "      <td>23963</td>\n",
              "    </tr>\n",
              "    <tr>\n",
              "      <th>92026.0</th>\n",
              "      <td>49140</td>\n",
              "    </tr>\n",
              "    <tr>\n",
              "      <th>92027.0</th>\n",
              "      <td>1254</td>\n",
              "    </tr>\n",
              "    <tr>\n",
              "      <th>92028.0</th>\n",
              "      <td>1192</td>\n",
              "    </tr>\n",
              "    <tr>\n",
              "      <th>92029.0</th>\n",
              "      <td>773</td>\n",
              "    </tr>\n",
              "  </tbody>\n",
              "</table>\n",
              "<p>6145 rows × 1 columns</p>\n",
              "</div>"
            ],
            "text/plain": [
              "         승차건수(총합계)\n",
              "정류소ID             \n",
              "11002.0       6661\n",
              "11013.0     568189\n",
              "11014.0        479\n",
              "11015.0       2938\n",
              "11020.0       2176\n",
              "...            ...\n",
              "92025.0      23963\n",
              "92026.0      49140\n",
              "92027.0       1254\n",
              "92028.0       1192\n",
              "92029.0        773\n",
              "\n",
              "[6145 rows x 1 columns]"
            ]
          },
          "metadata": {
            "tags": []
          },
          "execution_count": 70
        }
      ]
    },
    {
      "cell_type": "code",
      "metadata": {
        "colab": {
          "base_uri": "https://localhost:8080/"
        },
        "id": "OF5A4FbQshDN",
        "outputId": "b9d1c9aa-d1cb-487b-a6a7-b7ae01d1d9d0"
      },
      "source": [
        "#af_first.groupby([\"정류소번호\", \"정류소ID\"])[\"정류소구간거리\"].mean() 다른 값이 나옴\n",
        "pd.pivot_table(af_first, index=\"정류소ID\",columns=\"정류소번호\", values=\"정류소구간거리\").mean()"
      ],
      "execution_count": 76,
      "outputs": [
        {
          "output_type": "execute_result",
          "data": {
            "text/plain": [
              "정류소번호\n",
              "11002.0    1393.090909\n",
              "11013.0    1312.916667\n",
              "11014.0     242.000000\n",
              "11015.0     470.000000\n",
              "11020.0     242.000000\n",
              "              ...     \n",
              "92026.0    1233.666667\n",
              "92027.0     748.500000\n",
              "92028.0     746.000000\n",
              "92029.0     321.000000\n",
              "92034.0     280.000000\n",
              "Length: 6143, dtype: float64"
            ]
          },
          "metadata": {
            "tags": []
          },
          "execution_count": 76
        }
      ]
    },
    {
      "cell_type": "code",
      "metadata": {
        "colab": {
          "base_uri": "https://localhost:8080/"
        },
        "id": "tmI5f0ZTvkqU",
        "outputId": "e46ab6e0-ce4f-4259-a7d0-cfc79ba72d6e"
      },
      "source": [
        "!sudo apt-get install -y fonts-nanum\n",
        "!sudo fc-cache -fv\n",
        "!rm ~/.cache/matplotlib -rf"
      ],
      "execution_count": 83,
      "outputs": [
        {
          "output_type": "stream",
          "text": [
            "Reading package lists... Done\n",
            "Building dependency tree       \n",
            "Reading state information... Done\n",
            "The following NEW packages will be installed:\n",
            "  fonts-nanum\n",
            "0 upgraded, 1 newly installed, 0 to remove and 14 not upgraded.\n",
            "Need to get 9,604 kB of archives.\n",
            "After this operation, 29.5 MB of additional disk space will be used.\n",
            "Get:1 http://archive.ubuntu.com/ubuntu bionic/universe amd64 fonts-nanum all 20170925-1 [9,604 kB]\n",
            "Fetched 9,604 kB in 2s (5,518 kB/s)\n",
            "debconf: unable to initialize frontend: Dialog\n",
            "debconf: (No usable dialog-like program is installed, so the dialog based frontend cannot be used. at /usr/share/perl5/Debconf/FrontEnd/Dialog.pm line 76, <> line 1.)\n",
            "debconf: falling back to frontend: Readline\n",
            "debconf: unable to initialize frontend: Readline\n",
            "debconf: (This frontend requires a controlling tty.)\n",
            "debconf: falling back to frontend: Teletype\n",
            "dpkg-preconfigure: unable to re-open stdin: \n",
            "Selecting previously unselected package fonts-nanum.\n",
            "(Reading database ... 144793 files and directories currently installed.)\n",
            "Preparing to unpack .../fonts-nanum_20170925-1_all.deb ...\n",
            "Unpacking fonts-nanum (20170925-1) ...\n",
            "Setting up fonts-nanum (20170925-1) ...\n",
            "Processing triggers for fontconfig (2.12.6-0ubuntu2) ...\n",
            "/usr/share/fonts: caching, new cache contents: 0 fonts, 1 dirs\n",
            "/usr/share/fonts/truetype: caching, new cache contents: 0 fonts, 3 dirs\n",
            "/usr/share/fonts/truetype/humor-sans: caching, new cache contents: 1 fonts, 0 dirs\n",
            "/usr/share/fonts/truetype/liberation: caching, new cache contents: 16 fonts, 0 dirs\n",
            "/usr/share/fonts/truetype/nanum: caching, new cache contents: 10 fonts, 0 dirs\n",
            "/usr/local/share/fonts: caching, new cache contents: 0 fonts, 0 dirs\n",
            "/root/.local/share/fonts: skipping, no such directory\n",
            "/root/.fonts: skipping, no such directory\n",
            "/var/cache/fontconfig: cleaning cache directory\n",
            "/root/.cache/fontconfig: not cleaning non-existent cache directory\n",
            "/root/.fontconfig: not cleaning non-existent cache directory\n",
            "fc-cache: succeeded\n"
          ],
          "name": "stdout"
        }
      ]
    },
    {
      "cell_type": "code",
      "metadata": {
        "id": "p1yKvHCstAMp"
      },
      "source": [
        "import matplotlib.pyplot as plt\n",
        "plt.rc(\"font\", family=\"NanumBarunGothic\")"
      ],
      "execution_count": 1,
      "outputs": []
    },
    {
      "cell_type": "code",
      "metadata": {
        "colab": {
          "base_uri": "https://localhost:8080/",
          "height": 307
        },
        "id": "NlBcQJrqucj8",
        "outputId": "47ed1beb-a63c-488b-dece-ea68b70c5de5"
      },
      "source": [
        "g = af_last.groupby([\"정류소ID\"])[\"승차건수(총합계)\"].mean().sort_values(ascending=False)\n",
        "g.plot()"
      ],
      "execution_count": 15,
      "outputs": [
        {
          "output_type": "execute_result",
          "data": {
            "text/plain": [
              "<matplotlib.axes._subplots.AxesSubplot at 0x7facda4862e8>"
            ]
          },
          "metadata": {
            "tags": []
          },
          "execution_count": 15
        },
        {
          "output_type": "display_data",
          "data": {
            "image/png": "[encoded data removed]",
            "text/plain": [
              "<Figure size 432x288 with 1 Axes>"
            ]
          },
          "metadata": {
            "tags": [],
            "needs_background": "light"
          }
        }
      ]
    },
    {
      "cell_type": "code",
      "metadata": {
        "id": "hFk5FgX0w5f7"
      },
      "source": [
        ""
      ],
      "execution_count": null,
      "outputs": []
    }
  ]
}